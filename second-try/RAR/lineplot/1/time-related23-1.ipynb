{
 "cells": [
  {
   "cell_type": "code",
   "execution_count": 1,
   "id": "fda4952d",
   "metadata": {},
   "outputs": [
    {
     "name": "stderr",
     "output_type": "stream",
     "text": [
      "Using backend: tensorflow.compat.v1\n",
      "\n"
     ]
    },
    {
     "name": "stdout",
     "output_type": "stream",
     "text": [
      "WARNING:tensorflow:From /Users/zhangtianjie/opt/anaconda3/envs/tf/lib/python3.7/site-packages/tensorflow/python/compat/v2_compat.py:107: disable_resource_variables (from tensorflow.python.ops.variable_scope) is deprecated and will be removed in a future version.\n",
      "Instructions for updating:\n",
      "non-resource variables are not supported in the long term\n",
      "WARNING:tensorflow:From /Users/zhangtianjie/opt/anaconda3/envs/tf/lib/python3.7/site-packages/deepxde/nn/initializers.py:118: The name tf.keras.initializers.he_normal is deprecated. Please use tf.compat.v1.keras.initializers.he_normal instead.\n",
      "\n"
     ]
    }
   ],
   "source": [
    "import deepxde as dde\n",
    "import numpy as np\n",
    "import matplotlib.pyplot as plt\n",
    "import matplotlib.gridspec as gridspec\n",
    "from scipy.interpolate import griddata\n",
    "import scipy.io\n",
    "import tensorflow as tf"
   ]
  },
  {
   "cell_type": "code",
   "execution_count": 2,
   "id": "3ca45582",
   "metadata": {},
   "outputs": [],
   "source": [
    "from PIL import Image\n",
    "\n",
    "import numpy as np\n",
    "import torch\n",
    "import torch.nn as nn\n",
    "import matplotlib.pyplot as plt\n",
    "import torch\n",
    "import math\n",
    "import pandas as pd"
   ]
  },
  {
   "cell_type": "code",
   "execution_count": 3,
   "id": "98525ec5",
   "metadata": {},
   "outputs": [],
   "source": [
    "def bingham(y):\n",
    "    #shear stress: t\n",
    "    #shear rate:y\n",
    "    y_f = 12.1\n",
    "    A_0 = 43.6    \n",
    "    A_1 =131.2    \n",
    "    C = 56.1\n",
    "    lam=1\n",
    "    t = y_f+(A_0+(A_1-A_0)*lam)*(np.arcsinh(y/C))\n",
    "    return t\n",
    "\n",
    "class FCN(nn.Module):\n",
    "    \"Defines a connected network\"\n",
    "    \n",
    "    def __init__(self, N_INPUT, N_OUTPUT, N_HIDDEN, N_LAYERS):\n",
    "        super().__init__()\n",
    "        activation = nn.Tanh\n",
    "        self.fcs = nn.Sequential(*[\n",
    "                        nn.Linear(N_INPUT, N_HIDDEN),\n",
    "                        activation()])\n",
    "        self.fch = nn.Sequential(*[\n",
    "                        nn.Sequential(*[\n",
    "                            nn.Linear(N_HIDDEN, N_HIDDEN),\n",
    "                            activation()]) for _ in range(N_LAYERS-1)])\n",
    "        self.fce = nn.Linear(N_HIDDEN, N_OUTPUT)\n",
    "        \n",
    "    def forward(self, x):\n",
    "        x = self.fcs(x)\n",
    "        x = self.fch(x)\n",
    "        x = self.fce(x)\n",
    "        return x"
   ]
  },
  {
   "cell_type": "code",
   "execution_count": 4,
   "id": "1269a622",
   "metadata": {
    "scrolled": false
   },
   "outputs": [
    {
     "name": "stdout",
     "output_type": "stream",
     "text": [
      "Compiling model...\n",
      "Building feed-forward neural network...\n",
      "'build' took 0.047296 s\n",
      "\n",
      "'compile' took 0.165696 s\n",
      "\n",
      "Initializing variables...\n"
     ]
    },
    {
     "name": "stderr",
     "output_type": "stream",
     "text": [
      "/Users/zhangtianjie/opt/anaconda3/envs/tf/lib/python3.7/site-packages/deepxde/nn/tensorflow_compat_v1/fnn.py:110: UserWarning: `tf.layers.dense` is deprecated and will be removed in a future version. Please use `tf.keras.layers.Dense` instead.\n",
      "  kernel_constraint=self.kernel_constraint,\n",
      "2022-10-09 19:20:41.386282: I tensorflow/core/platform/cpu_feature_guard.cc:193] This TensorFlow binary is optimized with oneAPI Deep Neural Network Library (oneDNN) to use the following CPU instructions in performance-critical operations:  AVX2 FMA\n",
      "To enable them in other operations, rebuild TensorFlow with the appropriate compiler flags.\n",
      "2022-10-09 19:20:41.508556: I tensorflow/compiler/mlir/mlir_graph_optimization_pass.cc:354] MLIR V1 optimization pass is not enabled\n",
      "2022-10-09 19:20:41.539247: W tensorflow/compiler/jit/mark_for_compilation_pass.cc:1750] (One-time warning): Not using XLA:CPU for cluster.\n",
      "\n",
      "If you want XLA:CPU, do one of the following:\n",
      "\n",
      " - set the TF_XLA_FLAGS to include \"--tf_xla_cpu_global_jit\", or\n",
      " - set cpu_global_jit to true on this session's OptimizerOptions, or\n",
      " - use experimental_jit_scope, or\n",
      " - use tf.function(jit_compile=True).\n",
      "\n",
      "To confirm that XLA is active, pass --vmodule=xla_compilation_cache=1 (as a\n",
      "proper command-line flag, not via TF_XLA_FLAGS).\n"
     ]
    },
    {
     "name": "stdout",
     "output_type": "stream",
     "text": [
      "Training model...\n",
      "\n",
      "Step      Train loss    Test loss     Test metric   \n",
      "0         [3.27e+04]    [3.49e+04]    [9.95e-01]    \n",
      "1000      [1.76e+04]    [1.88e+04]    [7.29e-01]    \n",
      "2000      [9.91e+03]    [1.04e+04]    [5.44e-01]    \n",
      "3000      [5.31e+03]    [5.46e+03]    [3.94e-01]    \n",
      "4000      [2.67e+03]    [2.60e+03]    [2.72e-01]    \n",
      "5000      [1.22e+03]    [1.09e+03]    [1.76e-01]    \n",
      "6000      [5.00e+02]    [3.84e+02]    [1.04e-01]    \n",
      "7000      [1.74e+02]    [1.05e+02]    [5.46e-02]    \n",
      "8000      [4.90e+01]    [2.04e+01]    [2.41e-02]    \n",
      "9000      [1.02e+01]    [2.67e+00]    [8.70e-03]    \n",
      "10000     [1.13e+00]    [5.65e-01]    [4.00e-03]    \n",
      "11000     [1.44e-01]    [5.06e-01]    [3.79e-03]    \n",
      "12000     [3.61e-02]    [4.28e-01]    [3.49e-03]    \n",
      "13000     [3.65e-01]    [6.72e-01]    [4.36e-03]    \n",
      "14000     [1.08e-03]    [2.54e-01]    [2.68e-03]    \n",
      "15000     [3.62e-04]    [2.17e-01]    [2.48e-03]    \n",
      "16000     [1.54e-04]    [1.83e-01]    [2.28e-03]    \n",
      "17000     [7.59e-05]    [1.58e-01]    [2.12e-03]    \n",
      "18000     [9.17e-05]    [1.35e-01]    [1.96e-03]    \n",
      "19000     [6.13e-04]    [1.17e-01]    [1.82e-03]    \n",
      "20000     [3.09e-03]    [1.03e-01]    [1.71e-03]    \n",
      "21000     [1.47e+00]    [1.83e+00]    [7.20e-03]    \n",
      "22000     [6.16e-05]    [7.90e-02]    [1.50e-03]    \n",
      "23000     [5.07e-05]    [6.95e-02]    [1.40e-03]    \n",
      "24000     [5.42e-05]    [6.21e-02]    [1.33e-03]    \n",
      "25000     [6.33e-05]    [5.59e-02]    [1.26e-03]    \n",
      "26000     [5.51e-02]    [1.17e-01]    [1.82e-03]    \n",
      "27000     [8.48e-05]    [4.57e-02]    [1.14e-03]    \n",
      "28000     [6.46e-02]    [1.19e-01]    [1.83e-03]    \n",
      "29000     [9.43e-05]    [3.92e-02]    [1.05e-03]    \n",
      "30000     [2.88e-02]    [7.65e-02]    [1.47e-03]    \n",
      "31000     [1.20e-03]    [3.84e-02]    [1.04e-03]    \n",
      "32000     [3.79e-01]    [5.10e-01]    [3.80e-03]    \n",
      "33000     [1.80e-04]    [3.43e-02]    [9.86e-04]    \n",
      "34000     [1.31e-03]    [3.60e-02]    [1.01e-03]    \n",
      "35000     [3.58e-03]    [3.87e-02]    [1.05e-03]    \n",
      "36000     [8.38e-04]    [3.39e-02]    [9.81e-04]    \n",
      "37000     [1.11e-04]    [3.33e-02]    [9.72e-04]    \n",
      "38000     [4.82e-04]    [3.33e-02]    [9.71e-04]    \n",
      "39000     [4.54e-02]    [8.25e-02]    [1.53e-03]    \n",
      "40000     [1.36e-01]    [2.05e-01]    [2.41e-03]    \n",
      "41000     [4.75e-04]    [3.33e-02]    [9.71e-04]    \n",
      "42000     [7.59e-03]    [4.18e-02]    [1.09e-03]    \n",
      "43000     [1.32e-02]    [4.84e-02]    [1.17e-03]    \n",
      "44000     [1.31e-04]    [3.42e-02]    [9.85e-04]    \n",
      "45000     [1.39e-02]    [5.28e-02]    [1.22e-03]    \n",
      "46000     [7.32e-02]    [1.24e-01]    [1.88e-03]    \n",
      "47000     [1.42e-04]    [3.86e-02]    [1.05e-03]    \n",
      "48000     [7.40e-03]    [4.82e-02]    [1.17e-03]    \n",
      "49000     [2.30e-02]    [7.03e-02]    [1.41e-03]    \n",
      "50000     [1.19e-01]    [1.93e-01]    [2.34e-03]    \n",
      "\n",
      "Best model at step 23000:\n",
      "  train loss: 5.07e-05\n",
      "  test loss: 6.95e-02\n",
      "  test metric: [1.40e-03]\n",
      "\n",
      "'train' took 20.041321 s\n",
      "\n",
      "Saving loss history to /Users/zhangtianjie/Documents/GitHub/PINN/classic_PDE/time-related/RheologyNet_paper/equation23_0.40-2/lineplot/1/loss.dat ...\n",
      "Saving training data to /Users/zhangtianjie/Documents/GitHub/PINN/classic_PDE/time-related/RheologyNet_paper/equation23_0.40-2/lineplot/1/train.dat ...\n",
      "Saving test data to /Users/zhangtianjie/Documents/GitHub/PINN/classic_PDE/time-related/RheologyNet_paper/equation23_0.40-2/lineplot/1/test.dat ...\n"
     ]
    },
    {
     "data": {
      "image/png": "[encoded data removed]",
      "text/plain": [
       "<Figure size 432x288 with 1 Axes>"
      ]
     },
     "metadata": {
      "needs_background": "light"
     },
     "output_type": "display_data"
    },
    {
     "data": {
      "image/png": "[encoded data removed]",
      "text/plain": [
       "<Figure size 432x288 with 1 Axes>"
      ]
     },
     "metadata": {
      "needs_background": "light"
     },
     "output_type": "display_data"
    }
   ],
   "source": [
    "def PDE(x,y):\n",
    "    #shear stress: t\n",
    "    #shear rate:y\n",
    "    y_f = 12.1\n",
    "    A_0 = 43.6\n",
    "    \n",
    "    A_1 =131.2\n",
    "    \n",
    "    C = 56.1\n",
    "\n",
    "    lam=1\n",
    "    \n",
    "    \n",
    "    eq1 = y_f+(A_0+(A_1-A_0)*lam)*(tf.math.asinh(x/C))-y\n",
    "    \n",
    "#     eq2 = y_f+(A_0)*(tf.math.asinh(x/C))-y[:,1:2]\n",
    "\n",
    "    \n",
    "    \n",
    "    return eq1\n",
    "\n",
    "def func(x):\n",
    "    \n",
    "    return bingham(x)\n",
    "\n",
    "geom = dde.geometry.TimeDomain(0, 200)\n",
    "data = dde.data.TimePDE(geom, PDE, [], 35, 10,train_distribution='pseudo',solution=func, num_test=1000)\n",
    "\n",
    "layer_size = [1] + [50] * 3 + [1]\n",
    "activation = \"tanh\"\n",
    "initializer = \"Glorot uniform\"\n",
    "net = dde.maps.FNN(layer_size, activation, initializer)\n",
    "\n",
    "model = dde.Model(data, net)\n",
    "model.compile(\"adam\", lr=0.001, metrics=[\"l2 relative error\"])\n",
    "losshistory, train_state = model.train(epochs=50000)\n",
    "\n",
    "dde.saveplot(losshistory, train_state, issave=True, isplot=True)"
   ]
  },
  {
   "cell_type": "code",
   "execution_count": 5,
   "id": "a4dcd15d",
   "metadata": {},
   "outputs": [
    {
     "name": "stdout",
     "output_type": "stream",
     "text": [
      "tensor([[1.9980e-01, 3.9960e-01, 5.9940e-01,  ..., 1.9940e+02, 1.9960e+02,\n",
      "         1.9980e+02],\n",
      "        [1.2567e+01, 1.3035e+01, 1.3502e+01,  ..., 2.7195e+02, 2.7208e+02,\n",
      "         2.7220e+02],\n",
      "        [1.2660e+01, 1.3155e+01, 1.3591e+01,  ..., 2.7216e+02, 2.7222e+02,\n",
      "         2.7227e+02]], dtype=torch.float64)\n"
     ]
    },
    {
     "data": {
      "text/plain": [
       "0.0694685435544734"
      ]
     },
     "execution_count": 5,
     "metadata": {},
     "output_type": "execute_result"
    }
   ],
   "source": [
    "train0=np.loadtxt('train.dat', unpack = True)\n",
    "train = torch.from_numpy(train0)\n",
    "test0=np.loadtxt('test.dat', unpack = True)\n",
    "test = torch.from_numpy(test0)\n",
    "print(test)\n",
    "\n",
    "from sklearn.metrics import mean_squared_error\n",
    "mean_squared_error(test[1].detach().numpy(),test[2].detach().numpy())"
   ]
  },
  {
   "cell_type": "code",
   "execution_count": 6,
   "id": "7226a12e",
   "metadata": {},
   "outputs": [
    {
     "data": {
      "image/png": "[encoded data removed]",
      "text/plain": [
       "<Figure size 432x288 with 1 Axes>"
      ]
     },
     "metadata": {
      "needs_background": "light"
     },
     "output_type": "display_data"
    }
   ],
   "source": [
    "# get the analytical solution over the full domain\n",
    "x = torch.linspace(0,200,2000).view(-1,1)\n",
    "y = bingham(x).view(-1,1)\n",
    "# # slice out a small number of points from the LHS of the domain\n",
    "x_train = x[0:100:5]\n",
    "# y_train = y[0:100:5]\n",
    "#print(x_train)\n",
    "\n",
    "plt.figure()\n",
    "plt.plot(x, y, label=\"Exact solution\")\n",
    "plt.scatter(train[0].view(-1,1), train[1].view(-1,1), color=\"tab:orange\", label=\"Training data\")\n",
    "plt.legend()\n",
    "plt.show()"
   ]
  },
  {
   "cell_type": "code",
   "execution_count": 7,
   "id": "18902771",
   "metadata": {
    "scrolled": false
   },
   "outputs": [
    {
     "name": "stdout",
     "output_type": "stream",
     "text": [
      "=====epochs===== 0\n",
      "=====epochs===== 10000\n",
      "=====epochs===== 20000\n",
      "=====epochs===== 30000\n",
      "=====epochs===== 40000\n"
     ]
    }
   ],
   "source": [
    "torch.manual_seed(123)\n",
    "model = FCN(1,1,50,5)\n",
    "optimizer = torch.optim.Adam(model.parameters(),lr=1e-3)\n",
    "files = []\n",
    "losses = []\n",
    "for i in range(50000):\n",
    "    \n",
    "    if i%10000==0:\n",
    "        print('=====epochs=====',i)\n",
    "    optimizer.zero_grad()\n",
    "    yh = model(train[0].view(-1,1).float())\n",
    "    loss = torch.mean((yh-train[1].view(-1,1).float())**2)# use mean squared error\n",
    "    loss.backward()\n",
    "    optimizer.step()\n",
    "    \n",
    "    losses.append(loss.detach().numpy())"
   ]
  },
  {
   "cell_type": "code",
   "execution_count": 8,
   "id": "fe2378af",
   "metadata": {},
   "outputs": [],
   "source": [
    "x_test = test[0].view(-1,1).float()\n",
    "y_test=model(x_test)"
   ]
  },
  {
   "cell_type": "code",
   "execution_count": 9,
   "id": "61a042ca",
   "metadata": {},
   "outputs": [
    {
     "data": {
      "image/png": "[encoded data removed]",
      "text/plain": [
       "<Figure size 432x288 with 1 Axes>"
      ]
     },
     "metadata": {
      "needs_background": "light"
     },
     "output_type": "display_data"
    }
   ],
   "source": [
    "#plt.figure(figsize=(4,4))\n",
    "\n",
    "plt.plot(x_test.detach().numpy(),y_test.detach().numpy(), color=\"tab:blue\", linewidth=2, alpha=0.8, label=\"Neural network prediction\")\n",
    "plt.plot(x,y, '--r', label=\"Exact solution\")\n",
    "# plt.scatter(train[0].detach().numpy(), train[1].detach().numpy(), s=30, color=\"green\", alpha=0.4, label='Training data')\n",
    "plt.legend()\n",
    "# plt.ylim((0,1400))\n",
    "plt.title('Neural Network Prediction')\n",
    "plt.xlabel('Shear rate')\n",
    "plt.ylabel('Shear stress')\n",
    "# plt.yscale('log')\n",
    "# plt.xscale('log')\n",
    "nndata=pd.DataFrame(x_test.detach().numpy())\n",
    "nndata[1]=pd.DataFrame(y_test.detach().numpy())\n",
    "nndata.to_csv('nntest.csv')\n",
    "plt.savefig('NN.png',dpi=600,bbox_inches = 'tight')"
   ]
  },
  {
   "cell_type": "code",
   "execution_count": 10,
   "id": "bdc60610",
   "metadata": {
    "scrolled": true
   },
   "outputs": [
    {
     "data": {
      "text/plain": [
       "Text(0, 0.5, 'Loss')"
      ]
     },
     "execution_count": 10,
     "metadata": {},
     "output_type": "execute_result"
    },
    {
     "data": {
      "image/png": "[encoded data removed]",
      "text/plain": [
       "<Figure size 288x288 with 1 Axes>"
      ]
     },
     "metadata": {
      "needs_background": "light"
     },
     "output_type": "display_data"
    }
   ],
   "source": [
    "import pandas as pd\n",
    "plt.figure(figsize=(4,4))\n",
    "losses1=pd.DataFrame(losses)\n",
    "losses1.to_csv('nnloss.csv')\n",
    "#x= np.linspace(0, 13000, 15)\n",
    "plt.plot(losses1)#,label='loss')\n",
    "#plt.legend()\n",
    "plt.yscale('log')\n",
    "#plt.ylim(1e-9,1e6)\n",
    "plt.title('Traning Procedure')\n",
    "plt.xlabel('Epoch')\n",
    "plt.ylabel('Loss')\n"
   ]
  },
  {
   "cell_type": "code",
   "execution_count": 11,
   "id": "ed6169f8",
   "metadata": {},
   "outputs": [
    {
     "data": {
      "text/plain": [
       "1.4661053637971881"
      ]
     },
     "execution_count": 11,
     "metadata": {},
     "output_type": "execute_result"
    }
   ],
   "source": [
    "from sklearn.metrics import mean_squared_error\n",
    "mean_squared_error(test[2].detach().numpy(),y_test.detach().numpy())"
   ]
  },
  {
   "cell_type": "code",
   "execution_count": null,
   "id": "65ada995",
   "metadata": {},
   "outputs": [],
   "source": []
  },
  {
   "cell_type": "code",
   "execution_count": null,
   "id": "577af372",
   "metadata": {},
   "outputs": [],
   "source": []
  },
  {
   "cell_type": "code",
   "execution_count": 12,
   "id": "0c8ac167",
   "metadata": {},
   "outputs": [],
   "source": [
    "# import pandas as pd\n",
    "# test1=np.loadtxt('test.dat', unpack = True)\n",
    "# f = pd.DataFrame(test1.T, columns = ['x','y','z'])\n",
    "# f"
   ]
  },
  {
   "cell_type": "code",
   "execution_count": 13,
   "id": "437659ac",
   "metadata": {},
   "outputs": [],
   "source": [
    "# x = torch.linspace(0,200,20).view(-1,1)\n",
    "# y = bingham(x).view(-1,1)"
   ]
  },
  {
   "cell_type": "code",
   "execution_count": 14,
   "id": "21f8c03a",
   "metadata": {},
   "outputs": [],
   "source": [
    "# plt.plot(f['x'],f['y'])\n",
    "\n",
    "# plt.plot(x, y,'--r', label=\"Exact solution\")\n",
    "\n"
   ]
  },
  {
   "cell_type": "code",
   "execution_count": null,
   "id": "3e72f993",
   "metadata": {},
   "outputs": [],
   "source": []
  },
  {
   "cell_type": "code",
   "execution_count": 15,
   "id": "8fd96382",
   "metadata": {},
   "outputs": [],
   "source": [
    "# train=np.loadtxt('train.dat', unpack = True)\n",
    "# train1 = pd.DataFrame(train.T)\n",
    "# train1"
   ]
  },
  {
   "cell_type": "code",
   "execution_count": 16,
   "id": "2d822e75",
   "metadata": {},
   "outputs": [],
   "source": [
    "# plt.plot(f['x'],f['y'],c='black')\n",
    "\n",
    "# # plt.plot(x, y,'--r', label=\"Exact solution\")\n",
    "\n",
    "# plt.scatter(xnn.detach().numpy(),y_test.detach().numpy(),marker='o', color=\"tab:blue\", linewidth=0.2, alpha=0.8, label=\"Neural network prediction\")\n",
    "# plt.plot(x, y,'--r', label=\"Exact solution\")\n",
    "# #plt.scatter(train1[0],train1[1])"
   ]
  },
  {
   "cell_type": "code",
   "execution_count": 17,
   "id": "b2cb6465",
   "metadata": {},
   "outputs": [],
   "source": [
    "# loss=np.loadtxt('loss.dat', unpack = True)\n",
    "# loss1 = pd.DataFrame(loss.T)\n",
    "# loss1\n",
    "\n",
    "# plt.plot(loss1[0],loss1[1],label='Train Loss')\n",
    "# plt.plot(loss1[0],loss1[2],label='Test Loss')\n",
    "# plt.plot(loss1[0],loss1[3],label='Test Metric')\n",
    "# plt.yscale('log')\n",
    "# plt.xlabel('Epochs')\n",
    "\n",
    "# plt.legend()"
   ]
  },
  {
   "cell_type": "code",
   "execution_count": null,
   "id": "dc149ca6",
   "metadata": {},
   "outputs": [],
   "source": []
  }
 ],
 "metadata": {
  "kernelspec": {
   "display_name": "Python 3 (ipykernel)",
   "language": "python",
   "name": "python3"
  },
  "language_info": {
   "codemirror_mode": {
    "name": "ipython",
    "version": 3
   },
   "file_extension": ".py",
   "mimetype": "text/x-python",
   "name": "python",
   "nbconvert_exporter": "python",
   "pygments_lexer": "ipython3",
   "version": "3.7.7"
  }
 },
 "nbformat": 4,
 "nbformat_minor": 5
}
