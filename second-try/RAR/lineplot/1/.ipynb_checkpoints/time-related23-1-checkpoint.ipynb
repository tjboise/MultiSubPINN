{
 "cells": [
  {
   "cell_type": "code",
   "execution_count": 1,
   "id": "fda4952d",
   "metadata": {},
   "outputs": [
    {
     "name": "stderr",
     "output_type": "stream",
     "text": [
      "Using backend: tensorflow.compat.v1\n",
      "\n"
     ]
    },
    {
     "name": "stdout",
     "output_type": "stream",
     "text": [
      "WARNING:tensorflow:From /Users/zhangtianjie/opt/anaconda3/envs/tf/lib/python3.7/site-packages/tensorflow/python/compat/v2_compat.py:107: disable_resource_variables (from tensorflow.python.ops.variable_scope) is deprecated and will be removed in a future version.\n",
      "Instructions for updating:\n",
      "non-resource variables are not supported in the long term\n",
      "WARNING:tensorflow:From /Users/zhangtianjie/opt/anaconda3/envs/tf/lib/python3.7/site-packages/deepxde/nn/initializers.py:118: The name tf.keras.initializers.he_normal is deprecated. Please use tf.compat.v1.keras.initializers.he_normal instead.\n",
      "\n"
     ]
    }
   ],
   "source": [
    "import deepxde as dde\n",
    "import numpy as np\n",
    "import matplotlib.pyplot as plt\n",
    "import matplotlib.gridspec as gridspec\n",
    "from scipy.interpolate import griddata\n",
    "import scipy.io\n",
    "import tensorflow as tf"
   ]
  },
  {
   "cell_type": "code",
   "execution_count": 2,
   "id": "3ca45582",
   "metadata": {},
   "outputs": [],
   "source": [
    "from PIL import Image\n",
    "\n",
    "import numpy as np\n",
    "import torch\n",
    "import torch.nn as nn\n",
    "import matplotlib.pyplot as plt\n",
    "import torch\n",
    "import math\n",
    "import pandas as pd"
   ]
  },
  {
   "cell_type": "code",
   "execution_count": 3,
   "id": "98525ec5",
   "metadata": {},
   "outputs": [],
   "source": [
    "def bingham(y):\n",
    "    #shear stress: t\n",
    "    #shear rate:y\n",
    "    y_f = 12.1\n",
    "    A_0 = 43.6    \n",
    "    A_1 =131.2    \n",
    "    C = 56.1\n",
    "    lam=1\n",
    "    t = y_f+(A_0+(A_1-A_0)*lam)*(np.arcsinh(y/C))\n",
    "    return t\n",
    "\n",
    "class FCN(nn.Module):\n",
    "    \"Defines a connected network\"\n",
    "    \n",
    "    def __init__(self, N_INPUT, N_OUTPUT, N_HIDDEN, N_LAYERS):\n",
    "        super().__init__()\n",
    "        activation = nn.Tanh\n",
    "        self.fcs = nn.Sequential(*[\n",
    "                        nn.Linear(N_INPUT, N_HIDDEN),\n",
    "                        activation()])\n",
    "        self.fch = nn.Sequential(*[\n",
    "                        nn.Sequential(*[\n",
    "                            nn.Linear(N_HIDDEN, N_HIDDEN),\n",
    "                            activation()]) for _ in range(N_LAYERS-1)])\n",
    "        self.fce = nn.Linear(N_HIDDEN, N_OUTPUT)\n",
    "        \n",
    "    def forward(self, x):\n",
    "        x = self.fcs(x)\n",
    "        x = self.fch(x)\n",
    "        x = self.fce(x)\n",
    "        return x"
   ]
  },
  {
   "cell_type": "code",
   "execution_count": null,
   "id": "1269a622",
   "metadata": {
    "scrolled": false
   },
   "outputs": [
    {
     "name": "stdout",
     "output_type": "stream",
     "text": [
      "Compiling model...\n",
      "Building feed-forward neural network...\n",
      "'build' took 0.061225 s\n",
      "\n"
     ]
    },
    {
     "name": "stderr",
     "output_type": "stream",
     "text": [
      "/Users/zhangtianjie/opt/anaconda3/envs/tf/lib/python3.7/site-packages/skopt/sampler/sobol.py:250: UserWarning: The balance properties of Sobol' points require n to be a power of 2. 0 points have been previously generated, then: n=0+27=27. \n",
      "  total_n_samples))\n",
      "/Users/zhangtianjie/opt/anaconda3/envs/tf/lib/python3.7/site-packages/deepxde/nn/tensorflow_compat_v1/fnn.py:110: UserWarning: `tf.layers.dense` is deprecated and will be removed in a future version. Please use `tf.keras.layers.Dense` instead.\n",
      "  kernel_constraint=self.kernel_constraint,\n",
      "2022-09-01 10:31:26.097974: I tensorflow/core/platform/cpu_feature_guard.cc:193] This TensorFlow binary is optimized with oneAPI Deep Neural Network Library (oneDNN) to use the following CPU instructions in performance-critical operations:  AVX2 FMA\n",
      "To enable them in other operations, rebuild TensorFlow with the appropriate compiler flags.\n"
     ]
    },
    {
     "name": "stdout",
     "output_type": "stream",
     "text": [
      "'compile' took 0.212908 s\n",
      "\n",
      "Initializing variables...\n",
      "Training model...\n",
      "\n"
     ]
    },
    {
     "name": "stderr",
     "output_type": "stream",
     "text": [
      "2022-09-01 10:31:26.262534: I tensorflow/compiler/mlir/mlir_graph_optimization_pass.cc:354] MLIR V1 optimization pass is not enabled\n",
      "2022-09-01 10:31:26.394103: W tensorflow/compiler/jit/mark_for_compilation_pass.cc:1750] (One-time warning): Not using XLA:CPU for cluster.\n",
      "\n",
      "If you want XLA:CPU, do one of the following:\n",
      "\n",
      " - set the TF_XLA_FLAGS to include \"--tf_xla_cpu_global_jit\", or\n",
      " - set cpu_global_jit to true on this session's OptimizerOptions, or\n",
      " - use experimental_jit_scope, or\n",
      " - use tf.function(jit_compile=True).\n",
      "\n",
      "To confirm that XLA is active, pass --vmodule=xla_compilation_cache=1 (as a\n",
      "proper command-line flag, not via TF_XLA_FLAGS).\n"
     ]
    },
    {
     "name": "stdout",
     "output_type": "stream",
     "text": [
      "Step      Train loss    Test loss     Test metric   \n",
      "0         [3.48e+04]    [3.54e+04]    [1.00e+00]    \n",
      "1000      [1.91e+04]    [1.86e+04]    [7.26e-01]    \n",
      "2000      [1.14e+04]    [1.07e+04]    [5.52e-01]    \n",
      "3000      [6.19e+03]    [5.31e+03]    [3.88e-01]    \n",
      "4000      [2.99e+03]    [2.32e+03]    [2.57e-01]    \n",
      "5000      [1.27e+03]    [8.68e+02]    [1.57e-01]    \n",
      "6000      [4.67e+02]    [2.66e+02]    [8.69e-02]    \n",
      "7000      [1.42e+02]    [6.23e+01]    [4.20e-02]    \n",
      "8000      [3.92e+01]    [1.82e+01]    [2.27e-02]    \n",
      "9000      [6.37e+00]    [2.10e+00]    [7.72e-03]    \n",
      "10000     [7.51e-01]    [1.03e+00]    [5.40e-03]    \n"
     ]
    }
   ],
   "source": [
    "def PDE(x,y):\n",
    "    #shear stress: t\n",
    "    #shear rate:y\n",
    "    y_f = 12.1\n",
    "    A_0 = 43.6\n",
    "    \n",
    "    A_1 =131.2\n",
    "    \n",
    "    C = 56.1\n",
    "\n",
    "    lam=1\n",
    "    \n",
    "    \n",
    "    eq1 = y_f+(A_0+(A_1-A_0)*lam)*(tf.math.asinh(x/C))-y\n",
    "    \n",
    "#     eq2 = y_f+(A_0)*(tf.math.asinh(x/C))-y[:,1:2]\n",
    "\n",
    "    \n",
    "    \n",
    "    return eq1\n",
    "\n",
    "def func(x):\n",
    "    \n",
    "    return bingham(x)\n",
    "\n",
    "geom = dde.geometry.TimeDomain(0, 200)\n",
    "data = dde.data.TimePDE(geom, PDE, [], 25, 10,solution=func, num_test=1000)\n",
    "\n",
    "layer_size = [1] + [50] * 3 + [1]\n",
    "activation = \"tanh\"\n",
    "initializer = \"Glorot uniform\"\n",
    "net = dde.maps.FNN(layer_size, activation, initializer)\n",
    "\n",
    "model = dde.Model(data, net)\n",
    "model.compile(\"adam\", lr=0.001, metrics=[\"l2 relative error\"])\n",
    "losshistory, train_state = model.train(epochs=50000)\n",
    "\n",
    "dde.saveplot(losshistory, train_state, issave=True, isplot=True)"
   ]
  },
  {
   "cell_type": "code",
   "execution_count": null,
   "id": "a4dcd15d",
   "metadata": {},
   "outputs": [],
   "source": [
    "train0=np.loadtxt('train.dat', unpack = True)\n",
    "train = torch.from_numpy(train0)\n",
    "test0=np.loadtxt('test.dat', unpack = True)\n",
    "test = torch.from_numpy(test0)"
   ]
  },
  {
   "cell_type": "code",
   "execution_count": null,
   "id": "7226a12e",
   "metadata": {},
   "outputs": [],
   "source": [
    "# get the analytical solution over the full domain\n",
    "x = torch.linspace(0,200,2000).view(-1,1)\n",
    "y = bingham(x).view(-1,1)\n",
    "# # slice out a small number of points from the LHS of the domain\n",
    "x_train = x[0:100:5]\n",
    "# y_train = y[0:100:5]\n",
    "#print(x_train)\n",
    "\n",
    "plt.figure()\n",
    "plt.plot(x, y, label=\"Exact solution\")\n",
    "plt.scatter(train[0].view(-1,1), train[1].view(-1,1), color=\"tab:orange\", label=\"Training data\")\n",
    "plt.legend()\n",
    "plt.show()"
   ]
  },
  {
   "cell_type": "code",
   "execution_count": null,
   "id": "18902771",
   "metadata": {
    "scrolled": false
   },
   "outputs": [],
   "source": [
    "torch.manual_seed(123)\n",
    "model = FCN(1,1,50,5)\n",
    "optimizer = torch.optim.Adam(model.parameters(),lr=1e-4)\n",
    "files = []\n",
    "losses = []\n",
    "for i in range(50000):\n",
    "    \n",
    "    if i%10000==0:\n",
    "        print('=====epochs=====',i)\n",
    "    optimizer.zero_grad()\n",
    "    yh = model(train[0].view(-1,1).float())\n",
    "    loss = torch.mean((yh-train[1].view(-1,1).float())**2)# use mean squared error\n",
    "    loss.backward()\n",
    "    optimizer.step()\n",
    "    \n",
    "    losses.append(loss.detach().numpy())"
   ]
  },
  {
   "cell_type": "code",
   "execution_count": null,
   "id": "fe2378af",
   "metadata": {},
   "outputs": [],
   "source": [
    "x_test = test[0].view(-1,1).float()\n",
    "y_test=model(x_test)"
   ]
  },
  {
   "cell_type": "code",
   "execution_count": null,
   "id": "61a042ca",
   "metadata": {},
   "outputs": [],
   "source": [
    "#plt.figure(figsize=(4,4))\n",
    "\n",
    "plt.plot(x_test.detach().numpy(),y_test.detach().numpy(), color=\"tab:blue\", linewidth=2, alpha=0.8, label=\"Neural network prediction\")\n",
    "plt.plot(x,y, '--r', label=\"Exact solution\")\n",
    "plt.scatter(train[0].detach().numpy(), train[1].detach().numpy(), s=30, color=\"green\", alpha=0.4, label='Training data')\n",
    "plt.legend()\n",
    "# plt.ylim((0,1400))\n",
    "plt.title('Neural Network Prediction')\n",
    "plt.xlabel('Shear rate')\n",
    "plt.ylabel('Shear stress')\n",
    "# plt.yscale('log')\n",
    "# plt.xscale('log')\n",
    "nndata=pd.DataFrame(x_test.detach().numpy())\n",
    "nndata[1]=pd.DataFrame(y_test.detach().numpy())\n",
    "nndata.to_csv('nntest.csv')\n",
    "plt.savefig('NN.png',dpi=600,bbox_inches = 'tight')"
   ]
  },
  {
   "cell_type": "code",
   "execution_count": null,
   "id": "bdc60610",
   "metadata": {
    "scrolled": true
   },
   "outputs": [],
   "source": [
    "import pandas as pd\n",
    "plt.figure(figsize=(4,4))\n",
    "losses1=pd.DataFrame(losses)\n",
    "losses1.to_csv('nnloss.csv')\n",
    "#x= np.linspace(0, 13000, 15)\n",
    "plt.plot(losses1)#,label='loss')\n",
    "#plt.legend()\n",
    "\n",
    "#plt.ylim(1e-9,1e6)\n",
    "plt.title('Traning Procedure')\n",
    "plt.xlabel('Epoch')\n",
    "plt.ylabel('Loss')\n"
   ]
  },
  {
   "cell_type": "code",
   "execution_count": null,
   "id": "ed6169f8",
   "metadata": {},
   "outputs": [],
   "source": [
    "LOSS=losses1.rename(columns={0:'nn'})"
   ]
  },
  {
   "cell_type": "code",
   "execution_count": null,
   "id": "65ada995",
   "metadata": {},
   "outputs": [],
   "source": [
    "LOSS"
   ]
  },
  {
   "cell_type": "code",
   "execution_count": null,
   "id": "577af372",
   "metadata": {},
   "outputs": [],
   "source": []
  },
  {
   "cell_type": "code",
   "execution_count": null,
   "id": "0c8ac167",
   "metadata": {},
   "outputs": [],
   "source": [
    "# import pandas as pd\n",
    "# test1=np.loadtxt('test.dat', unpack = True)\n",
    "# f = pd.DataFrame(test1.T, columns = ['x','y','z'])\n",
    "# f"
   ]
  },
  {
   "cell_type": "code",
   "execution_count": null,
   "id": "437659ac",
   "metadata": {},
   "outputs": [],
   "source": [
    "# x = torch.linspace(0,200,20).view(-1,1)\n",
    "# y = bingham(x).view(-1,1)"
   ]
  },
  {
   "cell_type": "code",
   "execution_count": null,
   "id": "21f8c03a",
   "metadata": {},
   "outputs": [],
   "source": [
    "# plt.plot(f['x'],f['y'])\n",
    "\n",
    "# plt.plot(x, y,'--r', label=\"Exact solution\")\n",
    "\n"
   ]
  },
  {
   "cell_type": "code",
   "execution_count": null,
   "id": "3e72f993",
   "metadata": {},
   "outputs": [],
   "source": []
  },
  {
   "cell_type": "code",
   "execution_count": null,
   "id": "8fd96382",
   "metadata": {},
   "outputs": [],
   "source": [
    "# train=np.loadtxt('train.dat', unpack = True)\n",
    "# train1 = pd.DataFrame(train.T)\n",
    "# train1"
   ]
  },
  {
   "cell_type": "code",
   "execution_count": null,
   "id": "2d822e75",
   "metadata": {},
   "outputs": [],
   "source": [
    "# plt.plot(f['x'],f['y'],c='black')\n",
    "\n",
    "# # plt.plot(x, y,'--r', label=\"Exact solution\")\n",
    "\n",
    "# plt.scatter(xnn.detach().numpy(),y_test.detach().numpy(),marker='o', color=\"tab:blue\", linewidth=0.2, alpha=0.8, label=\"Neural network prediction\")\n",
    "# plt.plot(x, y,'--r', label=\"Exact solution\")\n",
    "# #plt.scatter(train1[0],train1[1])"
   ]
  },
  {
   "cell_type": "code",
   "execution_count": null,
   "id": "b2cb6465",
   "metadata": {},
   "outputs": [],
   "source": [
    "# loss=np.loadtxt('loss.dat', unpack = True)\n",
    "# loss1 = pd.DataFrame(loss.T)\n",
    "# loss1\n",
    "\n",
    "# plt.plot(loss1[0],loss1[1],label='Train Loss')\n",
    "# plt.plot(loss1[0],loss1[2],label='Test Loss')\n",
    "# plt.plot(loss1[0],loss1[3],label='Test Metric')\n",
    "# plt.yscale('log')\n",
    "# plt.xlabel('Epochs')\n",
    "\n",
    "# plt.legend()"
   ]
  },
  {
   "cell_type": "code",
   "execution_count": null,
   "id": "dc149ca6",
   "metadata": {},
   "outputs": [],
   "source": []
  }
 ],
 "metadata": {
  "kernelspec": {
   "display_name": "Python 3 (ipykernel)",
   "language": "python",
   "name": "python3"
  },
  "language_info": {
   "codemirror_mode": {
    "name": "ipython",
    "version": 3
   },
   "file_extension": ".py",
   "mimetype": "text/x-python",
   "name": "python",
   "nbconvert_exporter": "python",
   "pygments_lexer": "ipython3",
   "version": "3.7.7"
  }
 },
 "nbformat": 4,
 "nbformat_minor": 5
}
