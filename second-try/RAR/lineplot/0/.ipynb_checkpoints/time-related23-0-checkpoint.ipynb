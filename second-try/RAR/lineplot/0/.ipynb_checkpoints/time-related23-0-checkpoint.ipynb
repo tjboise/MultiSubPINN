{
 "cells": [
  {
   "cell_type": "markdown",
   "id": "68c9298d",
   "metadata": {},
   "source": []
  },
  {
   "cell_type": "code",
   "execution_count": 132,
   "id": "3ca45582",
   "metadata": {},
   "outputs": [],
   "source": [
    "from PIL import Image\n",
    "\n",
    "import numpy as np\n",
    "import torch\n",
    "import torch.nn as nn\n",
    "import matplotlib.pyplot as plt\n",
    "import torch\n",
    "import math\n",
    "import pandas as pd"
   ]
  },
  {
   "cell_type": "code",
   "execution_count": 133,
   "id": "a4dcd15d",
   "metadata": {},
   "outputs": [],
   "source": [
    "train0=np.loadtxt('train.dat', unpack = True)\n",
    "train = torch.from_numpy(train0)\n"
   ]
  },
  {
   "cell_type": "code",
   "execution_count": 134,
   "id": "98525ec5",
   "metadata": {},
   "outputs": [],
   "source": [
    "\n",
    "def bingham(y):\n",
    "    #shear stress: t\n",
    "    #shear rate:y\n",
    "    y_f = 12.1\n",
    "    A_0 = 43.6\n",
    "    \n",
    "    A_1 =131.2\n",
    "    \n",
    "    C = 56.1\n",
    "\n",
    "    lam=0\n",
    "    \n",
    "    \n",
    "    t = y_f+(A_0+(A_1-A_0)*lam)*(np.arcsinh(y/C))\n",
    "    \n",
    "#     YP=0.629#kp\n",
    "#     PV=0.751#*10\n",
    "#     t=YP+PV*y\n",
    "\n",
    "    return t\n",
    "\n",
    "class FCN(nn.Module):\n",
    "    \"Defines a connected network\"\n",
    "    \n",
    "    def __init__(self, N_INPUT, N_OUTPUT, N_HIDDEN, N_LAYERS):\n",
    "        super().__init__()\n",
    "        activation = nn.Tanh\n",
    "        self.fcs = nn.Sequential(*[\n",
    "                        nn.Linear(N_INPUT, N_HIDDEN),\n",
    "                        activation()])\n",
    "        self.fch = nn.Sequential(*[\n",
    "                        nn.Sequential(*[\n",
    "                            nn.Linear(N_HIDDEN, N_HIDDEN),\n",
    "                            activation()]) for _ in range(N_LAYERS-1)])\n",
    "        self.fce = nn.Linear(N_HIDDEN, N_OUTPUT)\n",
    "        \n",
    "    def forward(self, x):\n",
    "        x = self.fcs(x)\n",
    "        x = self.fch(x)\n",
    "        x = self.fce(x)\n",
    "        return x"
   ]
  },
  {
   "cell_type": "code",
   "execution_count": 114,
   "id": "7226a12e",
   "metadata": {},
   "outputs": [
    {
     "name": "stdout",
     "output_type": "stream",
     "text": [
      "<class 'torch.Tensor'>\n",
      "tensor([[  0.0000],\n",
      "        [  0.0000],\n",
      "        [  0.0000],\n",
      "        [200.0000],\n",
      "        [  0.0000],\n",
      "        [200.0000],\n",
      "        [  0.0000],\n",
      "        [200.0000],\n",
      "        [  0.0000],\n",
      "        [  0.0000],\n",
      "        [150.0000],\n",
      "        [ 50.0000],\n",
      "        [ 75.0000],\n",
      "        [175.0000],\n",
      "        [125.0000],\n",
      "        [ 25.0000],\n",
      "        [ 37.5000],\n",
      "        [137.5000],\n",
      "        [187.5000],\n",
      "        [ 87.5000],\n",
      "        [ 62.5000],\n",
      "        [162.5000],\n",
      "        [112.5000],\n",
      "        [ 12.5000],\n",
      "        [ 18.7500],\n",
      "        [118.7500],\n",
      "        [168.7500],\n",
      "        [ 68.7500],\n",
      "        [ 93.7500],\n",
      "        [193.7500],\n",
      "        [143.7500],\n",
      "        [ 43.7500],\n",
      "        [ 31.2500],\n",
      "        [131.2500],\n",
      "        [181.2500]], dtype=torch.float64)\n"
     ]
    },
    {
     "data": {
      "image/png": "[encoded data removed]",
      "text/plain": [
       "<Figure size 432x288 with 1 Axes>"
      ]
     },
     "metadata": {
      "needs_background": "light"
     },
     "output_type": "display_data"
    }
   ],
   "source": [
    "# get the analytical solution over the full domain\n",
    "\n",
    "\n",
    "x = torch.linspace(0,200,2000).view(-1,1)\n",
    "y = bingham(x).view(-1,1)\n",
    "# #print(x.shape, y.shape)\n",
    "\n",
    "# # x_max=torch.max(x)\n",
    "# # x_min=torch.min(x)\n",
    "# # x_scaled=(x-x_min)/(x_max-x_min)\n",
    "# # y_max=torch.max(y)\n",
    "# # y_min=torch.min(y)\n",
    "# # y_scaled=(y-y_min)/(y_max-y_min)\n",
    "\n",
    "\n",
    "\n",
    "# # slice out a small number of points from the LHS of the domain\n",
    "x_train = x[0:100:5]\n",
    "\n",
    "\n",
    "# y_train = y[0:100:5]\n",
    "#print(x_train)\n",
    "\n",
    "plt.figure()\n",
    "plt.plot(x, y, label=\"Exact solution\")\n",
    "plt.scatter(train[0].view(-1,1), train[1].view(-1,1), color=\"tab:orange\", label=\"Training data\")\n",
    "plt.legend()\n",
    "plt.show()"
   ]
  },
  {
   "cell_type": "code",
   "execution_count": 115,
   "id": "3545ad0d",
   "metadata": {},
   "outputs": [],
   "source": [
    "# x_max=torch.max(x_train)\n",
    "# x_min=torch.min(x_train)\n",
    "# x_train_scaled=(x_train-x_min)/(x_max-x_min)\n",
    "# y_max=torch.max(y_train)\n",
    "# y_min=torch.min(y_train)\n",
    "# y_train_scaled=(y_train-y_min)/(y_max-y_min)"
   ]
  },
  {
   "cell_type": "code",
   "execution_count": 116,
   "id": "18902771",
   "metadata": {
    "scrolled": false
   },
   "outputs": [
    {
     "name": "stdout",
     "output_type": "stream",
     "text": [
      "=====epochs===== 0\n",
      "=====epochs===== 1000\n",
      "=====epochs===== 2000\n",
      "=====epochs===== 3000\n",
      "=====epochs===== 4000\n",
      "=====epochs===== 5000\n",
      "=====epochs===== 6000\n",
      "=====epochs===== 7000\n",
      "=====epochs===== 8000\n",
      "=====epochs===== 9000\n",
      "=====epochs===== 10000\n",
      "=====epochs===== 11000\n",
      "=====epochs===== 12000\n",
      "=====epochs===== 13000\n",
      "=====epochs===== 14000\n",
      "=====epochs===== 15000\n",
      "=====epochs===== 16000\n",
      "=====epochs===== 17000\n",
      "=====epochs===== 18000\n",
      "=====epochs===== 19000\n",
      "=====epochs===== 20000\n",
      "=====epochs===== 21000\n",
      "=====epochs===== 22000\n",
      "=====epochs===== 23000\n",
      "=====epochs===== 24000\n",
      "=====epochs===== 25000\n",
      "=====epochs===== 26000\n",
      "=====epochs===== 27000\n",
      "=====epochs===== 28000\n",
      "=====epochs===== 29000\n",
      "=====epochs===== 30000\n",
      "=====epochs===== 31000\n",
      "=====epochs===== 32000\n",
      "=====epochs===== 33000\n",
      "=====epochs===== 34000\n",
      "=====epochs===== 35000\n",
      "=====epochs===== 36000\n",
      "=====epochs===== 37000\n",
      "=====epochs===== 38000\n",
      "=====epochs===== 39000\n",
      "=====epochs===== 40000\n",
      "=====epochs===== 41000\n",
      "=====epochs===== 42000\n",
      "=====epochs===== 43000\n",
      "=====epochs===== 44000\n",
      "=====epochs===== 45000\n",
      "=====epochs===== 46000\n",
      "=====epochs===== 47000\n",
      "=====epochs===== 48000\n",
      "=====epochs===== 49000\n"
     ]
    }
   ],
   "source": [
    "torch.manual_seed(123)\n",
    "model = FCN(1,1,50,5)\n",
    "optimizer = torch.optim.Adam(model.parameters(),lr=1e-3)\n",
    "files = []\n",
    "losses = []\n",
    "for i in range(50000):\n",
    "    \n",
    "    if i%1000==0:\n",
    "        print('=====epochs=====',i)\n",
    "    optimizer.zero_grad()\n",
    "    yh = model(train[0].view(-1,1).float())\n",
    "    loss = torch.mean((yh-train[1].view(-1,1).float())**2)# use mean squared error\n",
    "    loss.backward()\n",
    "    optimizer.step()\n",
    "    \n",
    "    losses.append(loss.detach().numpy())"
   ]
  },
  {
   "cell_type": "code",
   "execution_count": 139,
   "id": "fe2378af",
   "metadata": {},
   "outputs": [],
   "source": [
    "# x_test_scaled=(x-x_min)/(x_max-x_min)\n",
    "\n",
    "# y_test_scaled=model(x_test_scaled)\n",
    "\n",
    "# y_test = y_test_scaled*(y_max-y_min)+y_min\n",
    "\n",
    "# yh_ = yh*(y_max-y_min)+y_min\n",
    "\n",
    "\n",
    "# x_train =  x_train_scaled*(y_max-y_min)+y_min\n",
    "xnn = torch.linspace(0,200,200).view(-1,1)\n",
    "y_test=model(xnn)"
   ]
  },
  {
   "cell_type": "code",
   "execution_count": 142,
   "id": "61a042ca",
   "metadata": {},
   "outputs": [
    {
     "data": {
      "image/png": "[encoded data removed]",
      "text/plain": [
       "<Figure size 288x288 with 1 Axes>"
      ]
     },
     "metadata": {
      "needs_background": "light"
     },
     "output_type": "display_data"
    }
   ],
   "source": [
    "plt.figure(figsize=(4,4))\n",
    "\n",
    "plt.plot(xnn.detach().numpy(),y_test.detach().numpy(), color=\"tab:blue\", linewidth=2, alpha=0.8, label=\"Neural network prediction\")\n",
    "plt.plot(x,y, '--r', label=\"Exact solution\")\n",
    "plt.scatter(train[0].detach().numpy(), train[1].detach().numpy(), s=30, color=\"green\", alpha=0.4, label='Training data')\n",
    "plt.legend()\n",
    "# plt.ylim((0,1400))\n",
    "plt.title('Neural Network Prediction')\n",
    "plt.xlabel('Shear rate')\n",
    "plt.ylabel('Shear stress')\n",
    "# plt.yscale('log')\n",
    "# plt.xscale('log')\n",
    "\n",
    "plt.savefig('NN.png',dpi=600,bbox_inches = 'tight')"
   ]
  },
  {
   "cell_type": "code",
   "execution_count": null,
   "id": "bdc60610",
   "metadata": {
    "scrolled": true
   },
   "outputs": [],
   "source": [
    "import pandas as pd\n",
    "plt.figure(figsize=(4,4))\n",
    "losses1=pd.DataFrame(losses)\n",
    "#x= np.linspace(0, 13000, 15)\n",
    "plt.plot(losses1)#,label='loss')\n",
    "#plt.legend()\n",
    "plt.yscale('log')\n",
    "#plt.ylim(1e-9,1e6)\n",
    "plt.title('Traning Procedure')\n",
    "plt.xlabel('Epoch')\n",
    "plt.ylabel('Loss')\n"
   ]
  },
  {
   "cell_type": "code",
   "execution_count": 9,
   "id": "c754608b",
   "metadata": {},
   "outputs": [
    {
     "data": {
      "text/plain": [
       "111.11488"
      ]
     },
     "execution_count": 9,
     "metadata": {},
     "output_type": "execute_result"
    }
   ],
   "source": [
    "from sklearn.metrics import accuracy_score,mean_squared_error\n",
    "\n",
    "mean_squared_error(y.detach().numpy(),y_test.detach().numpy())\n",
    "\n"
   ]
  },
  {
   "cell_type": "code",
   "execution_count": 23,
   "id": "400f5fc6",
   "metadata": {
    "scrolled": false
   },
   "outputs": [
    {
     "name": "stdout",
     "output_type": "stream",
     "text": [
      "=====epochs===== 0\n",
      "loss1: tensor(24848.0918, grad_fn=<MeanBackward0>)\n",
      "loss2: tensor(24848.0918, grad_fn=<MeanBackward0>)\n",
      "=====epochs===== 10000\n",
      "loss1: tensor(22392.1836, grad_fn=<MeanBackward0>)\n",
      "loss2: tensor(22392.1836, grad_fn=<MeanBackward0>)\n",
      "=====epochs===== 20000\n",
      "loss1: tensor(21043.3789, grad_fn=<MeanBackward0>)\n",
      "loss2: tensor(21043.3789, grad_fn=<MeanBackward0>)\n",
      "=====epochs===== 30000\n",
      "loss1: tensor(19751.0723, grad_fn=<MeanBackward0>)\n",
      "loss2: tensor(19751.0723, grad_fn=<MeanBackward0>)\n",
      "=====epochs===== 40000\n",
      "loss1: tensor(18509.5762, grad_fn=<MeanBackward0>)\n",
      "loss2: tensor(18509.5762, grad_fn=<MeanBackward0>)\n",
      "=====epochs===== 50000\n",
      "loss1: tensor(17318.7676, grad_fn=<MeanBackward0>)\n",
      "loss2: tensor(17318.7676, grad_fn=<MeanBackward0>)\n",
      "=====epochs===== 60000\n",
      "loss1: tensor(16178.6367, grad_fn=<MeanBackward0>)\n",
      "loss2: tensor(16178.6367, grad_fn=<MeanBackward0>)\n",
      "=====epochs===== 70000\n",
      "loss1: tensor(15089.1914, grad_fn=<MeanBackward0>)\n",
      "loss2: tensor(15089.1914, grad_fn=<MeanBackward0>)\n",
      "=====epochs===== 80000\n",
      "loss1: tensor(14050.4316, grad_fn=<MeanBackward0>)\n",
      "loss2: tensor(14050.4316, grad_fn=<MeanBackward0>)\n",
      "=====epochs===== 90000\n",
      "loss1: tensor(13062.6924, grad_fn=<MeanBackward0>)\n",
      "loss2: tensor(13062.6924, grad_fn=<MeanBackward0>)\n",
      "=====epochs===== 100000\n",
      "loss1: tensor(12128.7764, grad_fn=<MeanBackward0>)\n",
      "loss2: tensor(12128.7764, grad_fn=<MeanBackward0>)\n",
      "=====epochs===== 110000\n",
      "loss1: tensor(11247.0098, grad_fn=<MeanBackward0>)\n",
      "loss2: tensor(11247.0098, grad_fn=<MeanBackward0>)\n",
      "=====epochs===== 120000\n",
      "loss1: tensor(10415.3252, grad_fn=<MeanBackward0>)\n",
      "loss2: tensor(10415.3252, grad_fn=<MeanBackward0>)\n"
     ]
    },
    {
     "ename": "KeyboardInterrupt",
     "evalue": "",
     "output_type": "error",
     "traceback": [
      "\u001b[0;31m---------------------------------------------------------------------------\u001b[0m",
      "\u001b[0;31mKeyboardInterrupt\u001b[0m                         Traceback (most recent call last)",
      "\u001b[0;32m/var/folders/m1/ws2562m105bdpyh7s345x7cw0000gn/T/ipykernel_16980/1411730036.py\u001b[0m in \u001b[0;36m<module>\u001b[0;34m\u001b[0m\n\u001b[1;32m     24\u001b[0m \u001b[0;34m\u001b[0m\u001b[0m\n\u001b[1;32m     25\u001b[0m     \u001b[0;31m# compute the \"data loss\"\u001b[0m\u001b[0;34m\u001b[0m\u001b[0;34m\u001b[0m\u001b[0;34m\u001b[0m\u001b[0m\n\u001b[0;32m---> 26\u001b[0;31m     \u001b[0myh2\u001b[0m \u001b[0;34m=\u001b[0m \u001b[0mmodel2\u001b[0m\u001b[0;34m(\u001b[0m\u001b[0mx_train\u001b[0m\u001b[0;34m)\u001b[0m\u001b[0;34m\u001b[0m\u001b[0;34m\u001b[0m\u001b[0m\n\u001b[0m\u001b[1;32m     27\u001b[0m     \u001b[0mloss1\u001b[0m \u001b[0;34m=\u001b[0m \u001b[0mtorch\u001b[0m\u001b[0;34m.\u001b[0m\u001b[0mmean\u001b[0m\u001b[0;34m(\u001b[0m\u001b[0;34m(\u001b[0m\u001b[0myh2\u001b[0m\u001b[0;34m-\u001b[0m\u001b[0my_train\u001b[0m\u001b[0;34m)\u001b[0m\u001b[0;34m**\u001b[0m\u001b[0;36m2\u001b[0m\u001b[0;34m)\u001b[0m\u001b[0;31m# use mean squared error\u001b[0m\u001b[0;34m\u001b[0m\u001b[0;34m\u001b[0m\u001b[0m\n\u001b[1;32m     28\u001b[0m \u001b[0;31m#     loss1=0\u001b[0m\u001b[0;34m\u001b[0m\u001b[0;34m\u001b[0m\u001b[0;34m\u001b[0m\u001b[0m\n",
      "\u001b[0;32m~/opt/anaconda3/envs/pytorch/lib/python3.8/site-packages/torch/nn/modules/module.py\u001b[0m in \u001b[0;36m_call_impl\u001b[0;34m(self, *input, **kwargs)\u001b[0m\n\u001b[1;32m   1049\u001b[0m         if not (self._backward_hooks or self._forward_hooks or self._forward_pre_hooks or _global_backward_hooks\n\u001b[1;32m   1050\u001b[0m                 or _global_forward_hooks or _global_forward_pre_hooks):\n\u001b[0;32m-> 1051\u001b[0;31m             \u001b[0;32mreturn\u001b[0m \u001b[0mforward_call\u001b[0m\u001b[0;34m(\u001b[0m\u001b[0;34m*\u001b[0m\u001b[0minput\u001b[0m\u001b[0;34m,\u001b[0m \u001b[0;34m**\u001b[0m\u001b[0mkwargs\u001b[0m\u001b[0;34m)\u001b[0m\u001b[0;34m\u001b[0m\u001b[0;34m\u001b[0m\u001b[0m\n\u001b[0m\u001b[1;32m   1052\u001b[0m         \u001b[0;31m# Do not call functions when jit is used\u001b[0m\u001b[0;34m\u001b[0m\u001b[0;34m\u001b[0m\u001b[0;34m\u001b[0m\u001b[0m\n\u001b[1;32m   1053\u001b[0m         \u001b[0mfull_backward_hooks\u001b[0m\u001b[0;34m,\u001b[0m \u001b[0mnon_full_backward_hooks\u001b[0m \u001b[0;34m=\u001b[0m \u001b[0;34m[\u001b[0m\u001b[0;34m]\u001b[0m\u001b[0;34m,\u001b[0m \u001b[0;34m[\u001b[0m\u001b[0;34m]\u001b[0m\u001b[0;34m\u001b[0m\u001b[0;34m\u001b[0m\u001b[0m\n",
      "\u001b[0;32m/var/folders/m1/ws2562m105bdpyh7s345x7cw0000gn/T/ipykernel_16980/3692779198.py\u001b[0m in \u001b[0;36mforward\u001b[0;34m(self, x)\u001b[0m\n\u001b[1;32m     37\u001b[0m     \u001b[0;32mdef\u001b[0m \u001b[0mforward\u001b[0m\u001b[0;34m(\u001b[0m\u001b[0mself\u001b[0m\u001b[0;34m,\u001b[0m \u001b[0mx\u001b[0m\u001b[0;34m)\u001b[0m\u001b[0;34m:\u001b[0m\u001b[0;34m\u001b[0m\u001b[0;34m\u001b[0m\u001b[0m\n\u001b[1;32m     38\u001b[0m         \u001b[0mx\u001b[0m \u001b[0;34m=\u001b[0m \u001b[0mself\u001b[0m\u001b[0;34m.\u001b[0m\u001b[0mfcs\u001b[0m\u001b[0;34m(\u001b[0m\u001b[0mx\u001b[0m\u001b[0;34m)\u001b[0m\u001b[0;34m\u001b[0m\u001b[0;34m\u001b[0m\u001b[0m\n\u001b[0;32m---> 39\u001b[0;31m         \u001b[0mx\u001b[0m \u001b[0;34m=\u001b[0m \u001b[0mself\u001b[0m\u001b[0;34m.\u001b[0m\u001b[0mfch\u001b[0m\u001b[0;34m(\u001b[0m\u001b[0mx\u001b[0m\u001b[0;34m)\u001b[0m\u001b[0;34m\u001b[0m\u001b[0;34m\u001b[0m\u001b[0m\n\u001b[0m\u001b[1;32m     40\u001b[0m         \u001b[0mx\u001b[0m \u001b[0;34m=\u001b[0m \u001b[0mself\u001b[0m\u001b[0;34m.\u001b[0m\u001b[0mfce\u001b[0m\u001b[0;34m(\u001b[0m\u001b[0mx\u001b[0m\u001b[0;34m)\u001b[0m\u001b[0;34m\u001b[0m\u001b[0;34m\u001b[0m\u001b[0m\n\u001b[1;32m     41\u001b[0m         \u001b[0;32mreturn\u001b[0m \u001b[0mx\u001b[0m\u001b[0;34m\u001b[0m\u001b[0;34m\u001b[0m\u001b[0m\n",
      "\u001b[0;32m~/opt/anaconda3/envs/pytorch/lib/python3.8/site-packages/torch/nn/modules/module.py\u001b[0m in \u001b[0;36m_call_impl\u001b[0;34m(self, *input, **kwargs)\u001b[0m\n\u001b[1;32m   1049\u001b[0m         if not (self._backward_hooks or self._forward_hooks or self._forward_pre_hooks or _global_backward_hooks\n\u001b[1;32m   1050\u001b[0m                 or _global_forward_hooks or _global_forward_pre_hooks):\n\u001b[0;32m-> 1051\u001b[0;31m             \u001b[0;32mreturn\u001b[0m \u001b[0mforward_call\u001b[0m\u001b[0;34m(\u001b[0m\u001b[0;34m*\u001b[0m\u001b[0minput\u001b[0m\u001b[0;34m,\u001b[0m \u001b[0;34m**\u001b[0m\u001b[0mkwargs\u001b[0m\u001b[0;34m)\u001b[0m\u001b[0;34m\u001b[0m\u001b[0;34m\u001b[0m\u001b[0m\n\u001b[0m\u001b[1;32m   1052\u001b[0m         \u001b[0;31m# Do not call functions when jit is used\u001b[0m\u001b[0;34m\u001b[0m\u001b[0;34m\u001b[0m\u001b[0;34m\u001b[0m\u001b[0m\n\u001b[1;32m   1053\u001b[0m         \u001b[0mfull_backward_hooks\u001b[0m\u001b[0;34m,\u001b[0m \u001b[0mnon_full_backward_hooks\u001b[0m \u001b[0;34m=\u001b[0m \u001b[0;34m[\u001b[0m\u001b[0;34m]\u001b[0m\u001b[0;34m,\u001b[0m \u001b[0;34m[\u001b[0m\u001b[0;34m]\u001b[0m\u001b[0;34m\u001b[0m\u001b[0;34m\u001b[0m\u001b[0m\n",
      "\u001b[0;32m~/opt/anaconda3/envs/pytorch/lib/python3.8/site-packages/torch/nn/modules/container.py\u001b[0m in \u001b[0;36mforward\u001b[0;34m(self, input)\u001b[0m\n\u001b[1;32m    137\u001b[0m     \u001b[0;32mdef\u001b[0m \u001b[0mforward\u001b[0m\u001b[0;34m(\u001b[0m\u001b[0mself\u001b[0m\u001b[0;34m,\u001b[0m \u001b[0minput\u001b[0m\u001b[0;34m)\u001b[0m\u001b[0;34m:\u001b[0m\u001b[0;34m\u001b[0m\u001b[0;34m\u001b[0m\u001b[0m\n\u001b[1;32m    138\u001b[0m         \u001b[0;32mfor\u001b[0m \u001b[0mmodule\u001b[0m \u001b[0;32min\u001b[0m \u001b[0mself\u001b[0m\u001b[0;34m:\u001b[0m\u001b[0;34m\u001b[0m\u001b[0;34m\u001b[0m\u001b[0m\n\u001b[0;32m--> 139\u001b[0;31m             \u001b[0minput\u001b[0m \u001b[0;34m=\u001b[0m \u001b[0mmodule\u001b[0m\u001b[0;34m(\u001b[0m\u001b[0minput\u001b[0m\u001b[0;34m)\u001b[0m\u001b[0;34m\u001b[0m\u001b[0;34m\u001b[0m\u001b[0m\n\u001b[0m\u001b[1;32m    140\u001b[0m         \u001b[0;32mreturn\u001b[0m \u001b[0minput\u001b[0m\u001b[0;34m\u001b[0m\u001b[0;34m\u001b[0m\u001b[0m\n\u001b[1;32m    141\u001b[0m \u001b[0;34m\u001b[0m\u001b[0m\n",
      "\u001b[0;32m~/opt/anaconda3/envs/pytorch/lib/python3.8/site-packages/torch/nn/modules/module.py\u001b[0m in \u001b[0;36m_call_impl\u001b[0;34m(self, *input, **kwargs)\u001b[0m\n\u001b[1;32m   1049\u001b[0m         if not (self._backward_hooks or self._forward_hooks or self._forward_pre_hooks or _global_backward_hooks\n\u001b[1;32m   1050\u001b[0m                 or _global_forward_hooks or _global_forward_pre_hooks):\n\u001b[0;32m-> 1051\u001b[0;31m             \u001b[0;32mreturn\u001b[0m \u001b[0mforward_call\u001b[0m\u001b[0;34m(\u001b[0m\u001b[0;34m*\u001b[0m\u001b[0minput\u001b[0m\u001b[0;34m,\u001b[0m \u001b[0;34m**\u001b[0m\u001b[0mkwargs\u001b[0m\u001b[0;34m)\u001b[0m\u001b[0;34m\u001b[0m\u001b[0;34m\u001b[0m\u001b[0m\n\u001b[0m\u001b[1;32m   1052\u001b[0m         \u001b[0;31m# Do not call functions when jit is used\u001b[0m\u001b[0;34m\u001b[0m\u001b[0;34m\u001b[0m\u001b[0;34m\u001b[0m\u001b[0m\n\u001b[1;32m   1053\u001b[0m         \u001b[0mfull_backward_hooks\u001b[0m\u001b[0;34m,\u001b[0m \u001b[0mnon_full_backward_hooks\u001b[0m \u001b[0;34m=\u001b[0m \u001b[0;34m[\u001b[0m\u001b[0;34m]\u001b[0m\u001b[0;34m,\u001b[0m \u001b[0;34m[\u001b[0m\u001b[0;34m]\u001b[0m\u001b[0;34m\u001b[0m\u001b[0;34m\u001b[0m\u001b[0m\n",
      "\u001b[0;32m~/opt/anaconda3/envs/pytorch/lib/python3.8/site-packages/torch/nn/modules/container.py\u001b[0m in \u001b[0;36mforward\u001b[0;34m(self, input)\u001b[0m\n\u001b[1;32m    137\u001b[0m     \u001b[0;32mdef\u001b[0m \u001b[0mforward\u001b[0m\u001b[0;34m(\u001b[0m\u001b[0mself\u001b[0m\u001b[0;34m,\u001b[0m \u001b[0minput\u001b[0m\u001b[0;34m)\u001b[0m\u001b[0;34m:\u001b[0m\u001b[0;34m\u001b[0m\u001b[0;34m\u001b[0m\u001b[0m\n\u001b[1;32m    138\u001b[0m         \u001b[0;32mfor\u001b[0m \u001b[0mmodule\u001b[0m \u001b[0;32min\u001b[0m \u001b[0mself\u001b[0m\u001b[0;34m:\u001b[0m\u001b[0;34m\u001b[0m\u001b[0;34m\u001b[0m\u001b[0m\n\u001b[0;32m--> 139\u001b[0;31m             \u001b[0minput\u001b[0m \u001b[0;34m=\u001b[0m \u001b[0mmodule\u001b[0m\u001b[0;34m(\u001b[0m\u001b[0minput\u001b[0m\u001b[0;34m)\u001b[0m\u001b[0;34m\u001b[0m\u001b[0;34m\u001b[0m\u001b[0m\n\u001b[0m\u001b[1;32m    140\u001b[0m         \u001b[0;32mreturn\u001b[0m \u001b[0minput\u001b[0m\u001b[0;34m\u001b[0m\u001b[0;34m\u001b[0m\u001b[0m\n\u001b[1;32m    141\u001b[0m \u001b[0;34m\u001b[0m\u001b[0m\n",
      "\u001b[0;32m~/opt/anaconda3/envs/pytorch/lib/python3.8/site-packages/torch/nn/modules/module.py\u001b[0m in \u001b[0;36m_call_impl\u001b[0;34m(self, *input, **kwargs)\u001b[0m\n\u001b[1;32m   1049\u001b[0m         if not (self._backward_hooks or self._forward_hooks or self._forward_pre_hooks or _global_backward_hooks\n\u001b[1;32m   1050\u001b[0m                 or _global_forward_hooks or _global_forward_pre_hooks):\n\u001b[0;32m-> 1051\u001b[0;31m             \u001b[0;32mreturn\u001b[0m \u001b[0mforward_call\u001b[0m\u001b[0;34m(\u001b[0m\u001b[0;34m*\u001b[0m\u001b[0minput\u001b[0m\u001b[0;34m,\u001b[0m \u001b[0;34m**\u001b[0m\u001b[0mkwargs\u001b[0m\u001b[0;34m)\u001b[0m\u001b[0;34m\u001b[0m\u001b[0;34m\u001b[0m\u001b[0m\n\u001b[0m\u001b[1;32m   1052\u001b[0m         \u001b[0;31m# Do not call functions when jit is used\u001b[0m\u001b[0;34m\u001b[0m\u001b[0;34m\u001b[0m\u001b[0;34m\u001b[0m\u001b[0m\n\u001b[1;32m   1053\u001b[0m         \u001b[0mfull_backward_hooks\u001b[0m\u001b[0;34m,\u001b[0m \u001b[0mnon_full_backward_hooks\u001b[0m \u001b[0;34m=\u001b[0m \u001b[0;34m[\u001b[0m\u001b[0;34m]\u001b[0m\u001b[0;34m,\u001b[0m \u001b[0;34m[\u001b[0m\u001b[0;34m]\u001b[0m\u001b[0;34m\u001b[0m\u001b[0;34m\u001b[0m\u001b[0m\n",
      "\u001b[0;32m~/opt/anaconda3/envs/pytorch/lib/python3.8/site-packages/torch/nn/modules/linear.py\u001b[0m in \u001b[0;36mforward\u001b[0;34m(self, input)\u001b[0m\n\u001b[1;32m     94\u001b[0m \u001b[0;34m\u001b[0m\u001b[0m\n\u001b[1;32m     95\u001b[0m     \u001b[0;32mdef\u001b[0m \u001b[0mforward\u001b[0m\u001b[0;34m(\u001b[0m\u001b[0mself\u001b[0m\u001b[0;34m,\u001b[0m \u001b[0minput\u001b[0m\u001b[0;34m:\u001b[0m \u001b[0mTensor\u001b[0m\u001b[0;34m)\u001b[0m \u001b[0;34m->\u001b[0m \u001b[0mTensor\u001b[0m\u001b[0;34m:\u001b[0m\u001b[0;34m\u001b[0m\u001b[0;34m\u001b[0m\u001b[0m\n\u001b[0;32m---> 96\u001b[0;31m         \u001b[0;32mreturn\u001b[0m \u001b[0mF\u001b[0m\u001b[0;34m.\u001b[0m\u001b[0mlinear\u001b[0m\u001b[0;34m(\u001b[0m\u001b[0minput\u001b[0m\u001b[0;34m,\u001b[0m \u001b[0mself\u001b[0m\u001b[0;34m.\u001b[0m\u001b[0mweight\u001b[0m\u001b[0;34m,\u001b[0m \u001b[0mself\u001b[0m\u001b[0;34m.\u001b[0m\u001b[0mbias\u001b[0m\u001b[0;34m)\u001b[0m\u001b[0;34m\u001b[0m\u001b[0;34m\u001b[0m\u001b[0m\n\u001b[0m\u001b[1;32m     97\u001b[0m \u001b[0;34m\u001b[0m\u001b[0m\n\u001b[1;32m     98\u001b[0m     \u001b[0;32mdef\u001b[0m \u001b[0mextra_repr\u001b[0m\u001b[0;34m(\u001b[0m\u001b[0mself\u001b[0m\u001b[0;34m)\u001b[0m \u001b[0;34m->\u001b[0m \u001b[0mstr\u001b[0m\u001b[0;34m:\u001b[0m\u001b[0;34m\u001b[0m\u001b[0;34m\u001b[0m\u001b[0m\n",
      "\u001b[0;32m~/opt/anaconda3/envs/pytorch/lib/python3.8/site-packages/torch/nn/functional.py\u001b[0m in \u001b[0;36mlinear\u001b[0;34m(input, weight, bias)\u001b[0m\n\u001b[1;32m   1845\u001b[0m     \u001b[0;32mif\u001b[0m \u001b[0mhas_torch_function_variadic\u001b[0m\u001b[0;34m(\u001b[0m\u001b[0minput\u001b[0m\u001b[0;34m,\u001b[0m \u001b[0mweight\u001b[0m\u001b[0;34m)\u001b[0m\u001b[0;34m:\u001b[0m\u001b[0;34m\u001b[0m\u001b[0;34m\u001b[0m\u001b[0m\n\u001b[1;32m   1846\u001b[0m         \u001b[0;32mreturn\u001b[0m \u001b[0mhandle_torch_function\u001b[0m\u001b[0;34m(\u001b[0m\u001b[0mlinear\u001b[0m\u001b[0;34m,\u001b[0m \u001b[0;34m(\u001b[0m\u001b[0minput\u001b[0m\u001b[0;34m,\u001b[0m \u001b[0mweight\u001b[0m\u001b[0;34m)\u001b[0m\u001b[0;34m,\u001b[0m \u001b[0minput\u001b[0m\u001b[0;34m,\u001b[0m \u001b[0mweight\u001b[0m\u001b[0;34m,\u001b[0m \u001b[0mbias\u001b[0m\u001b[0;34m=\u001b[0m\u001b[0mbias\u001b[0m\u001b[0;34m)\u001b[0m\u001b[0;34m\u001b[0m\u001b[0;34m\u001b[0m\u001b[0m\n\u001b[0;32m-> 1847\u001b[0;31m     \u001b[0;32mreturn\u001b[0m \u001b[0mtorch\u001b[0m\u001b[0;34m.\u001b[0m\u001b[0m_C\u001b[0m\u001b[0;34m.\u001b[0m\u001b[0m_nn\u001b[0m\u001b[0;34m.\u001b[0m\u001b[0mlinear\u001b[0m\u001b[0;34m(\u001b[0m\u001b[0minput\u001b[0m\u001b[0;34m,\u001b[0m \u001b[0mweight\u001b[0m\u001b[0;34m,\u001b[0m \u001b[0mbias\u001b[0m\u001b[0;34m)\u001b[0m\u001b[0;34m\u001b[0m\u001b[0;34m\u001b[0m\u001b[0m\n\u001b[0m\u001b[1;32m   1848\u001b[0m \u001b[0;34m\u001b[0m\u001b[0m\n\u001b[1;32m   1849\u001b[0m \u001b[0;34m\u001b[0m\u001b[0m\n",
      "\u001b[0;31mKeyboardInterrupt\u001b[0m: "
     ]
    }
   ],
   "source": [
    "#x_physics = torch.linspace(0,1,30).view(-1,1).requires_grad_(True)# sample locations over the problem domain\n",
    "#mu, k = 2*d, w0**2\n",
    "y_f = 12.1\n",
    "A_0 = 43.6\n",
    "\n",
    "A_1 =131.2\n",
    "\n",
    "C = 56.1\n",
    "\n",
    "lam=1\n",
    "\n",
    "\n",
    "# t = y_f+(A_0+(A_1-A_0)*lam)*(np.arcsinh(y/C))\n",
    "#t=YP+PV*y\n",
    "\n",
    "torch.manual_seed(123)\n",
    "model2 = FCN(1,1,50,5)\n",
    "optimizer = torch.optim.Adam(model2.parameters(),lr=1e-5)\n",
    "files = []\n",
    "losses2 = []\n",
    "for i in range(600000):\n",
    "\n",
    "    optimizer.zero_grad()\n",
    "    \n",
    "    # compute the \"data loss\"\n",
    "    yh2 = model2(x_train)\n",
    "    loss1 = torch.mean((yh2-y_train)**2)# use mean squared error\n",
    "#     loss1=0\n",
    "    # compute the \"physics loss\"\n",
    "    ######yhp = model2(x_physics)\n",
    "    #dx  = torch.autograd.grad(yhp, x_physics, torch.ones_like(yhp), create_graph=True)[0]# computes dy/dx\n",
    "    #dx2 = torch.autograd.grad(dx,  x_physics, torch.ones_like(dx),  create_graph=True)[0]# computes d^2y/dx^2\n",
    "    ###physics = YP+PV*x_train-yh2# computes the residual of the 1D harmonic oscillator differential equation\n",
    "    \n",
    "    physics = y_f+(A_0+(A_1-A_0)*lam)*(np.arcsinh(x_train/C))-yh2\n",
    "    loss2 = torch.mean(physics**2)\n",
    "    \n",
    "    # backpropagate joint loss\n",
    "    loss = loss1+loss2# add two loss terms together\n",
    "    #loss=loss2\n",
    "    loss.backward()\n",
    "    optimizer.step()\n",
    "    losses2.append(loss.detach().numpy())\n",
    "    if i%10000==0:\n",
    "        print('=====epochs=====',i)\n",
    "        print('loss1:',loss1)\n",
    "        print('loss2:',loss2)\n",
    "    \n",
    "    \n",
    "#     # plot the result as training progresses\n",
    "#     if (i+1) % 150 == 0: \n",
    "        \n",
    "#         yh = model(x).detach()\n",
    "#         xp = x_physics.detach()\n",
    "#         #print(loss)\n",
    "        \n",
    "#         plot_result(x,y,x_data,y_data,yh,xp)\n",
    "        \n",
    "#         file = \"plots/pinn_%.8i.png\"%(i+1)\n",
    "#         plt.savefig(file, bbox_inches='tight', pad_inches=0.1, dpi=100, facecolor=\"white\")\n",
    "#         files.append(file)\n",
    "        \n",
    "#         if (i+1) % 1000 == 0: plt.show()\n",
    "#         else: plt.close(\"all\")\n",
    "            \n",
    "# save_gif_PIL(\"pinn.gif\", files, fps=20, loop=0)"
   ]
  },
  {
   "cell_type": "code",
   "execution_count": 11,
   "id": "31f5fede",
   "metadata": {},
   "outputs": [
    {
     "data": {
      "text/plain": [
       "Text(0, 0.5, 'Shear stress')"
      ]
     },
     "execution_count": 11,
     "metadata": {},
     "output_type": "execute_result"
    },
    {
     "data": {
      "image/png": "[encoded data removed]",
      "text/plain": [
       "<Figure size 288x288 with 1 Axes>"
      ]
     },
     "metadata": {
      "needs_background": "light"
     },
     "output_type": "display_data"
    }
   ],
   "source": [
    "y_test2=model2(x)\n",
    "plt.figure(figsize=(4,4))\n",
    "plt.plot(x,y, color=\"grey\", linewidth=2, alpha=0.8, label=\"Exact solution\")\n",
    "plt.plot(x.detach().numpy(),y_test2.detach().numpy(), color=\"orange\", linewidth=2, alpha=0.8, label=\"PINN\")\n",
    "plt.plot(x.detach().numpy(),y_test.detach().numpy(), color=\"tab:blue\", linewidth=2, alpha=0.8, label=\"NN\")\n",
    "plt.scatter(x_train.detach().numpy(), y_train.detach().numpy(), s=30, color=\"red\", alpha=0.4, label='Training data')\n",
    "\n",
    "plt.legend(loc='lower right')\n",
    "# plt.ylim((0,1400))\n",
    "# plt.xlim((0,11))\n",
    "#plt.title('Bingham')\n",
    "plt.xlabel('Shear rate')\n",
    "plt.ylabel('Shear stress')"
   ]
  },
  {
   "cell_type": "code",
   "execution_count": 12,
   "id": "5d60dfe8",
   "metadata": {},
   "outputs": [
    {
     "name": "stdout",
     "output_type": "stream",
     "text": [
      "NN\n",
      "111.11488\n",
      "PINN\n",
      "108.63209\n"
     ]
    }
   ],
   "source": [
    "print('NN')\n",
    "print(mean_squared_error(y.detach().numpy(),y_test.detach().numpy()))\n",
    "print('PINN')\n",
    "print(mean_squared_error(y.detach().numpy(),y_test2.detach().numpy()))"
   ]
  },
  {
   "cell_type": "code",
   "execution_count": 13,
   "id": "3410d856",
   "metadata": {},
   "outputs": [
    {
     "data": {
      "text/plain": [
       "Text(0, 0.5, 'Loss')"
      ]
     },
     "execution_count": 13,
     "metadata": {},
     "output_type": "execute_result"
    },
    {
     "data": {
      "image/png": "[encoded data removed]",
      "text/plain": [
       "<Figure size 288x288 with 1 Axes>"
      ]
     },
     "metadata": {
      "needs_background": "light"
     },
     "output_type": "display_data"
    }
   ],
   "source": [
    "plt.figure(figsize=(4,4))\n",
    "losses2=pd.DataFrame(losses2)\n",
    "#x= np.linspace(0, 13000, 15)\n",
    "plt.plot(losses2,label='PINN')\n",
    "plt.plot(losses1,c='r',label='NN')\n",
    "plt.legend()\n",
    "plt.yscale('log')\n",
    "# plt.xscale('log')\n",
    "plt.title('Traning Procedure')\n",
    "plt.xlabel('Epoch')\n",
    "plt.ylabel('Loss')"
   ]
  },
  {
   "cell_type": "code",
   "execution_count": 14,
   "id": "8ac01a3c",
   "metadata": {},
   "outputs": [],
   "source": [
    "losses1['pinn']=losses2"
   ]
  },
  {
   "cell_type": "code",
   "execution_count": 15,
   "id": "ed6169f8",
   "metadata": {},
   "outputs": [],
   "source": [
    "LOSS=losses1.rename(columns={0:'nn'})"
   ]
  },
  {
   "cell_type": "code",
   "execution_count": 16,
   "id": "65ada995",
   "metadata": {},
   "outputs": [
    {
     "data": {
      "text/html": [
       "<div>\n",
       "<style scoped>\n",
       "    .dataframe tbody tr th:only-of-type {\n",
       "        vertical-align: middle;\n",
       "    }\n",
       "\n",
       "    .dataframe tbody tr th {\n",
       "        vertical-align: top;\n",
       "    }\n",
       "\n",
       "    .dataframe thead th {\n",
       "        text-align: right;\n",
       "    }\n",
       "</style>\n",
       "<table border=\"1\" class=\"dataframe\">\n",
       "  <thead>\n",
       "    <tr style=\"text-align: right;\">\n",
       "      <th></th>\n",
       "      <th>nn</th>\n",
       "      <th>pinn</th>\n",
       "    </tr>\n",
       "  </thead>\n",
       "  <tbody>\n",
       "    <tr>\n",
       "      <th>0</th>\n",
       "      <td>24848.091797</td>\n",
       "      <td>49696.183594</td>\n",
       "    </tr>\n",
       "    <tr>\n",
       "      <th>1</th>\n",
       "      <td>24824.218750</td>\n",
       "      <td>49695.714844</td>\n",
       "    </tr>\n",
       "    <tr>\n",
       "      <th>2</th>\n",
       "      <td>24799.072266</td>\n",
       "      <td>49695.253906</td>\n",
       "    </tr>\n",
       "    <tr>\n",
       "      <th>3</th>\n",
       "      <td>24772.279297</td>\n",
       "      <td>49694.785156</td>\n",
       "    </tr>\n",
       "    <tr>\n",
       "      <th>4</th>\n",
       "      <td>24743.541016</td>\n",
       "      <td>49694.324219</td>\n",
       "    </tr>\n",
       "    <tr>\n",
       "      <th>...</th>\n",
       "      <td>...</td>\n",
       "      <td>...</td>\n",
       "    </tr>\n",
       "    <tr>\n",
       "      <th>79995</th>\n",
       "      <td>0.036783</td>\n",
       "      <td>28101.875000</td>\n",
       "    </tr>\n",
       "    <tr>\n",
       "      <th>79996</th>\n",
       "      <td>0.057618</td>\n",
       "      <td>28101.675781</td>\n",
       "    </tr>\n",
       "    <tr>\n",
       "      <th>79997</th>\n",
       "      <td>0.070458</td>\n",
       "      <td>28101.472656</td>\n",
       "    </tr>\n",
       "    <tr>\n",
       "      <th>79998</th>\n",
       "      <td>0.070197</td>\n",
       "      <td>28101.269531</td>\n",
       "    </tr>\n",
       "    <tr>\n",
       "      <th>79999</th>\n",
       "      <td>0.058314</td>\n",
       "      <td>28101.062500</td>\n",
       "    </tr>\n",
       "  </tbody>\n",
       "</table>\n",
       "<p>80000 rows × 2 columns</p>\n",
       "</div>"
      ],
      "text/plain": [
       "                 nn          pinn\n",
       "0      24848.091797  49696.183594\n",
       "1      24824.218750  49695.714844\n",
       "2      24799.072266  49695.253906\n",
       "3      24772.279297  49694.785156\n",
       "4      24743.541016  49694.324219\n",
       "...             ...           ...\n",
       "79995      0.036783  28101.875000\n",
       "79996      0.057618  28101.675781\n",
       "79997      0.070458  28101.472656\n",
       "79998      0.070197  28101.269531\n",
       "79999      0.058314  28101.062500\n",
       "\n",
       "[80000 rows x 2 columns]"
      ]
     },
     "execution_count": 16,
     "metadata": {},
     "output_type": "execute_result"
    }
   ],
   "source": [
    "LOSS"
   ]
  },
  {
   "cell_type": "code",
   "execution_count": 17,
   "id": "278886bc",
   "metadata": {},
   "outputs": [],
   "source": [
    "pinnmean=[]\n",
    "nnmean=[]\n",
    "pinnstd=[]\n",
    "nnstd=[]\n",
    "ii=[]\n",
    "for i in range(800):\n",
    "    ii.append(i*100)\n",
    "    nnmean.append(LOSS[i*100:(i+1)*100].mean()[0])\n",
    "    pinnmean.append(LOSS[i*100:(i+1)*100].mean()[1])\n",
    "    nnstd.append(LOSS[i*100:(i+1)*100].std()[0])\n",
    "    pinnstd.append(LOSS[i*100:(i+1)*100].std()[1])\n",
    "    "
   ]
  },
  {
   "cell_type": "code",
   "execution_count": 18,
   "id": "7a15df1c",
   "metadata": {},
   "outputs": [
    {
     "data": {
      "text/plain": [
       "Text(0, 0.5, 'Loss')"
      ]
     },
     "execution_count": 18,
     "metadata": {},
     "output_type": "execute_result"
    },
    {
     "data": {
      "image/png": "[encoded data removed]",
      "text/plain": [
       "<Figure size 288x288 with 1 Axes>"
      ]
     },
     "metadata": {
      "needs_background": "light"
     },
     "output_type": "display_data"
    }
   ],
   "source": [
    "\n",
    "plt.figure(figsize=(4,4))\n",
    "losses2=pd.DataFrame(losses2)\n",
    "#x= np.linspace(0, 13000, 15)\n",
    "plt.plot(ii,pinnmean,label='PINN')\n",
    "plt.plot(ii,nnmean,c='r',label='NN')\n",
    "plt.legend()\n",
    "plt.yscale('log')\n",
    "plt.title('Traning Procedure')\n",
    "plt.xlabel('Epoches')\n",
    "plt.ylabel('Loss')"
   ]
  },
  {
   "cell_type": "code",
   "execution_count": 19,
   "id": "6a4193f7",
   "metadata": {},
   "outputs": [],
   "source": [
    "pinnmean=[]\n",
    "nnmean=[]\n",
    "pinnstd=[]\n",
    "nnstd=[]\n",
    "ii=[]\n",
    "for i in range(80):\n",
    "    ii.append(i*1000)\n",
    "    nnmean.append(LOSS[i*1000:(i+1)*1000].mean()[0])\n",
    "    pinnmean.append(LOSS[i*1000:(i+1)*1000].mean()[1])\n",
    "    nnstd.append(LOSS[i*1000:(i+1)*1000].std()[0])\n",
    "    pinnstd.append(LOSS[i*1000:(i+1)*1000].std()[1])"
   ]
  },
  {
   "cell_type": "code",
   "execution_count": 20,
   "id": "44f1a58d",
   "metadata": {},
   "outputs": [
    {
     "data": {
      "text/plain": [
       "Text(0, 0.5, 'Loss')"
      ]
     },
     "execution_count": 20,
     "metadata": {},
     "output_type": "execute_result"
    },
    {
     "data": {
      "image/png": "[encoded data removed]",
      "text/plain": [
       "<Figure size 288x288 with 1 Axes>"
      ]
     },
     "metadata": {
      "needs_background": "light"
     },
     "output_type": "display_data"
    }
   ],
   "source": [
    "plt.figure(figsize=(4,4))\n",
    "losses2=pd.DataFrame(losses2)\n",
    "#x= np.linspace(0, 13000, 15)\n",
    "plt.plot(ii,pinnmean,label='PINN')\n",
    "plt.plot(ii,nnmean,c='orange',label='NN')\n",
    "plt.legend()\n",
    "plt.yscale('log')\n",
    "plt.title('Traning Procedure')\n",
    "plt.xlabel('Epoches')\n",
    "plt.ylabel('Loss')"
   ]
  },
  {
   "cell_type": "code",
   "execution_count": 21,
   "id": "f45c3872",
   "metadata": {},
   "outputs": [
    {
     "data": {
      "text/html": [
       "<div>\n",
       "<style scoped>\n",
       "    .dataframe tbody tr th:only-of-type {\n",
       "        vertical-align: middle;\n",
       "    }\n",
       "\n",
       "    .dataframe tbody tr th {\n",
       "        vertical-align: top;\n",
       "    }\n",
       "\n",
       "    .dataframe thead th {\n",
       "        text-align: right;\n",
       "    }\n",
       "</style>\n",
       "<table border=\"1\" class=\"dataframe\">\n",
       "  <thead>\n",
       "    <tr style=\"text-align: right;\">\n",
       "      <th></th>\n",
       "      <th>pinnmean</th>\n",
       "      <th>pinnstd</th>\n",
       "      <th>nnmean</th>\n",
       "      <th>nnstd</th>\n",
       "    </tr>\n",
       "  </thead>\n",
       "  <tbody>\n",
       "    <tr>\n",
       "      <th>0</th>\n",
       "      <td>49246.296875</td>\n",
       "      <td>331.085907</td>\n",
       "      <td>17666.382812</td>\n",
       "      <td>3277.683838</td>\n",
       "    </tr>\n",
       "    <tr>\n",
       "      <th>1</th>\n",
       "      <td>48021.535156</td>\n",
       "      <td>299.857605</td>\n",
       "      <td>9473.579102</td>\n",
       "      <td>1630.629150</td>\n",
       "    </tr>\n",
       "    <tr>\n",
       "      <th>2</th>\n",
       "      <td>47255.113281</td>\n",
       "      <td>163.041718</td>\n",
       "      <td>5613.301270</td>\n",
       "      <td>679.708374</td>\n",
       "    </tr>\n",
       "    <tr>\n",
       "      <th>3</th>\n",
       "      <td>46782.902344</td>\n",
       "      <td>116.340729</td>\n",
       "      <td>3119.699463</td>\n",
       "      <td>1164.365112</td>\n",
       "    </tr>\n",
       "    <tr>\n",
       "      <th>4</th>\n",
       "      <td>46414.671875</td>\n",
       "      <td>98.444931</td>\n",
       "      <td>963.381836</td>\n",
       "      <td>294.047760</td>\n",
       "    </tr>\n",
       "    <tr>\n",
       "      <th>...</th>\n",
       "      <td>...</td>\n",
       "      <td>...</td>\n",
       "      <td>...</td>\n",
       "      <td>...</td>\n",
       "    </tr>\n",
       "    <tr>\n",
       "      <th>75</th>\n",
       "      <td>29023.349609</td>\n",
       "      <td>59.856651</td>\n",
       "      <td>0.053737</td>\n",
       "      <td>0.127592</td>\n",
       "    </tr>\n",
       "    <tr>\n",
       "      <th>76</th>\n",
       "      <td>28816.609375</td>\n",
       "      <td>59.564011</td>\n",
       "      <td>0.053443</td>\n",
       "      <td>0.110872</td>\n",
       "    </tr>\n",
       "    <tr>\n",
       "      <th>77</th>\n",
       "      <td>28610.884766</td>\n",
       "      <td>59.271111</td>\n",
       "      <td>0.051207</td>\n",
       "      <td>0.072510</td>\n",
       "    </tr>\n",
       "    <tr>\n",
       "      <th>78</th>\n",
       "      <td>28406.171875</td>\n",
       "      <td>58.978443</td>\n",
       "      <td>0.051743</td>\n",
       "      <td>0.096112</td>\n",
       "    </tr>\n",
       "    <tr>\n",
       "      <th>79</th>\n",
       "      <td>28202.474609</td>\n",
       "      <td>58.685585</td>\n",
       "      <td>0.055215</td>\n",
       "      <td>0.115589</td>\n",
       "    </tr>\n",
       "  </tbody>\n",
       "</table>\n",
       "<p>80 rows × 4 columns</p>\n",
       "</div>"
      ],
      "text/plain": [
       "        pinnmean     pinnstd        nnmean        nnstd\n",
       "0   49246.296875  331.085907  17666.382812  3277.683838\n",
       "1   48021.535156  299.857605   9473.579102  1630.629150\n",
       "2   47255.113281  163.041718   5613.301270   679.708374\n",
       "3   46782.902344  116.340729   3119.699463  1164.365112\n",
       "4   46414.671875   98.444931    963.381836   294.047760\n",
       "..           ...         ...           ...          ...\n",
       "75  29023.349609   59.856651      0.053737     0.127592\n",
       "76  28816.609375   59.564011      0.053443     0.110872\n",
       "77  28610.884766   59.271111      0.051207     0.072510\n",
       "78  28406.171875   58.978443      0.051743     0.096112\n",
       "79  28202.474609   58.685585      0.055215     0.115589\n",
       "\n",
       "[80 rows x 4 columns]"
      ]
     },
     "execution_count": 21,
     "metadata": {},
     "output_type": "execute_result"
    }
   ],
   "source": [
    "d={'pinnmean':pinnmean,'pinnstd':pinnstd,'nnmean':nnmean,'nnstd':nnstd}\n",
    "data=pd.DataFrame(d)\n",
    "#data=pd.DataFrame(np.array([pinnmean,pinnstd]),columns=['pinnmean','pinnstd'])\n",
    "data"
   ]
  },
  {
   "cell_type": "code",
   "execution_count": 22,
   "id": "2bdf1acb",
   "metadata": {},
   "outputs": [
    {
     "data": {
      "text/plain": [
       "Text(0, 0.5, 'Loss')"
      ]
     },
     "execution_count": 22,
     "metadata": {},
     "output_type": "execute_result"
    },
    {
     "data": {
      "image/png": "[encoded data removed]",
      "text/plain": [
       "<Figure size 288x288 with 1 Axes>"
      ]
     },
     "metadata": {
      "needs_background": "light"
     },
     "output_type": "display_data"
    }
   ],
   "source": [
    "\n",
    "\n",
    "plt.figure(figsize=(4,4))\n",
    "#losses2=pd.DataFrame(losses2)\n",
    "#x= np.linspace(0, 13000, 15)\n",
    "plt.plot(ii,pinnmean,label='PINN',color='purple',lw=0.5)#, ls='-',marker='o',ms=4)\n",
    "\n",
    "\n",
    "y1=data['pinnmean']-data['pinnstd']/2\n",
    "y2=data['pinnmean']+data['pinnstd']/2\n",
    "plt.fill_between(ii,y1,y2\n",
    "                 ,color=(229/256,204/256,249/256),alpha=0.3,label='std of PINN')\n",
    "\n",
    "plt.plot(ii,nnmean,label='NN',color='green',fillstyle='full',lw=0.5)#, ls='-',marker='s',ms=4)\n",
    "\n",
    "n1=data['nnmean']-data['nnstd']/2\n",
    "n2=data['nnmean']+data['nnstd']/2\n",
    "\n",
    "plt.fill_between(ii,n1,n2\n",
    "                 ,color=(204/256, 236/256, 223/256),alpha=0.3,label='std of NN')\n",
    "\n",
    "\n",
    "plt.legend()\n",
    "plt.yscale('log')\n",
    "#plt.ylim(1e-9,1e-2)\n",
    "#plt.title('Traning Procedure')\n",
    "plt.xlabel('Epoches')\n",
    "plt.ylabel('Loss')"
   ]
  },
  {
   "cell_type": "code",
   "execution_count": null,
   "id": "577af372",
   "metadata": {},
   "outputs": [],
   "source": []
  },
  {
   "cell_type": "code",
   "execution_count": 46,
   "id": "fda4952d",
   "metadata": {},
   "outputs": [
    {
     "name": "stderr",
     "output_type": "stream",
     "text": [
      "Using backend: tensorflow.compat.v1\n",
      "\n"
     ]
    },
    {
     "name": "stdout",
     "output_type": "stream",
     "text": [
      "WARNING:tensorflow:From /Users/zhangtianjie/opt/anaconda3/envs/tf/lib/python3.7/site-packages/tensorflow/python/compat/v2_compat.py:107: disable_resource_variables (from tensorflow.python.ops.variable_scope) is deprecated and will be removed in a future version.\n",
      "Instructions for updating:\n",
      "non-resource variables are not supported in the long term\n",
      "WARNING:tensorflow:From /Users/zhangtianjie/opt/anaconda3/envs/tf/lib/python3.7/site-packages/deepxde/nn/initializers.py:118: The name tf.keras.initializers.he_normal is deprecated. Please use tf.compat.v1.keras.initializers.he_normal instead.\n",
      "\n"
     ]
    }
   ],
   "source": [
    "import deepxde as dde\n",
    "import numpy as np\n",
    "import matplotlib.pyplot as plt\n",
    "import matplotlib.gridspec as gridspec\n",
    "from scipy.interpolate import griddata\n",
    "import scipy.io\n",
    "import tensorflow as tf"
   ]
  },
  {
   "cell_type": "code",
   "execution_count": 101,
   "id": "1269a622",
   "metadata": {
    "scrolled": false
   },
   "outputs": [
    {
     "name": "stdout",
     "output_type": "stream",
     "text": [
      "Compiling model...\n",
      "Building feed-forward neural network...\n",
      "'build' took 0.060389 s\n",
      "\n"
     ]
    },
    {
     "name": "stderr",
     "output_type": "stream",
     "text": [
      "/Users/zhangtianjie/opt/anaconda3/envs/tf/lib/python3.7/site-packages/skopt/sampler/sobol.py:250: UserWarning: The balance properties of Sobol' points require n to be a power of 2. 0 points have been previously generated, then: n=0+27=27. \n",
      "  total_n_samples))\n",
      "/Users/zhangtianjie/opt/anaconda3/envs/tf/lib/python3.7/site-packages/deepxde/nn/tensorflow_compat_v1/fnn.py:110: UserWarning: `tf.layers.dense` is deprecated and will be removed in a future version. Please use `tf.keras.layers.Dense` instead.\n",
      "  kernel_constraint=self.kernel_constraint,\n"
     ]
    },
    {
     "name": "stdout",
     "output_type": "stream",
     "text": [
      "'compile' took 0.295879 s\n",
      "\n",
      "Initializing variables...\n",
      "Training model...\n",
      "\n",
      "Step      Train loss    Test loss     Test metric   \n",
      "0         [4.52e+03]    [4.93e+03]    [1.00e+00]    \n",
      "1000      [8.20e+02]    [8.43e+02]    [4.15e-01]    \n",
      "2000      [1.28e+02]    [9.99e+01]    [1.43e-01]    \n",
      "3000      [1.71e+01]    [9.53e+00]    [4.42e-02]    \n",
      "4000      [2.14e+00]    [8.99e-01]    [1.36e-02]    \n",
      "5000      [2.48e-01]    [1.95e-01]    [6.31e-03]    \n",
      "6000      [2.71e-02]    [1.53e-01]    [5.59e-03]    \n",
      "7000      [5.01e-03]    [1.41e-01]    [5.37e-03]    \n",
      "8000      [2.61e-01]    [4.41e-01]    [9.50e-03]    \n",
      "9000      [1.02e-03]    [1.40e-01]    [5.35e-03]    \n",
      "10000     [6.71e-04]    [1.45e-01]    [5.45e-03]    \n",
      "11000     [1.11e-03]    [1.51e-01]    [5.56e-03]    \n",
      "12000     [1.16e-03]    [1.44e-01]    [5.42e-03]    \n",
      "13000     [3.69e-04]    [1.27e-01]    [5.11e-03]    \n",
      "14000     [3.51e-04]    [1.14e-01]    [4.83e-03]    \n",
      "15000     [4.52e-04]    [9.68e-02]    [4.45e-03]    \n",
      "16000     [5.95e-04]    [8.03e-02]    [4.05e-03]    \n",
      "17000     [4.59e-04]    [6.63e-02]    [3.68e-03]    \n",
      "18000     [1.63e-02]    [7.06e-02]    [3.80e-03]    \n",
      "19000     [3.26e-04]    [4.32e-02]    [2.97e-03]    \n",
      "20000     [3.05e-04]    [3.59e-02]    [2.71e-03]    \n",
      "21000     [6.05e-04]    [3.15e-02]    [2.54e-03]    \n",
      "22000     [3.78e-04]    [2.61e-02]    [2.31e-03]    \n",
      "23000     [4.17e-04]    [2.23e-02]    [2.13e-03]    \n",
      "24000     [1.58e-02]    [3.59e-02]    [2.71e-03]    \n",
      "25000     [3.05e-04]    [1.79e-02]    [1.91e-03]    \n",
      "26000     [2.50e-02]    [4.23e-02]    [2.94e-03]    \n",
      "27000     [2.72e-02]    [4.58e-02]    [3.06e-03]    \n",
      "28000     [3.71e-04]    [1.70e-02]    [1.87e-03]    \n",
      "29000     [3.07e-04]    [1.71e-02]    [1.87e-03]    \n",
      "30000     [3.00e-04]    [1.65e-02]    [1.84e-03]    \n",
      "31000     [3.55e-04]    [1.51e-02]    [1.76e-03]    \n",
      "32000     [3.69e-04]    [1.32e-02]    [1.64e-03]    \n",
      "33000     [2.63e-04]    [1.25e-02]    [1.60e-03]    \n",
      "34000     [2.84e-04]    [1.09e-02]    [1.50e-03]    \n",
      "35000     [1.57e-03]    [9.31e-03]    [1.38e-03]    \n",
      "36000     [1.35e-02]    [2.47e-02]    [2.25e-03]    \n",
      "37000     [2.09e-04]    [6.63e-03]    [1.16e-03]    \n",
      "38000     [1.03e-02]    [1.96e-02]    [2.00e-03]    \n",
      "39000     [4.38e-01]    [4.92e-01]    [1.00e-02]    \n",
      "40000     [1.16e-03]    [4.57e-03]    [9.67e-04]    \n",
      "41000     [2.78e-04]    [3.05e-03]    [7.90e-04]    \n",
      "42000     [2.17e-04]    [2.96e-03]    [7.78e-04]    \n",
      "43000     [2.47e-04]    [2.71e-03]    [7.44e-04]    \n",
      "44000     [2.32e-04]    [2.66e-03]    [7.37e-04]    \n",
      "45000     [6.02e-03]    [9.32e-03]    [1.38e-03]    \n",
      "46000     [2.16e-04]    [2.50e-03]    [7.15e-04]    \n",
      "47000     [4.19e-04]    [2.37e-03]    [6.96e-04]    \n",
      "48000     [9.21e-04]    [2.83e-03]    [7.60e-04]    \n",
      "49000     [3.34e-04]    [2.05e-03]    [6.48e-04]    \n",
      "50000     [1.01e-03]    [2.82e-03]    [7.59e-04]    \n",
      "\n",
      "Best model at step 37000:\n",
      "  train loss: 2.09e-04\n",
      "  test loss: 6.63e-03\n",
      "  test metric: [1.16e-03]\n",
      "\n",
      "'train' took 20.861957 s\n",
      "\n",
      "Saving loss history to /Users/zhangtianjie/Documents/GitHub/PINN/classic_PDE/time-related/equation23/lineplot/0/loss.dat ...\n",
      "Saving training data to /Users/zhangtianjie/Documents/GitHub/PINN/classic_PDE/time-related/equation23/lineplot/0/train.dat ...\n",
      "Saving test data to /Users/zhangtianjie/Documents/GitHub/PINN/classic_PDE/time-related/equation23/lineplot/0/test.dat ...\n"
     ]
    },
    {
     "data": {
      "image/png": "[encoded data removed]",
      "text/plain": [
       "<Figure size 432x288 with 1 Axes>"
      ]
     },
     "metadata": {
      "needs_background": "light"
     },
     "output_type": "display_data"
    },
    {
     "data": {
      "image/png": "[encoded data removed]",
      "text/plain": [
       "<Figure size 432x288 with 1 Axes>"
      ]
     },
     "metadata": {
      "needs_background": "light"
     },
     "output_type": "display_data"
    }
   ],
   "source": [
    "def PDE(x,y):\n",
    "    #shear stress: t\n",
    "    #shear rate:y\n",
    "    y_f = 12.1\n",
    "    A_0 = 43.6\n",
    "    \n",
    "    A_1 =131.2\n",
    "    \n",
    "    C = 56.1\n",
    "\n",
    "    lam=0\n",
    "    \n",
    "    \n",
    "    eq1 = y_f+(A_0+(A_1-A_0)*lam)*(tf.math.asinh(x/C))-y\n",
    "    \n",
    "#     eq2 = y_f+(A_0)*(tf.math.asinh(x/C))-y[:,1:2]\n",
    "\n",
    "    \n",
    "    \n",
    "    return eq1\n",
    "\n",
    "def func(x):\n",
    "    \n",
    "    return bingham(x)\n",
    "\n",
    "geom = dde.geometry.TimeDomain(0, 200)\n",
    "data = dde.data.TimePDE(geom, PDE, [], 25, 10,solution=func, num_test=1000)\n",
    "\n",
    "layer_size = [1] + [50] * 3 + [1]\n",
    "activation = \"tanh\"\n",
    "initializer = \"Glorot uniform\"\n",
    "net = dde.maps.FNN(layer_size, activation, initializer)\n",
    "\n",
    "model = dde.Model(data, net)\n",
    "model.compile(\"adam\", lr=0.001, metrics=[\"l2 relative error\"])\n",
    "losshistory, train_state = model.train(epochs=50000)\n",
    "\n",
    "dde.saveplot(losshistory, train_state, issave=True, isplot=True)"
   ]
  },
  {
   "cell_type": "code",
   "execution_count": 123,
   "id": "0c8ac167",
   "metadata": {},
   "outputs": [
    {
     "data": {
      "text/html": [
       "<div>\n",
       "<style scoped>\n",
       "    .dataframe tbody tr th:only-of-type {\n",
       "        vertical-align: middle;\n",
       "    }\n",
       "\n",
       "    .dataframe tbody tr th {\n",
       "        vertical-align: top;\n",
       "    }\n",
       "\n",
       "    .dataframe thead th {\n",
       "        text-align: right;\n",
       "    }\n",
       "</style>\n",
       "<table border=\"1\" class=\"dataframe\">\n",
       "  <thead>\n",
       "    <tr style=\"text-align: right;\">\n",
       "      <th></th>\n",
       "      <th>x</th>\n",
       "      <th>y</th>\n",
       "      <th>z</th>\n",
       "    </tr>\n",
       "  </thead>\n",
       "  <tbody>\n",
       "    <tr>\n",
       "      <th>0</th>\n",
       "      <td>0.199800</td>\n",
       "      <td>12.255281</td>\n",
       "      <td>11.761392</td>\n",
       "    </tr>\n",
       "    <tr>\n",
       "      <th>1</th>\n",
       "      <td>0.399600</td>\n",
       "      <td>12.410561</td>\n",
       "      <td>11.796601</td>\n",
       "    </tr>\n",
       "    <tr>\n",
       "      <th>2</th>\n",
       "      <td>0.599401</td>\n",
       "      <td>12.565836</td>\n",
       "      <td>12.039485</td>\n",
       "    </tr>\n",
       "    <tr>\n",
       "      <th>3</th>\n",
       "      <td>0.799201</td>\n",
       "      <td>12.721106</td>\n",
       "      <td>12.381832</td>\n",
       "    </tr>\n",
       "    <tr>\n",
       "      <th>4</th>\n",
       "      <td>0.999001</td>\n",
       "      <td>12.876367</td>\n",
       "      <td>12.756267</td>\n",
       "    </tr>\n",
       "    <tr>\n",
       "      <th>...</th>\n",
       "      <td>...</td>\n",
       "      <td>...</td>\n",
       "      <td>...</td>\n",
       "    </tr>\n",
       "    <tr>\n",
       "      <th>995</th>\n",
       "      <td>199.000992</td>\n",
       "      <td>98.367912</td>\n",
       "      <td>98.385933</td>\n",
       "    </tr>\n",
       "    <tr>\n",
       "      <th>996</th>\n",
       "      <td>199.200806</td>\n",
       "      <td>98.410027</td>\n",
       "      <td>98.421143</td>\n",
       "    </tr>\n",
       "    <tr>\n",
       "      <th>997</th>\n",
       "      <td>199.400604</td>\n",
       "      <td>98.452103</td>\n",
       "      <td>98.455917</td>\n",
       "    </tr>\n",
       "    <tr>\n",
       "      <th>998</th>\n",
       "      <td>199.600403</td>\n",
       "      <td>98.494141</td>\n",
       "      <td>98.490227</td>\n",
       "    </tr>\n",
       "    <tr>\n",
       "      <th>999</th>\n",
       "      <td>199.800201</td>\n",
       "      <td>98.536133</td>\n",
       "      <td>98.524086</td>\n",
       "    </tr>\n",
       "  </tbody>\n",
       "</table>\n",
       "<p>1000 rows × 3 columns</p>\n",
       "</div>"
      ],
      "text/plain": [
       "              x          y          z\n",
       "0      0.199800  12.255281  11.761392\n",
       "1      0.399600  12.410561  11.796601\n",
       "2      0.599401  12.565836  12.039485\n",
       "3      0.799201  12.721106  12.381832\n",
       "4      0.999001  12.876367  12.756267\n",
       "..          ...        ...        ...\n",
       "995  199.000992  98.367912  98.385933\n",
       "996  199.200806  98.410027  98.421143\n",
       "997  199.400604  98.452103  98.455917\n",
       "998  199.600403  98.494141  98.490227\n",
       "999  199.800201  98.536133  98.524086\n",
       "\n",
       "[1000 rows x 3 columns]"
      ]
     },
     "execution_count": 123,
     "metadata": {},
     "output_type": "execute_result"
    }
   ],
   "source": [
    "import pandas as pd\n",
    "test1=np.loadtxt('test.dat', unpack = True)\n",
    "f = pd.DataFrame(test1.T, columns = ['x','y','z'])\n",
    "f"
   ]
  },
  {
   "cell_type": "code",
   "execution_count": 124,
   "id": "437659ac",
   "metadata": {},
   "outputs": [],
   "source": [
    "x = torch.linspace(0,200,20).view(-1,1)\n",
    "y = bingham(x).view(-1,1)"
   ]
  },
  {
   "cell_type": "code",
   "execution_count": 127,
   "id": "21f8c03a",
   "metadata": {},
   "outputs": [
    {
     "data": {
      "text/plain": [
       "[<matplotlib.lines.Line2D at 0x7f8357afa310>]"
      ]
     },
     "execution_count": 127,
     "metadata": {},
     "output_type": "execute_result"
    },
    {
     "data": {
      "image/png": "[encoded data removed]",
      "text/plain": [
       "<Figure size 432x288 with 1 Axes>"
      ]
     },
     "metadata": {
      "needs_background": "light"
     },
     "output_type": "display_data"
    }
   ],
   "source": [
    "plt.plot(f['x'],f['y'])\n",
    "\n",
    "plt.plot(x, y,'--r', label=\"Exact solution\")\n",
    "\n"
   ]
  },
  {
   "cell_type": "code",
   "execution_count": null,
   "id": "3e72f993",
   "metadata": {},
   "outputs": [],
   "source": []
  },
  {
   "cell_type": "code",
   "execution_count": 32,
   "id": "8fd96382",
   "metadata": {},
   "outputs": [
    {
     "data": {
      "text/html": [
       "<div>\n",
       "<style scoped>\n",
       "    .dataframe tbody tr th:only-of-type {\n",
       "        vertical-align: middle;\n",
       "    }\n",
       "\n",
       "    .dataframe tbody tr th {\n",
       "        vertical-align: top;\n",
       "    }\n",
       "\n",
       "    .dataframe thead th {\n",
       "        text-align: right;\n",
       "    }\n",
       "</style>\n",
       "<table border=\"1\" class=\"dataframe\">\n",
       "  <thead>\n",
       "    <tr style=\"text-align: right;\">\n",
       "      <th></th>\n",
       "      <th>0</th>\n",
       "      <th>1</th>\n",
       "    </tr>\n",
       "  </thead>\n",
       "  <tbody>\n",
       "    <tr>\n",
       "      <th>0</th>\n",
       "      <td>0.000</td>\n",
       "      <td>12.100000</td>\n",
       "    </tr>\n",
       "    <tr>\n",
       "      <th>1</th>\n",
       "      <td>200.000</td>\n",
       "      <td>98.578087</td>\n",
       "    </tr>\n",
       "    <tr>\n",
       "      <th>2</th>\n",
       "      <td>0.000</td>\n",
       "      <td>12.100000</td>\n",
       "    </tr>\n",
       "    <tr>\n",
       "      <th>3</th>\n",
       "      <td>200.000</td>\n",
       "      <td>98.578087</td>\n",
       "    </tr>\n",
       "    <tr>\n",
       "      <th>4</th>\n",
       "      <td>0.000</td>\n",
       "      <td>12.100000</td>\n",
       "    </tr>\n",
       "    <tr>\n",
       "      <th>5</th>\n",
       "      <td>0.000</td>\n",
       "      <td>12.100000</td>\n",
       "    </tr>\n",
       "    <tr>\n",
       "      <th>6</th>\n",
       "      <td>200.000</td>\n",
       "      <td>98.578087</td>\n",
       "    </tr>\n",
       "    <tr>\n",
       "      <th>7</th>\n",
       "      <td>0.000</td>\n",
       "      <td>12.100000</td>\n",
       "    </tr>\n",
       "    <tr>\n",
       "      <th>8</th>\n",
       "      <td>200.000</td>\n",
       "      <td>98.578087</td>\n",
       "    </tr>\n",
       "    <tr>\n",
       "      <th>9</th>\n",
       "      <td>200.000</td>\n",
       "      <td>98.578087</td>\n",
       "    </tr>\n",
       "    <tr>\n",
       "      <th>10</th>\n",
       "      <td>150.000</td>\n",
       "      <td>86.652161</td>\n",
       "    </tr>\n",
       "    <tr>\n",
       "      <th>11</th>\n",
       "      <td>50.000</td>\n",
       "      <td>47.082924</td>\n",
       "    </tr>\n",
       "    <tr>\n",
       "      <th>12</th>\n",
       "      <td>75.000</td>\n",
       "      <td>60.092674</td>\n",
       "    </tr>\n",
       "    <tr>\n",
       "      <th>13</th>\n",
       "      <td>175.000</td>\n",
       "      <td>93.002052</td>\n",
       "    </tr>\n",
       "    <tr>\n",
       "      <th>14</th>\n",
       "      <td>125.000</td>\n",
       "      <td>79.298645</td>\n",
       "    </tr>\n",
       "    <tr>\n",
       "      <th>15</th>\n",
       "      <td>25.000</td>\n",
       "      <td>30.937984</td>\n",
       "    </tr>\n",
       "    <tr>\n",
       "      <th>16</th>\n",
       "      <td>37.500</td>\n",
       "      <td>39.420967</td>\n",
       "    </tr>\n",
       "    <tr>\n",
       "      <th>17</th>\n",
       "      <td>137.500</td>\n",
       "      <td>83.118736</td>\n",
       "    </tr>\n",
       "    <tr>\n",
       "      <th>18</th>\n",
       "      <td>187.500</td>\n",
       "      <td>95.875412</td>\n",
       "    </tr>\n",
       "    <tr>\n",
       "      <th>19</th>\n",
       "      <td>87.500</td>\n",
       "      <td>65.616249</td>\n",
       "    </tr>\n",
       "    <tr>\n",
       "      <th>20</th>\n",
       "      <td>62.500</td>\n",
       "      <td>53.946686</td>\n",
       "    </tr>\n",
       "    <tr>\n",
       "      <th>21</th>\n",
       "      <td>162.500</td>\n",
       "      <td>89.936272</td>\n",
       "    </tr>\n",
       "    <tr>\n",
       "      <th>22</th>\n",
       "      <td>112.500</td>\n",
       "      <td>75.146667</td>\n",
       "    </tr>\n",
       "    <tr>\n",
       "      <th>23</th>\n",
       "      <td>12.500</td>\n",
       "      <td>21.736155</td>\n",
       "    </tr>\n",
       "    <tr>\n",
       "      <th>24</th>\n",
       "      <td>18.750</td>\n",
       "      <td>26.413689</td>\n",
       "    </tr>\n",
       "    <tr>\n",
       "      <th>25</th>\n",
       "      <td>118.750</td>\n",
       "      <td>77.267326</td>\n",
       "    </tr>\n",
       "    <tr>\n",
       "      <th>26</th>\n",
       "      <td>168.750</td>\n",
       "      <td>91.494720</td>\n",
       "    </tr>\n",
       "    <tr>\n",
       "      <th>27</th>\n",
       "      <td>68.750</td>\n",
       "      <td>57.103477</td>\n",
       "    </tr>\n",
       "    <tr>\n",
       "      <th>28</th>\n",
       "      <td>93.750</td>\n",
       "      <td>68.173355</td>\n",
       "    </tr>\n",
       "    <tr>\n",
       "      <th>29</th>\n",
       "      <td>193.750</td>\n",
       "      <td>97.246864</td>\n",
       "    </tr>\n",
       "    <tr>\n",
       "      <th>30</th>\n",
       "      <td>143.750</td>\n",
       "      <td>84.918785</td>\n",
       "    </tr>\n",
       "    <tr>\n",
       "      <th>31</th>\n",
       "      <td>43.750</td>\n",
       "      <td>43.355186</td>\n",
       "    </tr>\n",
       "    <tr>\n",
       "      <th>32</th>\n",
       "      <td>31.250</td>\n",
       "      <td>35.279533</td>\n",
       "    </tr>\n",
       "    <tr>\n",
       "      <th>33</th>\n",
       "      <td>131.250</td>\n",
       "      <td>81.247147</td>\n",
       "    </tr>\n",
       "    <tr>\n",
       "      <th>34</th>\n",
       "      <td>181.250</td>\n",
       "      <td>94.461342</td>\n",
       "    </tr>\n",
       "    <tr>\n",
       "      <th>35</th>\n",
       "      <td>81.250</td>\n",
       "      <td>62.926376</td>\n",
       "    </tr>\n",
       "    <tr>\n",
       "      <th>36</th>\n",
       "      <td>56.250</td>\n",
       "      <td>50.610268</td>\n",
       "    </tr>\n",
       "    <tr>\n",
       "      <th>37</th>\n",
       "      <td>156.250</td>\n",
       "      <td>88.323311</td>\n",
       "    </tr>\n",
       "    <tr>\n",
       "      <th>38</th>\n",
       "      <td>106.250</td>\n",
       "      <td>72.929504</td>\n",
       "    </tr>\n",
       "    <tr>\n",
       "      <th>39</th>\n",
       "      <td>6.250</td>\n",
       "      <td>16.947405</td>\n",
       "    </tr>\n",
       "    <tr>\n",
       "      <th>40</th>\n",
       "      <td>9.375</td>\n",
       "      <td>19.352604</td>\n",
       "    </tr>\n",
       "    <tr>\n",
       "      <th>41</th>\n",
       "      <td>109.375</td>\n",
       "      <td>74.050621</td>\n",
       "    </tr>\n",
       "    <tr>\n",
       "      <th>42</th>\n",
       "      <td>159.375</td>\n",
       "      <td>89.136826</td>\n",
       "    </tr>\n",
       "    <tr>\n",
       "      <th>43</th>\n",
       "      <td>59.375</td>\n",
       "      <td>52.301666</td>\n",
       "    </tr>\n",
       "    <tr>\n",
       "      <th>44</th>\n",
       "      <td>84.375</td>\n",
       "      <td>64.288582</td>\n",
       "    </tr>\n",
       "  </tbody>\n",
       "</table>\n",
       "</div>"
      ],
      "text/plain": [
       "          0          1\n",
       "0     0.000  12.100000\n",
       "1   200.000  98.578087\n",
       "2     0.000  12.100000\n",
       "3   200.000  98.578087\n",
       "4     0.000  12.100000\n",
       "5     0.000  12.100000\n",
       "6   200.000  98.578087\n",
       "7     0.000  12.100000\n",
       "8   200.000  98.578087\n",
       "9   200.000  98.578087\n",
       "10  150.000  86.652161\n",
       "11   50.000  47.082924\n",
       "12   75.000  60.092674\n",
       "13  175.000  93.002052\n",
       "14  125.000  79.298645\n",
       "15   25.000  30.937984\n",
       "16   37.500  39.420967\n",
       "17  137.500  83.118736\n",
       "18  187.500  95.875412\n",
       "19   87.500  65.616249\n",
       "20   62.500  53.946686\n",
       "21  162.500  89.936272\n",
       "22  112.500  75.146667\n",
       "23   12.500  21.736155\n",
       "24   18.750  26.413689\n",
       "25  118.750  77.267326\n",
       "26  168.750  91.494720\n",
       "27   68.750  57.103477\n",
       "28   93.750  68.173355\n",
       "29  193.750  97.246864\n",
       "30  143.750  84.918785\n",
       "31   43.750  43.355186\n",
       "32   31.250  35.279533\n",
       "33  131.250  81.247147\n",
       "34  181.250  94.461342\n",
       "35   81.250  62.926376\n",
       "36   56.250  50.610268\n",
       "37  156.250  88.323311\n",
       "38  106.250  72.929504\n",
       "39    6.250  16.947405\n",
       "40    9.375  19.352604\n",
       "41  109.375  74.050621\n",
       "42  159.375  89.136826\n",
       "43   59.375  52.301666\n",
       "44   84.375  64.288582"
      ]
     },
     "execution_count": 32,
     "metadata": {},
     "output_type": "execute_result"
    }
   ],
   "source": [
    "train=np.loadtxt('train.dat', unpack = True)\n",
    "train1 = pd.DataFrame(train.T)\n",
    "train1"
   ]
  },
  {
   "cell_type": "code",
   "execution_count": 50,
   "id": "2d822e75",
   "metadata": {},
   "outputs": [
    {
     "data": {
      "text/plain": [
       "[<matplotlib.lines.Line2D at 0x7f9290d702d0>]"
      ]
     },
     "execution_count": 50,
     "metadata": {},
     "output_type": "execute_result"
    },
    {
     "data": {
      "image/png": "[encoded data removed]",
      "text/plain": [
       "<Figure size 432x288 with 1 Axes>"
      ]
     },
     "metadata": {
      "needs_background": "light"
     },
     "output_type": "display_data"
    }
   ],
   "source": [
    "plt.plot(f['x'],f['y'],c='black')\n",
    "\n",
    "# plt.plot(x, y,'--r', label=\"Exact solution\")\n",
    "\n",
    "plt.scatter(xnn.detach().numpy(),y_test.detach().numpy(),marker='o', color=\"tab:blue\", linewidth=0.2, alpha=0.8, label=\"Neural network prediction\")\n",
    "plt.plot(x, y,'--r', label=\"Exact solution\")\n",
    "#plt.scatter(train1[0],train1[1])"
   ]
  },
  {
   "cell_type": "code",
   "execution_count": 34,
   "id": "b2cb6465",
   "metadata": {},
   "outputs": [
    {
     "data": {
      "text/plain": [
       "<matplotlib.legend.Legend at 0x7f928c82add0>"
      ]
     },
     "execution_count": 34,
     "metadata": {},
     "output_type": "execute_result"
    },
    {
     "data": {
      "image/png": "[encoded data removed]",
      "text/plain": [
       "<Figure size 432x288 with 1 Axes>"
      ]
     },
     "metadata": {
      "needs_background": "light"
     },
     "output_type": "display_data"
    }
   ],
   "source": [
    "loss=np.loadtxt('loss.dat', unpack = True)\n",
    "loss1 = pd.DataFrame(loss.T)\n",
    "loss1\n",
    "\n",
    "plt.plot(loss1[0],loss1[1],label='Train Loss')\n",
    "plt.plot(loss1[0],loss1[2],label='Test Loss')\n",
    "plt.plot(loss1[0],loss1[3],label='Test Metric')\n",
    "plt.yscale('log')\n",
    "plt.xlabel('Epochs')\n",
    "\n",
    "plt.legend()"
   ]
  },
  {
   "cell_type": "code",
   "execution_count": null,
   "id": "dc149ca6",
   "metadata": {},
   "outputs": [],
   "source": []
  }
 ],
 "metadata": {
  "kernelspec": {
   "display_name": "Python 3 (ipykernel)",
   "language": "python",
   "name": "python3"
  },
  "language_info": {
   "codemirror_mode": {
    "name": "ipython",
    "version": 3
   },
   "file_extension": ".py",
   "mimetype": "text/x-python",
   "name": "python",
   "nbconvert_exporter": "python",
   "pygments_lexer": "ipython3",
   "version": "3.7.7"
  }
 },
 "nbformat": 4,
 "nbformat_minor": 5
}
