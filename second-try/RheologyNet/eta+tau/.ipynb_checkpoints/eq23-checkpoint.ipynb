{
 "cells": [
  {
   "cell_type": "code",
   "execution_count": 1,
   "id": "d8edc7f8",
   "metadata": {},
   "outputs": [
    {
     "name": "stderr",
     "output_type": "stream",
     "text": [
      "Using backend: tensorflow.compat.v1\n",
      "\n"
     ]
    },
    {
     "name": "stdout",
     "output_type": "stream",
     "text": [
      "WARNING:tensorflow:From /Users/zhangtianjie/opt/anaconda3/envs/tf/lib/python3.7/site-packages/tensorflow/python/compat/v2_compat.py:107: disable_resource_variables (from tensorflow.python.ops.variable_scope) is deprecated and will be removed in a future version.\n",
      "Instructions for updating:\n",
      "non-resource variables are not supported in the long term\n",
      "WARNING:tensorflow:From /Users/zhangtianjie/opt/anaconda3/envs/tf/lib/python3.7/site-packages/deepxde/nn/initializers.py:118: The name tf.keras.initializers.he_normal is deprecated. Please use tf.compat.v1.keras.initializers.he_normal instead.\n",
      "\n"
     ]
    }
   ],
   "source": [
    "import deepxde as dde\n",
    "import numpy as np\n",
    "import matplotlib.pyplot as plt\n",
    "import matplotlib.gridspec as gridspec\n",
    "from scipy.interpolate import griddata\n",
    "import scipy.io\n",
    "import tensorflow as tf\n",
    "from PIL import Image\n",
    "import numpy as np\n",
    "import torch\n",
    "import torch.nn as nn\n",
    "import matplotlib.pyplot as plt\n",
    "import torch\n"
   ]
  },
  {
   "cell_type": "code",
   "execution_count": 2,
   "id": "023fdc8d",
   "metadata": {},
   "outputs": [],
   "source": [
    "def solution(x1,x2):\n",
    "    y_f = 12.1\n",
    "    A_0 = 43.6\n",
    "    \n",
    "    A_1 =131.2\n",
    "    \n",
    "    C = 56.1\n",
    "    a=2100\n",
    "    b=9.45\n",
    "    y = y_f+(A_0+(A_1-A_0)*np.exp(-x2*x1/(a+b*x2)))*(np.arcsinh(x2/C))\n",
    "    \n",
    "    return y\n"
   ]
  },
  {
   "cell_type": "code",
   "execution_count": null,
   "id": "b4d33684",
   "metadata": {},
   "outputs": [
    {
     "name": "stdout",
     "output_type": "stream",
     "text": [
      "Compiling model...\n",
      "Building feed-forward neural network...\n",
      "'build' took 0.053214 s\n",
      "\n",
      "'compile' took 0.190170 s\n",
      "\n",
      "Warning: epochs is deprecated and will be removed in a future version. Use iterations instead.\n",
      "Initializing variables...\n"
     ]
    },
    {
     "name": "stderr",
     "output_type": "stream",
     "text": [
      "/Users/zhangtianjie/opt/anaconda3/envs/tf/lib/python3.7/site-packages/deepxde/nn/tensorflow_compat_v1/fnn.py:110: UserWarning: `tf.layers.dense` is deprecated and will be removed in a future version. Please use `tf.keras.layers.Dense` instead.\n",
      "  kernel_constraint=self.kernel_constraint,\n",
      "2023-09-04 15:10:14.589301: I tensorflow/core/platform/cpu_feature_guard.cc:193] This TensorFlow binary is optimized with oneAPI Deep Neural Network Library (oneDNN) to use the following CPU instructions in performance-critical operations:  AVX2 FMA\n",
      "To enable them in other operations, rebuild TensorFlow with the appropriate compiler flags.\n",
      "2023-09-04 15:10:14.729416: I tensorflow/compiler/mlir/mlir_graph_optimization_pass.cc:354] MLIR V1 optimization pass is not enabled\n"
     ]
    },
    {
     "name": "stdout",
     "output_type": "stream",
     "text": [
      "Training model...\n",
      "\n",
      "Step      Train loss    Test loss     Test metric   \n",
      "0         [9.36e+03]    [9.36e+03]    [9.99e-01]    \n",
      "1000      [3.07e+03]    [3.07e+03]    [5.72e-01]    \n",
      "2000      [1.49e+03]    [1.49e+03]    [3.98e-01]    \n",
      "3000      [9.02e+02]    [9.02e+02]    [3.10e-01]    \n",
      "4000      [5.46e+02]    [5.46e+02]    [2.41e-01]    \n",
      "5000      [3.11e+02]    [3.11e+02]    [1.82e-01]    \n",
      "6000      [1.65e+02]    [1.65e+02]    [1.33e-01]    \n",
      "7000      [8.05e+01]    [8.05e+01]    [9.27e-02]    \n",
      "8000      [3.58e+01]    [3.58e+01]    [6.18e-02]    \n",
      "9000      [1.44e+01]    [1.44e+01]    [3.92e-02]    \n",
      "10000     [5.25e+00]    [5.25e+00]    [2.37e-02]    \n",
      "11000     [2.33e+00]    [2.33e+00]    [1.58e-02]    \n",
      "12000     [5.11e-01]    [5.11e-01]    [7.38e-03]    \n",
      "13000     [1.88e+00]    [1.88e+00]    [1.42e-02]    \n",
      "14000     [5.59e-02]    [5.59e-02]    [2.44e-03]    \n",
      "15000     [1.20e+00]    [1.20e+00]    [1.13e-02]    \n",
      "16000     [1.77e-02]    [1.77e-02]    [1.38e-03]    \n",
      "17000     [1.40e-02]    [1.40e-02]    [1.22e-03]    \n",
      "18000     [1.05e-02]    [1.05e-02]    [1.06e-03]    \n",
      "19000     [9.24e-03]    [9.24e-03]    [9.93e-04]    \n",
      "20000     [2.80e-02]    [2.80e-02]    [1.73e-03]    \n",
      "21000     [6.91e-03]    [6.91e-03]    [8.59e-04]    \n",
      "22000     [6.48e-03]    [6.48e-03]    [8.32e-04]    \n",
      "23000     [3.34e-01]    [3.34e-01]    [5.97e-03]    \n",
      "24000     [1.21e+00]    [1.21e+00]    [1.14e-02]    \n",
      "25000     [1.31e-01]    [1.31e-01]    [3.73e-03]    \n",
      "26000     [4.89e-03]    [4.89e-03]    [7.23e-04]    \n",
      "27000     [4.73e-03]    [4.73e-03]    [7.10e-04]    \n"
     ]
    }
   ],
   "source": [
    "def PDE(x,y):\n",
    "    \n",
    "    x1,x2=x[:,0:1],x[:,1:2]#, t,shear rate\n",
    "\n",
    "    y_f = 12.1\n",
    "    A_0 = 43.6\n",
    "    \n",
    "    A_1 =131.2\n",
    "    \n",
    "    C = 56.1\n",
    "    a=2100\n",
    "    b=9.45\n",
    "   \n",
    "    eq1 = y_f+(A_0+(A_1-A_0)*tf.exp(-x2*x1/(a+b*x2)))*(tf.math.asinh(x2/C))-y\n",
    "  \n",
    "    return eq1\n",
    "\n",
    "def func(x):\n",
    "    \n",
    "    return solution(x[:,0:1],x[:,1:2])\n",
    "\n",
    "geom = dde.geometry.Rectangle([0, 0], [200, 200])\n",
    "\n",
    "#geom = dde.geometry.TimeDomain(0, 200)\n",
    "data = dde.data.PDE(geom, PDE, [], 3500, 1000,train_distribution='pseudo',solution=func, num_test=None)\n",
    "\n",
    "layer_size = [2] + [50] * 3 + [1]\n",
    "activation = \"tanh\"\n",
    "initializer = \"Glorot uniform\"\n",
    "net = dde.maps.FNN(layer_size, activation, initializer)\n",
    "\n",
    "model = dde.Model(data, net)\n",
    "model.compile(\"adam\", lr=0.001, metrics=[\"l2 relative error\"])\n",
    "losshistory, train_state = model.train(epochs=50000)\n",
    "\n",
    "dde.saveplot(losshistory, train_state, issave=True, isplot=True)"
   ]
  },
  {
   "cell_type": "markdown",
   "id": "8dbd823f",
   "metadata": {},
   "source": [
    "# FNN training"
   ]
  },
  {
   "cell_type": "code",
   "execution_count": null,
   "id": "1f92fd69",
   "metadata": {
    "scrolled": true
   },
   "outputs": [],
   "source": [
    "import pandas as pd\n",
    "from sklearn.neural_network import MLPRegressor\n",
    "from sklearn.metrics import mean_absolute_error\n",
    "\n",
    "train=np.loadtxt('train.dat', unpack = True)\n",
    "\n",
    "x_train = train[[0,1]].T\n",
    "y_train = train[2]\n",
    "\n",
    "clf = MLPRegressor(hidden_layer_sizes=(50,50,50),max_iter=50000)\n",
    "\n",
    "clf.fit(x_train, y_train)\n"
   ]
  },
  {
   "cell_type": "code",
   "execution_count": null,
   "id": "ee9a8978",
   "metadata": {},
   "outputs": [],
   "source": [
    "train1=np.loadtxt('train.dat', unpack = True)\n",
    "pd.DataFrame(train1.T,columns=['x','t','shear stress'])"
   ]
  },
  {
   "cell_type": "code",
   "execution_count": null,
   "id": "c37bb349",
   "metadata": {},
   "outputs": [],
   "source": [
    "x = np.linspace(0, 200, 200)\n",
    "t = np.linspace(0, 200, 200)\n",
    "X, T = np.meshgrid(x, t)\n",
    "\n",
    "X_star = np.hstack((X.flatten()[:, None], T.flatten()[:, None]))"
   ]
  },
  {
   "cell_type": "markdown",
   "id": "21de7a4b",
   "metadata": {},
   "source": [
    "# solution\n"
   ]
  },
  {
   "cell_type": "code",
   "execution_count": null,
   "id": "87091642",
   "metadata": {},
   "outputs": [],
   "source": [
    "# tau\n",
    "import pandas as pd\n",
    "train_lambda=np.loadtxt('train.dat', unpack = True)\n",
    "train_lambda = pd.DataFrame(train_lambda.T)\n",
    "\n",
    "ext = griddata(X_star, solution(X_star[:,0],X_star[:,1]), (X, T), method=\"cubic\")\n",
    "fig, ax = plt.subplots()\n",
    "h=ax.contourf(X,T, ext,cmap=\"viridis\",origin='lower', aspect='auto',interpolation='nearest')\n",
    "plt.xlabel('$t(s)$',fontproperties = 'Times New Roman', size = 14)\n",
    "plt.ylabel('$\\dot{\\gamma } ( s^{-1}) $ ',fontproperties = 'Times New Roman', size = 14 )\n",
    "plt.title(r'$\\mathbf{\\tau_{FEA} }$',fontproperties = 'Times New Roman', size = 14)\n",
    "# plt.yticks(fontproperties = 'Times New Roman', size = 14)\n",
    "# plt.xticks(fontproperties = 'Times New Roman', size = 14)\n",
    "\n",
    "plt.scatter(train_lambda[0],train_lambda[1],c='black',s=1)\n",
    "\n",
    "\n",
    "from mpl_toolkits.axes_grid1 import make_axes_locatable\n",
    "divider = make_axes_locatable(ax)\n",
    "cax = divider.append_axes(\"right\", size=\"5%\", pad=0.05)\n",
    "fig.colorbar(h, cax=cax)\n",
    "plt.savefig('tau-solution.png',dpi=600,bbox_inches = 'tight')"
   ]
  },
  {
   "cell_type": "code",
   "execution_count": null,
   "id": "253c9190",
   "metadata": {},
   "outputs": [],
   "source": [
    "train_lambda=np.loadtxt('train.dat', unpack = True)\n",
    "train_lambda = pd.DataFrame(train_lambda.T)\n",
    "ext = griddata(X_star, solution(X_star[:,0],X_star[:,1]), (X, T), method=\"cubic\")\n",
    "fig, ax = plt.subplots()\n",
    "h=ax.contourf(X,T, ext/T,cmap=\"viridis\",origin='lower', aspect='auto',interpolation='nearest')\n",
    "plt.xlabel('$t(s)$',fontproperties = 'Times New Roman', size = 14)\n",
    "plt.ylabel('$\\dot{\\gamma } ( s^{-1}) $ ',fontproperties = 'Times New Roman', size = 14 )\n",
    "plt.title(r'$\\mathbf{\\eta _{FEA}}$',fontproperties = 'Times New Roman', size = 14)\n",
    "plt.scatter(train_lambda[0],train_lambda[1],c='black',s=1)\n",
    "# plt.yticks(fontproperties = 'Times New Roman', size = 14)\n",
    "# plt.xticks(fontproperties = 'Times New Roman', size = 14)\n",
    "\n",
    "from mpl_toolkits.axes_grid1 import make_axes_locatable\n",
    "divider = make_axes_locatable(ax)\n",
    "cax = divider.append_axes(\"right\", size=\"5%\", pad=0.05)\n",
    "fig.colorbar(h, cax=cax)\n",
    "\n",
    "plt.savefig('viscosity-solution.png',dpi=600,bbox_inches = 'tight')"
   ]
  },
  {
   "cell_type": "markdown",
   "id": "c071d504",
   "metadata": {},
   "source": [
    "# pinn prediction part: tau, lambda, eta, error."
   ]
  },
  {
   "cell_type": "code",
   "execution_count": null,
   "id": "dc2fe179",
   "metadata": {},
   "outputs": [],
   "source": [
    "x = np.linspace(0, 200, 200)\n",
    "t = np.linspace(0, 200, 200)\n",
    "X, T = np.meshgrid(x, t)\n",
    "\n",
    "X_star = np.hstack((X.flatten()[:, None], T.flatten()[:, None]))\n",
    "\n",
    "import time\n",
    "start=time.time()\n",
    "prediction = model.predict(X_star, operator=None)\n",
    "end=time.time()\n",
    "time_pinn = end-start\n",
    "print(time_pinn)\n",
    "\n",
    "pinn_pre = griddata(X_star, prediction[:, 0], (X, T), method=\"cubic\")\n",
    "\n",
    "fig, ax = plt.subplots()\n",
    "h=ax.contourf(X,T, pinn_pre,cmap=\"viridis\",origin='lower', aspect='auto',interpolation='nearest')\n",
    "plt.xlabel('$t(s)$',fontproperties = 'Times New Roman', size = 14)\n",
    "plt.ylabel('$\\dot{\\gamma } ( s^{-1}) $ ',fontproperties = 'Times New Roman', size = 14 )\n",
    "plt.title(r'$\\mathbf{\\tau _{RheologyNet} }$',fontproperties = 'Times New Roman', size = 14)\n",
    "# plt.yticks(fontproperties = 'Times New Roman', size = 14)\n",
    "# plt.xticks(fontproperties = 'Times New Roman', size = 14)\n",
    "\n",
    "\n",
    "from mpl_toolkits.axes_grid1 import make_axes_locatable\n",
    "divider = make_axes_locatable(ax)\n",
    "cax = divider.append_axes(\"right\", size=\"5%\", pad=0.05)\n",
    "fig.colorbar(h, cax=cax)\n",
    "plt.savefig('tau-pinn.png',dpi=600,bbox_inches = 'tight')"
   ]
  },
  {
   "cell_type": "markdown",
   "id": "4cb2aa9d",
   "metadata": {},
   "source": [
    "# eta"
   ]
  },
  {
   "cell_type": "code",
   "execution_count": null,
   "id": "953ca852",
   "metadata": {},
   "outputs": [],
   "source": [
    "from matplotlib import ticker, cm\n",
    "x = np.linspace(0, 200, 200)\n",
    "t = np.linspace(0, 200, 200)\n",
    "X, T = np.meshgrid(x, t)\n",
    "\n",
    "X_star = np.hstack((X.flatten()[:, None], T.flatten()[:, None]))\n",
    "prediction = model.predict(X_star, operator=None)\n",
    "\n",
    "pinn_pre = griddata(X_star, prediction[:, 0], (X, T), method=\"cubic\")\n",
    "\n",
    "fig, ax = plt.subplots()\n",
    "# norm = matplotlib.colors.Normalize(vmin=0, vmax=100)\n",
    "h=ax.contourf(X,T, pinn_pre/T,cmap=\"viridis\",origin='lower',aspect='auto',interpolation='nearest')\n",
    "plt.xlabel('$t(s)$',fontproperties = 'Times New Roman', size = 14)\n",
    "plt.ylabel('$\\dot{\\gamma } ( s^{-1}) $ ',fontproperties = 'Times New Roman', size = 14 )\n",
    "plt.title(r'$\\mathbf{\\eta _{RheologyNet} }$',fontproperties = 'Times New Roman', size = 14)\n",
    "\n",
    "\n",
    "from mpl_toolkits.axes_grid1 import make_axes_locatable\n",
    "divider = make_axes_locatable(ax)\n",
    "cax = divider.append_axes(\"right\", size=\"5%\", pad=0.05)\n",
    "fig.colorbar(h, cax=cax)\n",
    "plt.savefig('eta-pinn.png',dpi=600,bbox_inches = 'tight')"
   ]
  },
  {
   "cell_type": "markdown",
   "id": "7f3b3344",
   "metadata": {},
   "source": [
    "# nn pre"
   ]
  },
  {
   "cell_type": "code",
   "execution_count": null,
   "id": "a51ca0c9",
   "metadata": {},
   "outputs": [],
   "source": [
    "x = np.linspace(0, 200, 200)\n",
    "t = np.linspace(0, 200, 200)\n",
    "X, T = np.meshgrid(x, t)\n",
    "\n",
    "X_star = np.hstack((X.flatten()[:, None], T.flatten()[:, None]))\n",
    "\n",
    "start_fnn=time.time()\n",
    "prediction = clf.predict(X_star)\n",
    "end_fnn=time.time()\n",
    "time_fnn = end_fnn-start_fnn\n",
    "print(time_fnn)\n",
    "\n",
    "pre_nn = griddata(X_star, prediction, (X, T), method=\"cubic\")\n",
    "\n",
    "fig, ax = plt.subplots()\n",
    "h=ax.contourf(X,T, pre_nn,cmap=\"viridis\",origin='lower', aspect='auto',interpolation='nearest')\n",
    "plt.xlabel('$t(s)$',fontproperties = 'Times New Roman', size = 14)\n",
    "plt.ylabel('$\\dot{\\gamma } ( s^{-1}) $ ',fontproperties = 'Times New Roman', size = 14 )\n",
    "plt.title(r'$\\mathbf{\\tau _{FNN} }$ ',fontproperties = 'Times New Roman', size = 14)\n",
    "\n",
    "from mpl_toolkits.axes_grid1 import make_axes_locatable\n",
    "divider = make_axes_locatable(ax)\n",
    "cax = divider.append_axes(\"right\", size=\"5%\", pad=0.05)\n",
    "fig.colorbar(h, cax=cax)\n",
    "plt.savefig('tau-FNN.png',dpi=600,bbox_inches = 'tight')"
   ]
  },
  {
   "cell_type": "code",
   "execution_count": null,
   "id": "33d23123",
   "metadata": {},
   "outputs": [],
   "source": [
    "x = np.linspace(0, 200, 200)\n",
    "t = np.linspace(0, 200, 200)\n",
    "X, T = np.meshgrid(x, t)\n",
    "\n",
    "X_star = np.hstack((X.flatten()[:, None], T.flatten()[:, None]))\n",
    "\n",
    "prediction = clf.predict(X_star)\n",
    "\n",
    "pre_nn = griddata(X_star, prediction, (X, T), method=\"cubic\")\n",
    "\n",
    "fig, ax = plt.subplots()\n",
    "h=ax.contourf(X,T, pre_nn/T,cmap=\"viridis\",origin='lower', aspect='auto',interpolation='nearest')\n",
    "plt.xlabel('$t(s)$',fontproperties = 'Times New Roman', size = 14)\n",
    "plt.ylabel('$\\dot{\\gamma } ( s^{-1}) $ ',fontproperties = 'Times New Roman', size = 14 )\n",
    "plt.title(r'$\\mathbf{\\eta _{FNN} }$ ',fontproperties = 'Times New Roman', size = 14)\n",
    "\n",
    "from mpl_toolkits.axes_grid1 import make_axes_locatable\n",
    "divider = make_axes_locatable(ax)\n",
    "cax = divider.append_axes(\"right\", size=\"5%\", pad=0.05)\n",
    "fig.colorbar(h, cax=cax)\n",
    "plt.savefig('FNN_pre.png',dpi=600,bbox_inches = 'tight')"
   ]
  },
  {
   "cell_type": "markdown",
   "id": "6a59579c",
   "metadata": {},
   "source": [
    "# nn err"
   ]
  },
  {
   "cell_type": "code",
   "execution_count": null,
   "id": "41cf7b98",
   "metadata": {},
   "outputs": [],
   "source": [
    "err_nn = abs(pre_nn-ext)\n",
    "fig, ax = plt.subplots()\n",
    "h=ax.contourf(X,T, err_nn,cmap=\"viridis\",origin='lower', aspect='auto',interpolation='nearest')\n",
    "plt.xlabel('$t(s)$',fontproperties = 'Times New Roman', size = 14)\n",
    "plt.ylabel('$\\dot{\\gamma } ( s^{-1}) $ ',fontproperties = 'Times New Roman', size = 14 )\n",
    "plt.title(r'$\\mathbf{\\varepsilon _{\\tau ,FNN}   } $ ',fontproperties = 'Times New Roman', size = 14)\n",
    "\n",
    "from mpl_toolkits.axes_grid1 import make_axes_locatable\n",
    "divider = make_axes_locatable(ax)\n",
    "cax = divider.append_axes(\"right\", size=\"5%\", pad=0.05)\n",
    "fig.colorbar(h, cax=cax)\n",
    "plt.savefig('err_tau-FNN.png',dpi=600,bbox_inches = 'tight')"
   ]
  },
  {
   "cell_type": "code",
   "execution_count": null,
   "id": "4986e7cb",
   "metadata": {},
   "outputs": [],
   "source": [
    "err_nn = abs(pre_nn/T-ext/T)\n",
    "fig, ax = plt.subplots()\n",
    "h=ax.contourf(X,T, err_nn,cmap=\"viridis\",origin='lower', aspect='auto',interpolation='nearest',locator=ticker.LogLocator())\n",
    "plt.xlabel('$t(s)$',fontproperties = 'Times New Roman', size = 14)\n",
    "plt.ylabel('$\\dot{\\gamma } ( s^{-1}) $ ',fontproperties = 'Times New Roman', size = 14 )\n",
    "plt.title(r'$\\mathbf{\\varepsilon _{\\eta ,FNN}   } $ ',fontproperties = 'Times New Roman', size = 14)\n",
    "\n",
    "from mpl_toolkits.axes_grid1 import make_axes_locatable\n",
    "divider = make_axes_locatable(ax)\n",
    "cax = divider.append_axes(\"right\", size=\"5%\", pad=0.05)\n",
    "fig.colorbar(h, cax=cax)\n",
    "plt.savefig('err-FNN-eta.png',dpi=600,bbox_inches = 'tight')"
   ]
  },
  {
   "cell_type": "markdown",
   "id": "05182904",
   "metadata": {},
   "source": [
    "# pinn error"
   ]
  },
  {
   "cell_type": "code",
   "execution_count": null,
   "id": "7292cf8a",
   "metadata": {},
   "outputs": [],
   "source": [
    "from matplotlib import ticker, cm\n",
    "err_pinn_tau = abs(pinn_pre-ext)\n",
    "fig, ax = plt.subplots()\n",
    "h=ax.contourf(X,T, err_pinn_tau,cmap=\"viridis\",origin='lower', aspect='auto',interpolation='nearest')\n",
    "plt.xlabel('$t(s)$',fontproperties = 'Times New Roman', size = 14)\n",
    "plt.ylabel('$\\dot{\\gamma } ( s^{-1}) $ ',fontproperties = 'Times New Roman', size = 14 )\n",
    "plt.title(r'$\\mathbf{\\varepsilon _{\\tau ,RheologyNet}  } $ ',fontproperties = 'Times New Roman', size = 14)\n",
    "\n",
    "from mpl_toolkits.axes_grid1 import make_axes_locatable\n",
    "divider = make_axes_locatable(ax)\n",
    "cax = divider.append_axes(\"right\", size=\"5%\", pad=0.05)\n",
    "fig.colorbar(h, cax=cax)\n",
    "plt.savefig('err-rn-tau.png',dpi=600,bbox_inches = 'tight')"
   ]
  },
  {
   "cell_type": "code",
   "execution_count": null,
   "id": "926cefb1",
   "metadata": {},
   "outputs": [],
   "source": []
  },
  {
   "cell_type": "code",
   "execution_count": null,
   "id": "a52a68bd",
   "metadata": {},
   "outputs": [],
   "source": [
    "err_pinn_eta = abs(pinn_pre/T-ext/T)\n",
    "fig, ax = plt.subplots()\n",
    "h=ax.contourf(X,T, err_pinn_eta,cmap=\"viridis\",origin='lower',aspect='auto',interpolation='nearest',locator=ticker.LogLocator())\n",
    "plt.xlabel('$t(s)$',fontproperties = 'Times New Roman', size = 14)\n",
    "plt.ylabel('$\\dot{\\gamma } ( s^{-1}) $ ',fontproperties = 'Times New Roman', size = 14 )\n",
    "plt.title(r'$\\mathbf{\\varepsilon _{\\eta ,RheologyNet}  } $ ',fontproperties = 'Times New Roman', size = 14)\n",
    "\n",
    "from mpl_toolkits.axes_grid1 import make_axes_locatable\n",
    "divider = make_axes_locatable(ax)\n",
    "cax = divider.append_axes(\"right\", size=\"5%\", pad=0.05)\n",
    "fig.colorbar(h, cax=cax)\n",
    "plt.savefig('err-rn-eta.png',dpi=600,bbox_inches = 'tight')"
   ]
  },
  {
   "cell_type": "markdown",
   "id": "55570448",
   "metadata": {},
   "source": [
    "# PINN MSE"
   ]
  },
  {
   "cell_type": "code",
   "execution_count": null,
   "id": "a9c7c2cd",
   "metadata": {},
   "outputs": [],
   "source": [
    "from sklearn.metrics import mean_squared_error\n",
    "eta_pre= pinn_pre/T\n",
    "eta_pre[eta_pre>1e308]=0\n",
    "\n",
    "eta_ext=ext/T\n",
    "eta_ext[eta_ext>1e308]=0\n",
    "eta_nn = pre_nn/T\n",
    "\n",
    "eta_nn[eta_nn>1e308]=0\n",
    "\n",
    "print('tau-mse-pinn',mean_squared_error(pinn_pre,ext))\n",
    "print('eta-mse-pinn',mean_squared_error(eta_pre,eta_ext))\n",
    "print('tau-mse-fnn',mean_squared_error(pre_nn,ext))\n",
    "print('eta-mse-fnn',mean_squared_error(eta_nn,eta_ext))\n",
    "\n",
    "print('pinn_time',time_pinn)\n",
    "print('fnn_time',time_fnn)"
   ]
  },
  {
   "cell_type": "code",
   "execution_count": null,
   "id": "231d302e",
   "metadata": {},
   "outputs": [],
   "source": []
  },
  {
   "cell_type": "code",
   "execution_count": null,
   "id": "b9ca52c5",
   "metadata": {},
   "outputs": [],
   "source": []
  },
  {
   "cell_type": "code",
   "execution_count": null,
   "id": "d6fb297f",
   "metadata": {},
   "outputs": [],
   "source": []
  },
  {
   "cell_type": "code",
   "execution_count": null,
   "id": "0ad870cc",
   "metadata": {},
   "outputs": [],
   "source": []
  }
 ],
 "metadata": {
  "kernelspec": {
   "display_name": "Python 3 (ipykernel)",
   "language": "python",
   "name": "python3"
  },
  "language_info": {
   "codemirror_mode": {
    "name": "ipython",
    "version": 3
   },
   "file_extension": ".py",
   "mimetype": "text/x-python",
   "name": "python",
   "nbconvert_exporter": "python",
   "pygments_lexer": "ipython3",
   "version": "3.7.7"
  }
 },
 "nbformat": 4,
 "nbformat_minor": 5
}
