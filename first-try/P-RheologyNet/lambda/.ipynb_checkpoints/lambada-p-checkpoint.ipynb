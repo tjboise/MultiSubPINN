{
 "cells": [
  {
   "cell_type": "code",
   "execution_count": 1,
   "id": "acf7b664",
   "metadata": {},
   "outputs": [
    {
     "name": "stderr",
     "output_type": "stream",
     "text": [
      "Using backend: tensorflow.compat.v1\n",
      "\n"
     ]
    },
    {
     "name": "stdout",
     "output_type": "stream",
     "text": [
      "WARNING:tensorflow:From /Users/zhangtianjie/opt/anaconda3/envs/tf/lib/python3.7/site-packages/tensorflow/python/compat/v2_compat.py:107: disable_resource_variables (from tensorflow.python.ops.variable_scope) is deprecated and will be removed in a future version.\n",
      "Instructions for updating:\n",
      "non-resource variables are not supported in the long term\n",
      "WARNING:tensorflow:From /Users/zhangtianjie/opt/anaconda3/envs/tf/lib/python3.7/site-packages/deepxde/nn/initializers.py:118: The name tf.keras.initializers.he_normal is deprecated. Please use tf.compat.v1.keras.initializers.he_normal instead.\n",
      "\n"
     ]
    }
   ],
   "source": [
    "import deepxde as dde\n",
    "import numpy as np\n",
    "import matplotlib.pyplot as plt\n",
    "import matplotlib.gridspec as gridspec\n",
    "from scipy.interpolate import griddata\n",
    "import scipy.io\n",
    "import tensorflow as tf"
   ]
  },
  {
   "cell_type": "code",
   "execution_count": null,
   "id": "7bff110b",
   "metadata": {
    "scrolled": false
   },
   "outputs": [
    {
     "name": "stdout",
     "output_type": "stream",
     "text": [
      "Compiling model...\n",
      "Building feed-forward neural network...\n",
      "'build' took 0.045185 s\n",
      "\n"
     ]
    },
    {
     "name": "stderr",
     "output_type": "stream",
     "text": [
      "/Users/zhangtianjie/opt/anaconda3/envs/tf/lib/python3.7/site-packages/deepxde/nn/tensorflow_compat_v1/fnn.py:110: UserWarning: `tf.layers.dense` is deprecated and will be removed in a future version. Please use `tf.keras.layers.Dense` instead.\n",
      "  kernel_constraint=self.kernel_constraint,\n",
      "2023-09-04 15:31:57.415835: I tensorflow/core/platform/cpu_feature_guard.cc:193] This TensorFlow binary is optimized with oneAPI Deep Neural Network Library (oneDNN) to use the following CPU instructions in performance-critical operations:  AVX2 FMA\n",
      "To enable them in other operations, rebuild TensorFlow with the appropriate compiler flags.\n"
     ]
    },
    {
     "name": "stdout",
     "output_type": "stream",
     "text": [
      "'compile' took 0.256595 s\n",
      "\n",
      "Warning: epochs is deprecated and will be removed in a future version. Use iterations instead.\n",
      "Initializing variables...\n",
      "Training model...\n",
      "\n",
      "Step      Train loss                        Test loss                         Test metric   \n",
      "0         [7.57e-04, 1.78e+00, 4.56e+00]    [7.57e-04, 1.78e+00, 4.56e+00]    [2.66e+00]    \n"
     ]
    },
    {
     "name": "stderr",
     "output_type": "stream",
     "text": [
      "2023-09-04 15:31:57.632771: I tensorflow/compiler/mlir/mlir_graph_optimization_pass.cc:354] MLIR V1 optimization pass is not enabled\n"
     ]
    },
    {
     "name": "stdout",
     "output_type": "stream",
     "text": [
      "1000      [1.17e-04, 5.57e-07, 2.23e-05]    [1.17e-04, 5.57e-07, 2.23e-05]    [4.04e-01]    \n",
      "2000      [5.55e-05, 6.20e-07, 4.37e-06]    [5.55e-05, 6.20e-07, 4.37e-06]    [3.21e-01]    \n",
      "3000      [3.63e-05, 4.97e-07, 1.75e-06]    [3.63e-05, 4.97e-07, 1.75e-06]    [2.60e-01]    \n",
      "4000      [2.37e-05, 1.68e-07, 8.33e-07]    [2.37e-05, 1.68e-07, 8.33e-07]    [2.10e-01]    \n",
      "5000      [1.76e-05, 6.10e-08, 4.77e-07]    [1.76e-05, 6.10e-08, 4.77e-07]    [1.86e-01]    \n",
      "6000      [1.28e-05, 3.67e-09, 2.65e-07]    [1.28e-05, 3.67e-09, 2.65e-07]    [1.63e-01]    \n",
      "7000      [1.03e-05, 9.39e-09, 1.69e-07]    [1.03e-05, 9.39e-09, 1.69e-07]    [1.48e-01]    \n",
      "8000      [7.95e-06, 1.90e-06, 1.22e-05]    [7.95e-06, 1.90e-06, 1.22e-05]    [1.31e-01]    \n",
      "9000      [6.45e-06, 2.11e-07, 4.11e-06]    [6.45e-06, 2.11e-07, 4.11e-06]    [1.19e-01]    \n",
      "10000     [4.43e-06, 1.45e-08, 5.80e-08]    [4.43e-06, 1.45e-08, 5.80e-08]    [1.02e-01]    \n"
     ]
    }
   ],
   "source": [
    "def PDE(x,y):\n",
    "    \n",
    "    # x[0]=x,x[1]=t\n",
    "    a = 688\n",
    "    b = 40.1\n",
    "    \n",
    "    dy_t = dde.grad.jacobian(y, x,i=0,j=1)\n",
    "    \n",
    "    k2 = x[:,0:1]/(a+b*x[:,0:1])\n",
    "    \n",
    "    eq1 =  k2*y + dy_t\n",
    " \n",
    "    return eq1\n",
    "\n",
    "def solution1(x,t):\n",
    "    a = 688\n",
    "    b = 40.1\n",
    "    \n",
    "    y= np.exp(-x*t/(a+b*x))\n",
    "    \n",
    "    return y\n",
    "\n",
    "\n",
    "\n",
    "geom = dde.geometry.Interval(0, 200)\n",
    "timedomain = dde.geometry.TimeDomain(0, 200)\n",
    "geomtime = dde.geometry.GeometryXTime(geom, timedomain)\n",
    "\n",
    "def boundary(x, on_boundary):\n",
    "    return on_boundary and np.isclose(x[0], 0)\n",
    "\n",
    "def func(x):\n",
    "    return 1\n",
    "\n",
    "\n",
    "bc = dde.icbc.DirichletBC(geomtime, func, boundary)\n",
    "\n",
    "ic = dde.icbc.IC(\n",
    "    geomtime,\n",
    "    lambda x: 1,\n",
    "    lambda _, on_initial: on_initial,\n",
    ")\n",
    "\n",
    "\n",
    "def func1(x):\n",
    "    \n",
    "    return solution1(x[:,0:1],x[:,1:2])\n",
    "\n",
    "data = dde.data.TimePDE(geomtime, PDE, [bc,ic] , 3500, 100,train_distribution='pseudo',solution=func1, num_initial=600, num_test=None)\n",
    "\n",
    "layer_size = [2] + [50] * 3 + [1]\n",
    "activation = \"tanh\"\n",
    "initializer = \"Glorot uniform\"\n",
    "net = dde.maps.PFNN(layer_size, activation, initializer)\n",
    "\n",
    "model = dde.Model(data, net)\n",
    "model.compile(\"adam\", lr=0.001,metrics=[\"l2 relative error\"])\n",
    "losshistory, train_state = model.train(epochs=50000)\n",
    "\n",
    "dde.saveplot(losshistory, train_state, issave=True, isplot=True)"
   ]
  },
  {
   "cell_type": "code",
   "execution_count": null,
   "id": "16cb3292",
   "metadata": {},
   "outputs": [],
   "source": [
    "import pandas as pd\n",
    "test1=np.loadtxt('test.dat', unpack = True)\n",
    "df = pd.DataFrame(test1.T, columns = ['x','t','exact','predict'])\n",
    "df"
   ]
  },
  {
   "cell_type": "code",
   "execution_count": null,
   "id": "90805ea4",
   "metadata": {},
   "outputs": [],
   "source": [
    "import pandas as pd\n",
    "train1=np.loadtxt('train.dat', unpack = True)\n",
    "train1 = pd.DataFrame(train1.T)\n",
    "test1=np.loadtxt('test.dat', unpack = True)\n",
    "df = pd.DataFrame(test1.T, columns = ['x','y','u','s'])\n",
    "x = df['x']\n",
    "y = df['y']\n",
    "ext = df['u']\n",
    "pre = df['s']\n",
    "from scipy.interpolate import griddata\n",
    "N = 1000; \n",
    "#npts = 2000*2000\n",
    "\n",
    "# grid_x,grid_y = np.meshgrid(np.linspace(x.min(),x.max(),N),np.linspace(y.min(),y.max(),N))\n",
    "grid_x,grid_y = np.meshgrid(np.linspace(0,200,N),np.linspace(0,200,N))\n",
    "# grid_x1,grid_y1 = np.meshgrid(np.linspace(0,1,500),np.linspace(0,1,500))\n",
    "\n",
    "#px, py = np.random.choice(x, npts), np.random.choice(y, npts)\n",
    "grid_ext = griddata((x,y) ,ext, (grid_x, grid_y), method='linear')\n",
    "grid_pre = griddata((x,y) ,pre, (grid_x, grid_y), method='linear')\n",
    "\n",
    "grid_err = grid_pre-grid_ext\n",
    "\n",
    "rng = np.random.default_rng()\n",
    "# points = rng.random((1000, 2))\n",
    "\n",
    "# a=np.zeros(1000)\n",
    "# a[:]=np.nan\n",
    "# grid_z2 = griddata(points ,  a , (grid_x1, grid_y1), method='cubic')\n",
    "#grid_z1[999:2000,999:2000]=0\n",
    "#scipy.interpolate.griddata(X,Y,X**2+Y**2,XI,YI)\n",
    "plt.contourf(grid_x,grid_y, grid_pre,cmap=\"viridis\",origin='lower', aspect='auto',interpolation='nearest')\n",
    "plt.scatter(train1[0],train1[1],c='black',s=1)\n",
    "# plt.scatter(test1[0],test1[1],c='yellow',s=1)\n",
    "# plt.axis('equal')\n",
    "plt.tight_layout()\n",
    "# plt.axis('off')\n",
    "plt.xlabel('time')\n",
    "plt.xlim(0,200)\n",
    "plt.ylabel('shear rate')\n"
   ]
  },
  {
   "cell_type": "code",
   "execution_count": null,
   "id": "388e4da4",
   "metadata": {},
   "outputs": [],
   "source": [
    "fig, ax = plt.subplots()\n",
    "h=ax.contourf(grid_x,grid_y, grid_ext,cmap=\"viridis\",origin='lower', aspect='auto',interpolation='nearest')\n",
    "plt.xlabel('Time')\n",
    "plt.ylabel('Shear Rate')\n",
    "\n",
    "from mpl_toolkits.axes_grid1 import make_axes_locatable\n",
    "divider = make_axes_locatable(ax)\n",
    "cax = divider.append_axes(\"right\", size=\"5%\", pad=0.05)\n",
    "fig.colorbar(h, cax=cax)\n",
    "plt.savefig('solution.png',dpi=600,bbox_inches = 'tight')"
   ]
  },
  {
   "cell_type": "code",
   "execution_count": null,
   "id": "a2752b69",
   "metadata": {},
   "outputs": [],
   "source": [
    "fig, ax = plt.subplots()\n",
    "h=ax.contourf(grid_x,grid_y, grid_pre,cmap=\"viridis\",origin='lower', aspect='auto',interpolation='nearest')\n",
    "plt.xlabel('Time')\n",
    "plt.ylabel('Shear Rate')\n",
    "\n",
    "from mpl_toolkits.axes_grid1 import make_axes_locatable\n",
    "divider = make_axes_locatable(ax)\n",
    "cax = divider.append_axes(\"right\", size=\"5%\", pad=0.05)\n",
    "fig.colorbar(h, cax=cax)\n",
    "plt.savefig('prediction.png',dpi=600,bbox_inches = 'tight')"
   ]
  },
  {
   "cell_type": "code",
   "execution_count": null,
   "id": "735e0ddb",
   "metadata": {},
   "outputs": [],
   "source": [
    "fig, ax = plt.subplots()\n",
    "h=ax.contourf(grid_x,grid_y, grid_err,cmap=\"viridis\",origin='lower', aspect='auto',interpolation='nearest')\n",
    "plt.xlabel('Time')\n",
    "plt.ylabel('Shear Rate')\n",
    "\n",
    "from mpl_toolkits.axes_grid1 import make_axes_locatable\n",
    "divider = make_axes_locatable(ax)\n",
    "cax = divider.append_axes(\"right\", size=\"5%\", pad=0.05)\n",
    "fig.colorbar(h, cax=cax)\n",
    "plt.savefig('error.png',dpi=600,bbox_inches = 'tight')"
   ]
  },
  {
   "cell_type": "markdown",
   "id": "db92df4d",
   "metadata": {},
   "source": [
    "# Test"
   ]
  },
  {
   "cell_type": "code",
   "execution_count": null,
   "id": "0e421575",
   "metadata": {},
   "outputs": [],
   "source": [
    "x = np.linspace(0, 200, 200)\n",
    "t = np.linspace(0, 200, 200)\n",
    "X, T = np.meshgrid(x, t)\n",
    "\n",
    "X_star = np.hstack((X.flatten()[:, None], T.flatten()[:, None]))\n",
    "prediction = model.predict(X_star, operator=None)\n",
    "\n",
    "pre = griddata(X_star, prediction[:, 0], (X, T), method=\"cubic\")\n",
    "\n",
    "fig, ax = plt.subplots()\n",
    "h=ax.contourf(X,T, pre,cmap=\"viridis\",origin='lower', aspect='auto',interpolation='nearest')\n",
    "plt.xlabel('$t(s)$',fontproperties = 'Times New Roman', size = 14)\n",
    "plt.ylabel('$\\dot{\\gamma } ( s^{-1}) $ ',fontproperties = 'Times New Roman', size = 14 )\n",
    "plt.title('$\\mathbf{\\lambda _{RheologyNet}}$ ',fontproperties = 'Times New Roman', size = 14)\n",
    "\n",
    "\n",
    "from mpl_toolkits.axes_grid1 import make_axes_locatable\n",
    "divider = make_axes_locatable(ax)\n",
    "cax = divider.append_axes(\"right\", size=\"5%\", pad=0.05)\n",
    "fig.colorbar(h, cax=cax)\n",
    "plt.savefig('pinn_of_λ.png',dpi=600,bbox_inches = 'tight')"
   ]
  },
  {
   "cell_type": "markdown",
   "id": "e7b4c890",
   "metadata": {},
   "source": [
    "# exact solution"
   ]
  },
  {
   "cell_type": "code",
   "execution_count": null,
   "id": "4268d0a6",
   "metadata": {},
   "outputs": [],
   "source": [
    "train1=np.loadtxt('train.dat', unpack = True)\n",
    "train1 = pd.DataFrame(train1.T)\n",
    "ext = griddata(X_star, solution1(X_star[:,0],X_star[:,1]), (X, T), method=\"cubic\")\n",
    "fig, ax = plt.subplots()\n",
    "h=ax.contourf(X,T, ext,cmap=\"viridis\",origin='lower', aspect='auto',interpolation='nearest')\n",
    "plt.xlabel('$t(s)$',fontproperties = 'Times New Roman', size = 14)\n",
    "plt.ylabel('$\\dot{\\gamma } ( s^{-1}) $ ',fontproperties = 'Times New Roman', size = 14 )\n",
    "plt.title('$\\mathbf{\\lambda _{FEA}}$ ',fontproperties = 'Times New Roman', size = 14)\n",
    "plt.scatter(train1[0],train1[1],c='black',s=1)\n",
    "\n",
    "\n",
    "from mpl_toolkits.axes_grid1 import make_axes_locatable\n",
    "divider = make_axes_locatable(ax)\n",
    "cax = divider.append_axes(\"right\", size=\"5%\", pad=0.05)\n",
    "fig.colorbar(h, cax=cax)\n",
    "plt.savefig('solution_of_λ.png',dpi=600,bbox_inches = 'tight')\n",
    "\n"
   ]
  },
  {
   "cell_type": "code",
   "execution_count": null,
   "id": "0106e70a",
   "metadata": {},
   "outputs": [],
   "source": [
    "err=abs(pre-ext)\n",
    "fig, ax = plt.subplots()\n",
    "h=ax.contourf(X,T, err,cmap=\"viridis\",origin='lower', aspect='auto',interpolation='nearest')\n",
    "plt.xlabel('$t(s)$',fontproperties = 'Times New Roman', size = 14)\n",
    "plt.ylabel('$\\dot{\\gamma } ( s^{-1}) $ ',fontproperties = 'Times New Roman', size = 14 )\n",
    "\n",
    "plt.title(r'$\\mathbf{\\varepsilon_{\\lambda ,RheologyNet} }$ ',fontproperties = 'Times New Roman', size = 14 )\n",
    "\n",
    "from mpl_toolkits.axes_grid1 import make_axes_locatable\n",
    "divider = make_axes_locatable(ax)\n",
    "cax = divider.append_axes(\"right\", size=\"5%\", pad=0.05)\n",
    "fig.colorbar(h, cax=cax)\n",
    "plt.savefig('pinn_err_λ.png',dpi=600,bbox_inches = 'tight')"
   ]
  },
  {
   "cell_type": "code",
   "execution_count": null,
   "id": "24af9c85",
   "metadata": {},
   "outputs": [],
   "source": [
    "train=np.loadtxt('train.dat', unpack = True)\n",
    "df = pd.DataFrame(train.T)\n",
    "df"
   ]
  },
  {
   "cell_type": "code",
   "execution_count": null,
   "id": "b5be733d",
   "metadata": {},
   "outputs": [],
   "source": [
    "import pandas as pd\n",
    "train=np.loadtxt('train.dat', unpack = True)\n",
    "# train= pd.DataFrame(train.T)\n",
    "# test1=np.loadtxt('test.dat', unpack = True)\n",
    "df = pd.DataFrame(train.T, columns = ['x','y','u'])\n",
    "x = df['x']\n",
    "y = df['y']\n",
    "z = df['u']\n",
    "from scipy.interpolate import griddata\n",
    "N = 1000; \n",
    "#npts = 2000*2000\n",
    "\n",
    "grid_x,grid_y = np.meshgrid(np.linspace(x.min(),x.max(),N),np.linspace(y.min(),y.max(),N))\n",
    "# grid_x1,grid_y1 = np.meshgrid(np.linspace(0,1,500),np.linspace(0,1,500))\n",
    "\n",
    "#px, py = np.random.choice(x, npts), np.random.choice(y, npts)\n",
    "grid_z1 = griddata((x,y) ,z, (grid_x, grid_y), method='linear')\n",
    "\n",
    "rng = np.random.default_rng()\n",
    "# points = rng.random((1000, 2))\n",
    "\n",
    "# a=np.zeros(1000)\n",
    "# a[:]=np.nan\n",
    "# grid_z2 = griddata(points ,  a , (grid_x1, grid_y1), method='cubic')\n",
    "#grid_z1[999:2000,999:2000]=0\n",
    "#scipy.interpolate.griddata(X,Y,X**2+Y**2,XI,YI)\n",
    "plt.contourf(grid_x,grid_y, grid_z1,cmap=\"viridis\",origin='lower', aspect='auto',interpolation='nearest')\n",
    "# plt.scatter(train1[0],train1[1],c='red',s=1)\n",
    "# plt.scatter(test1[0],test1[1],c='black',s=1)\n",
    "# plt.axis('equal')\n",
    "plt.tight_layout()\n",
    "# plt.axis('off')\n",
    "plt.xlabel('time')\n",
    "plt.xlim(0,200)\n",
    "plt.ylabel('shear rate')\n"
   ]
  },
  {
   "cell_type": "code",
   "execution_count": null,
   "id": "11ca7927",
   "metadata": {},
   "outputs": [],
   "source": [
    "from sklearn.neural_network import MLPRegressor\n",
    "from sklearn.metrics import mean_absolute_error\n",
    "\n",
    "train=np.loadtxt('train.dat', unpack = True)\n",
    "x_train = train[[0,1]].T\n",
    "y_train = train[2]\n",
    "\n",
    "clf = MLPRegressor(hidden_layer_sizes=(50,50,50),max_iter=50000)\n",
    "\n",
    "clf.fit(x_train, y_train)\n"
   ]
  },
  {
   "cell_type": "code",
   "execution_count": null,
   "id": "7fdf091b",
   "metadata": {},
   "outputs": [],
   "source": [
    "x = np.linspace(0, 200, 200)\n",
    "t = np.linspace(0, 200, 200)\n",
    "X, T = np.meshgrid(x, t)\n",
    "\n",
    "X_star = np.hstack((X.flatten()[:, None], T.flatten()[:, None]))\n",
    "\n",
    "prediction = clf.predict(X_star)\n",
    "\n",
    "pre_nn = griddata(X_star, prediction, (X, T), method=\"cubic\")\n",
    "\n",
    "fig, ax = plt.subplots()\n",
    "h=ax.contourf(X,T, pre_nn,cmap=\"viridis\",origin='lower', aspect='auto',interpolation='nearest')\n",
    "plt.xlabel('$t(s)$',fontproperties = 'Times New Roman', size = 14)\n",
    "plt.ylabel('$\\dot{\\gamma } ( s^{-1}) $ ',fontproperties = 'Times New Roman', size = 14 )\n",
    "plt.title('$\\mathbf{\\lambda _{FNN}}$ ',fontproperties = 'Times New Roman', size = 14)\n",
    "\n",
    "from mpl_toolkits.axes_grid1 import make_axes_locatable\n",
    "divider = make_axes_locatable(ax)\n",
    "cax = divider.append_axes(\"right\", size=\"5%\", pad=0.05)\n",
    "fig.colorbar(h, cax=cax)\n",
    "plt.savefig('FNN_pre.png',dpi=600,bbox_inches = 'tight')"
   ]
  },
  {
   "cell_type": "code",
   "execution_count": null,
   "id": "bcd9e81e",
   "metadata": {},
   "outputs": [],
   "source": [
    "err_nn = abs(pre_nn-ext)\n",
    "fig, ax = plt.subplots()\n",
    "h=ax.contourf(X,T, err_nn,cmap=\"viridis\",origin='lower', aspect='auto',interpolation='nearest')\n",
    "plt.xlabel('$t(s)$',fontproperties = 'Times New Roman', size = 14)\n",
    "plt.ylabel('$\\dot{\\gamma } ( s^{-1}) $ ',fontproperties = 'Times New Roman', size = 14 )\n",
    "plt.title(r'$\\mathbf{\\varepsilon_{\\lambda ,FNN} }$ ',fontproperties = 'Times New Roman', size = 14)\n",
    "\n",
    "from mpl_toolkits.axes_grid1 import make_axes_locatable\n",
    "divider = make_axes_locatable(ax)\n",
    "cax = divider.append_axes(\"right\", size=\"5%\", pad=0.05)\n",
    "fig.colorbar(h, cax=cax)\n",
    "plt.savefig('FNN_err.png',dpi=600,bbox_inches = 'tight')"
   ]
  },
  {
   "cell_type": "code",
   "execution_count": null,
   "id": "1cce9c30",
   "metadata": {},
   "outputs": [],
   "source": [
    "from sklearn.metrics import mean_squared_error\n",
    "mean_squared_error(pre,ext)"
   ]
  },
  {
   "cell_type": "code",
   "execution_count": null,
   "id": "bbab4980",
   "metadata": {},
   "outputs": [],
   "source": [
    "mean_squared_error(pre_nn,ext)"
   ]
  },
  {
   "cell_type": "code",
   "execution_count": null,
   "id": "ac611c7b",
   "metadata": {},
   "outputs": [],
   "source": []
  },
  {
   "cell_type": "code",
   "execution_count": null,
   "id": "460f4d54",
   "metadata": {},
   "outputs": [],
   "source": [
    "d={'RheologyNet of lambda':[0.0003,0.0021,0.0005],'FNN of lambda':[0.0023,0.0034,0.0041],'RheologyNet of shear':[0.0003,0.0021,0.0005],'FNN of shear':[0.0023,0.0034,0.0041]}\n",
    "data=pd.DataFrame(data=d)\n",
    "plt.boxplot(data)\n",
    "plt.xticks([1,2,3,4],['RheologyNet','FNN','Rhe','N'])\n",
    "# plt.yscale('log')\n",
    "# plt.ylim(0,1)\n"
   ]
  },
  {
   "cell_type": "code",
   "execution_count": null,
   "id": "58f7ccff",
   "metadata": {},
   "outputs": [],
   "source": []
  }
 ],
 "metadata": {
  "kernelspec": {
   "display_name": "Python 3 (ipykernel)",
   "language": "python",
   "name": "python3"
  },
  "language_info": {
   "codemirror_mode": {
    "name": "ipython",
    "version": 3
   },
   "file_extension": ".py",
   "mimetype": "text/x-python",
   "name": "python",
   "nbconvert_exporter": "python",
   "pygments_lexer": "ipython3",
   "version": "3.7.7"
  }
 },
 "nbformat": 4,
 "nbformat_minor": 5
}
