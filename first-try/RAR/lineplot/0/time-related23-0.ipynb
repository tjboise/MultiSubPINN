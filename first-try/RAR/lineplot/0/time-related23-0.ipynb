{
 "cells": [
  {
   "cell_type": "code",
   "execution_count": 1,
   "id": "fda4952d",
   "metadata": {},
   "outputs": [
    {
     "name": "stderr",
     "output_type": "stream",
     "text": [
      "Using backend: tensorflow.compat.v1\n",
      "\n"
     ]
    },
    {
     "name": "stdout",
     "output_type": "stream",
     "text": [
      "WARNING:tensorflow:From /Users/zhangtianjie/opt/anaconda3/envs/tf/lib/python3.7/site-packages/tensorflow/python/compat/v2_compat.py:107: disable_resource_variables (from tensorflow.python.ops.variable_scope) is deprecated and will be removed in a future version.\n",
      "Instructions for updating:\n",
      "non-resource variables are not supported in the long term\n",
      "WARNING:tensorflow:From /Users/zhangtianjie/opt/anaconda3/envs/tf/lib/python3.7/site-packages/deepxde/nn/initializers.py:118: The name tf.keras.initializers.he_normal is deprecated. Please use tf.compat.v1.keras.initializers.he_normal instead.\n",
      "\n"
     ]
    }
   ],
   "source": [
    "import deepxde as dde\n",
    "import numpy as np\n",
    "import matplotlib.pyplot as plt\n",
    "import matplotlib.gridspec as gridspec\n",
    "from scipy.interpolate import griddata\n",
    "import scipy.io\n",
    "import tensorflow as tf"
   ]
  },
  {
   "cell_type": "code",
   "execution_count": 2,
   "id": "3ca45582",
   "metadata": {},
   "outputs": [],
   "source": [
    "from PIL import Image\n",
    "\n",
    "import numpy as np\n",
    "import torch\n",
    "import torch.nn as nn\n",
    "import matplotlib.pyplot as plt\n",
    "import torch\n",
    "import math\n",
    "import pandas as pd"
   ]
  },
  {
   "cell_type": "code",
   "execution_count": 3,
   "id": "98525ec5",
   "metadata": {},
   "outputs": [],
   "source": [
    "def bingham(y):\n",
    "    #shear stress: t\n",
    "    #shear rate:y\n",
    "    y_f = 12.1\n",
    "    A_0 = 43.6    \n",
    "    A_1 =131.2    \n",
    "    C = 56.1\n",
    "    lam=0\n",
    "    t = y_f+(A_0+(A_1-A_0)*lam)*(np.arcsinh(y/C))\n",
    "    return t\n",
    "\n",
    "class FCN(nn.Module):\n",
    "    \"Defines a connected network\"\n",
    "    \n",
    "    def __init__(self, N_INPUT, N_OUTPUT, N_HIDDEN, N_LAYERS):\n",
    "        super().__init__()\n",
    "        activation = nn.Tanh\n",
    "        self.fcs = nn.Sequential(*[\n",
    "                        nn.Linear(N_INPUT, N_HIDDEN),\n",
    "                        activation()])\n",
    "        self.fch = nn.Sequential(*[\n",
    "                        nn.Sequential(*[\n",
    "                            nn.Linear(N_HIDDEN, N_HIDDEN),\n",
    "                            activation()]) for _ in range(N_LAYERS-1)])\n",
    "        self.fce = nn.Linear(N_HIDDEN, N_OUTPUT)\n",
    "        \n",
    "    def forward(self, x):\n",
    "        x = self.fcs(x)\n",
    "        x = self.fch(x)\n",
    "        x = self.fce(x)\n",
    "        return x"
   ]
  },
  {
   "cell_type": "code",
   "execution_count": 4,
   "id": "1269a622",
   "metadata": {
    "scrolled": false
   },
   "outputs": [
    {
     "name": "stdout",
     "output_type": "stream",
     "text": [
      "Compiling model...\n",
      "Building feed-forward neural network...\n",
      "'build' took 0.052607 s\n",
      "\n",
      "'compile' took 0.181643 s\n",
      "\n",
      "Initializing variables...\n"
     ]
    },
    {
     "name": "stderr",
     "output_type": "stream",
     "text": [
      "/Users/zhangtianjie/opt/anaconda3/envs/tf/lib/python3.7/site-packages/deepxde/nn/tensorflow_compat_v1/fnn.py:110: UserWarning: `tf.layers.dense` is deprecated and will be removed in a future version. Please use `tf.keras.layers.Dense` instead.\n",
      "  kernel_constraint=self.kernel_constraint,\n",
      "2022-10-09 13:06:57.170310: I tensorflow/core/platform/cpu_feature_guard.cc:193] This TensorFlow binary is optimized with oneAPI Deep Neural Network Library (oneDNN) to use the following CPU instructions in performance-critical operations:  AVX2 FMA\n",
      "To enable them in other operations, rebuild TensorFlow with the appropriate compiler flags.\n",
      "2022-10-09 13:06:57.303767: I tensorflow/compiler/mlir/mlir_graph_optimization_pass.cc:354] MLIR V1 optimization pass is not enabled\n"
     ]
    },
    {
     "name": "stdout",
     "output_type": "stream",
     "text": [
      "Training model...\n",
      "\n",
      "Step      Train loss    Test loss     Test metric   \n",
      "0         [5.58e+03]    [4.91e+03]    [1.00e+00]    \n"
     ]
    },
    {
     "name": "stderr",
     "output_type": "stream",
     "text": [
      "2022-10-09 13:06:57.336179: W tensorflow/compiler/jit/mark_for_compilation_pass.cc:1750] (One-time warning): Not using XLA:CPU for cluster.\n",
      "\n",
      "If you want XLA:CPU, do one of the following:\n",
      "\n",
      " - set the TF_XLA_FLAGS to include \"--tf_xla_cpu_global_jit\", or\n",
      " - set cpu_global_jit to true on this session's OptimizerOptions, or\n",
      " - use experimental_jit_scope, or\n",
      " - use tf.function(jit_compile=True).\n",
      "\n",
      "To confirm that XLA is active, pass --vmodule=xla_compilation_cache=1 (as a\n",
      "proper command-line flag, not via TF_XLA_FLAGS).\n"
     ]
    },
    {
     "name": "stdout",
     "output_type": "stream",
     "text": [
      "1000      [1.01e+03]    [7.10e+02]    [3.81e-01]    \n",
      "2000      [1.67e+02]    [8.31e+01]    [1.30e-01]    \n",
      "3000      [2.02e+01]    [5.79e+00]    [3.44e-02]    \n",
      "4000      [1.75e+00]    [2.47e-01]    [7.11e-03]    \n",
      "5000      [3.63e-01]    [3.17e-01]    [8.05e-03]    \n",
      "6000      [1.33e-02]    [5.65e-03]    [1.07e-03]    \n",
      "7000      [2.70e-03]    [5.17e-03]    [1.03e-03]    \n",
      "8000      [2.11e-03]    [4.69e-03]    [9.79e-04]    \n",
      "9000      [8.99e-03]    [1.20e-02]    [1.57e-03]    \n",
      "10000     [2.63e-03]    [5.55e-03]    [1.07e-03]    \n",
      "11000     [8.32e-02]    [9.82e-02]    [4.48e-03]    \n",
      "12000     [1.13e-02]    [1.49e-02]    [1.75e-03]    \n",
      "13000     [3.81e-02]    [4.52e-02]    [3.04e-03]    \n",
      "14000     [1.06e-02]    [1.42e-02]    [1.71e-03]    \n",
      "15000     [1.14e-02]    [1.51e-02]    [1.76e-03]    \n",
      "16000     [1.20e-02]    [1.35e-02]    [1.66e-03]    \n",
      "17000     [2.02e-01]    [2.22e-01]    [6.74e-03]    \n",
      "18000     [1.25e-02]    [1.59e-02]    [1.80e-03]    \n",
      "19000     [4.39e-03]    [7.13e-03]    [1.21e-03]    \n",
      "20000     [4.48e-03]    [6.32e-03]    [1.14e-03]    \n",
      "21000     [2.91e-02]    [3.28e-02]    [2.59e-03]    \n",
      "22000     [3.89e-03]    [5.74e-03]    [1.08e-03]    \n",
      "23000     [2.86e-03]    [4.62e-03]    [9.73e-04]    \n",
      "24000     [2.54e-02]    [2.86e-02]    [2.42e-03]    \n",
      "25000     [1.51e-03]    [3.37e-03]    [8.31e-04]    \n",
      "26000     [1.18e-03]    [2.53e-03]    [7.19e-04]    \n",
      "27000     [4.25e-04]    [1.82e-03]    [6.10e-04]    \n",
      "28000     [9.48e-03]    [1.07e-02]    [1.48e-03]    \n",
      "29000     [9.81e-03]    [1.10e-02]    [1.50e-03]    \n",
      "30000     [6.04e-04]    [1.52e-03]    [5.58e-04]    \n",
      "31000     [4.16e-03]    [5.60e-03]    [1.07e-03]    \n",
      "32000     [4.97e-04]    [1.32e-03]    [5.20e-04]    \n",
      "33000     [1.21e-03]    [2.01e-03]    [6.42e-04]    \n",
      "34000     [3.67e-04]    [1.24e-03]    [5.05e-04]    \n",
      "35000     [4.81e-04]    [1.27e-03]    [5.11e-04]    \n",
      "36000     [1.77e-02]    [1.95e-02]    [2.00e-03]    \n",
      "37000     [8.17e-04]    [1.66e-03]    [5.83e-04]    \n",
      "38000     [4.76e-02]    [5.03e-02]    [3.21e-03]    \n",
      "39000     [4.03e-04]    [1.13e-03]    [4.82e-04]    \n",
      "40000     [3.32e-03]    [4.35e-03]    [9.43e-04]    \n",
      "41000     [5.32e-03]    [6.06e-03]    [1.11e-03]    \n",
      "42000     [4.81e-04]    [1.24e-03]    [5.04e-04]    \n",
      "43000     [2.76e-03]    [3.80e-03]    [8.82e-04]    \n",
      "44000     [4.87e-04]    [1.24e-03]    [5.04e-04]    \n",
      "45000     [2.05e-03]    [2.61e-03]    [7.31e-04]    \n",
      "46000     [1.42e-03]    [2.20e-03]    [6.71e-04]    \n",
      "47000     [1.04e-02]    [1.12e-02]    [1.52e-03]    \n",
      "48000     [6.50e-04]    [1.67e-03]    [5.85e-04]    \n",
      "49000     [1.01e-03]    [2.24e-03]    [6.77e-04]    \n",
      "50000     [1.28e-02]    [1.38e-02]    [1.68e-03]    \n",
      "\n",
      "Best model at step 34000:\n",
      "  train loss: 3.67e-04\n",
      "  test loss: 1.24e-03\n",
      "  test metric: [5.05e-04]\n",
      "\n",
      "'train' took 22.400926 s\n",
      "\n",
      "Saving loss history to /Users/zhangtianjie/Documents/GitHub/PINN/classic_PDE/time-related/RheologyNet_paper/equation23_2/lineplot/0/loss.dat ...\n",
      "Saving training data to /Users/zhangtianjie/Documents/GitHub/PINN/classic_PDE/time-related/RheologyNet_paper/equation23_2/lineplot/0/train.dat ...\n",
      "Saving test data to /Users/zhangtianjie/Documents/GitHub/PINN/classic_PDE/time-related/RheologyNet_paper/equation23_2/lineplot/0/test.dat ...\n"
     ]
    },
    {
     "data": {
      "image/png": "[encoded data removed]",
      "text/plain": [
       "<Figure size 432x288 with 1 Axes>"
      ]
     },
     "metadata": {
      "needs_background": "light"
     },
     "output_type": "display_data"
    },
    {
     "data": {
      "image/png": "[encoded data removed]",
      "text/plain": [
       "<Figure size 432x288 with 1 Axes>"
      ]
     },
     "metadata": {
      "needs_background": "light"
     },
     "output_type": "display_data"
    }
   ],
   "source": [
    "def PDE(x,y):\n",
    "    #shear stress: t\n",
    "    #shear rate:y\n",
    "    y_f = 12.1\n",
    "    A_0 = 43.6\n",
    "    \n",
    "    A_1 =131.2\n",
    "    \n",
    "    C = 56.1\n",
    "\n",
    "    lam=0\n",
    "    \n",
    "    \n",
    "    eq1 = y_f+(A_0+(A_1-A_0)*lam)*(tf.math.asinh(x/C))-y\n",
    "    \n",
    "#     eq2 = y_f+(A_0)*(tf.math.asinh(x/C))-y[:,1:2]\n",
    "\n",
    "    \n",
    "    \n",
    "    return eq1\n",
    "\n",
    "def func(x):\n",
    "    \n",
    "    return bingham(x)\n",
    "\n",
    "geom = dde.geometry.TimeDomain(0, 200)\n",
    "data = dde.data.TimePDE(geom, PDE, [], 35, 10,train_distribution='pseudo',solution=func, num_test=1000)\n",
    "\n",
    "layer_size = [1] + [50] * 3 + [1]\n",
    "activation = \"tanh\"\n",
    "initializer = \"Glorot uniform\"\n",
    "net = dde.maps.FNN(layer_size, activation, initializer)\n",
    "\n",
    "model = dde.Model(data, net)\n",
    "model.compile(\"adam\", lr=0.001, metrics=[\"l2 relative error\"])\n",
    "losshistory, train_state = model.train(epochs=50000)\n",
    "\n",
    "dde.saveplot(losshistory, train_state, issave=True, isplot=True)"
   ]
  },
  {
   "cell_type": "code",
   "execution_count": 5,
   "id": "a4dcd15d",
   "metadata": {},
   "outputs": [],
   "source": [
    "train0=np.loadtxt('train.dat', unpack = True)\n",
    "train = torch.from_numpy(train0)\n",
    "test0=np.loadtxt('test.dat', unpack = True)\n",
    "test = torch.from_numpy(test0)"
   ]
  },
  {
   "cell_type": "code",
   "execution_count": 6,
   "id": "7226a12e",
   "metadata": {},
   "outputs": [
    {
     "data": {
      "image/png": "[encoded data removed]",
      "text/plain": [
       "<Figure size 432x288 with 1 Axes>"
      ]
     },
     "metadata": {
      "needs_background": "light"
     },
     "output_type": "display_data"
    }
   ],
   "source": [
    "# get the analytical solution over the full domain\n",
    "x = torch.linspace(0,200,2000).view(-1,1)\n",
    "y = bingham(x).view(-1,1)\n",
    "# # slice out a small number of points from the LHS of the domain\n",
    "x_train = x[0:100:5]\n",
    "# y_train = y[0:100:5]\n",
    "#print(x_train)\n",
    "\n",
    "plt.figure()\n",
    "plt.plot(x, y, label=\"Exact solution\")\n",
    "plt.scatter(train[0].view(-1,1), train[1].view(-1,1), color=\"tab:orange\", label=\"Training data\")\n",
    "plt.legend()\n",
    "plt.show()"
   ]
  },
  {
   "cell_type": "code",
   "execution_count": 7,
   "id": "18902771",
   "metadata": {
    "scrolled": false
   },
   "outputs": [
    {
     "name": "stdout",
     "output_type": "stream",
     "text": [
      "=====epochs===== 0\n",
      "=====epochs===== 10000\n",
      "=====epochs===== 20000\n",
      "=====epochs===== 30000\n",
      "=====epochs===== 40000\n"
     ]
    }
   ],
   "source": [
    "torch.manual_seed(123)\n",
    "model = FCN(1,1,50,5)\n",
    "optimizer = torch.optim.Adam(model.parameters(),lr=1e-4)\n",
    "files = []\n",
    "losses = []\n",
    "for i in range(50000):\n",
    "    \n",
    "    if i%10000==0:\n",
    "        print('=====epochs=====',i)\n",
    "    optimizer.zero_grad()\n",
    "    yh = model(train[0].view(-1,1).float())\n",
    "    loss = torch.mean((yh-train[1].view(-1,1).float())**2)# use mean squared error\n",
    "    loss.backward()\n",
    "    optimizer.step()\n",
    "    \n",
    "    losses.append(loss.detach().numpy())"
   ]
  },
  {
   "cell_type": "code",
   "execution_count": 8,
   "id": "fe2378af",
   "metadata": {},
   "outputs": [],
   "source": [
    "x_test = test[0].view(-1,1).float()\n",
    "y_test=model(x_test)"
   ]
  },
  {
   "cell_type": "code",
   "execution_count": 9,
   "id": "61a042ca",
   "metadata": {},
   "outputs": [
    {
     "data": {
      "image/png": "[encoded data removed]",
      "text/plain": [
       "<Figure size 432x288 with 1 Axes>"
      ]
     },
     "metadata": {
      "needs_background": "light"
     },
     "output_type": "display_data"
    }
   ],
   "source": [
    "#plt.figure(figsize=(4,4))\n",
    "\n",
    "plt.plot(x_test.detach().numpy(),y_test.detach().numpy(), color=\"tab:blue\", linewidth=2, alpha=0.8, label=\"Neural network prediction\")\n",
    "plt.plot(x,y, '--r', label=\"Exact solution\")\n",
    "plt.scatter(train[0].detach().numpy(), train[1].detach().numpy(), s=30, color=\"green\", alpha=0.4, label='Training data')\n",
    "plt.legend()\n",
    "# plt.ylim((0,1400))\n",
    "plt.title('Neural Network Prediction')\n",
    "plt.xlabel('Shear rate')\n",
    "plt.ylabel('Shear stress')\n",
    "# plt.yscale('log')\n",
    "# plt.xscale('log')\n",
    "nndata=pd.DataFrame(x_test.detach().numpy())\n",
    "nndata[1]=pd.DataFrame(y_test.detach().numpy())\n",
    "nndata.to_csv('nntest.csv')\n",
    "plt.savefig('NN.png',dpi=600,bbox_inches = 'tight')"
   ]
  },
  {
   "cell_type": "code",
   "execution_count": 10,
   "id": "bdc60610",
   "metadata": {
    "scrolled": true
   },
   "outputs": [
    {
     "data": {
      "text/plain": [
       "Text(0, 0.5, 'Loss')"
      ]
     },
     "execution_count": 10,
     "metadata": {},
     "output_type": "execute_result"
    },
    {
     "data": {
      "image/png": "[encoded data removed]",
      "text/plain": [
       "<Figure size 288x288 with 1 Axes>"
      ]
     },
     "metadata": {
      "needs_background": "light"
     },
     "output_type": "display_data"
    }
   ],
   "source": [
    "import pandas as pd\n",
    "plt.figure(figsize=(4,4))\n",
    "losses1=pd.DataFrame(losses)\n",
    "losses1.to_csv('nnloss.csv')\n",
    "#x= np.linspace(0, 13000, 15)\n",
    "plt.plot(losses1)#,label='loss')\n",
    "#plt.legend()\n",
    "\n",
    "#plt.ylim(1e-9,1e6)\n",
    "plt.title('Traning Procedure')\n",
    "plt.xlabel('Epoch')\n",
    "plt.ylabel('Loss')\n"
   ]
  },
  {
   "cell_type": "code",
   "execution_count": 11,
   "id": "ed6169f8",
   "metadata": {},
   "outputs": [],
   "source": [
    "LOSS=losses1.rename(columns={0:'nn'})"
   ]
  },
  {
   "cell_type": "code",
   "execution_count": 12,
   "id": "65ada995",
   "metadata": {},
   "outputs": [
    {
     "data": {
      "text/html": [
       "<div>\n",
       "<style scoped>\n",
       "    .dataframe tbody tr th:only-of-type {\n",
       "        vertical-align: middle;\n",
       "    }\n",
       "\n",
       "    .dataframe tbody tr th {\n",
       "        vertical-align: top;\n",
       "    }\n",
       "\n",
       "    .dataframe thead th {\n",
       "        text-align: right;\n",
       "    }\n",
       "</style>\n",
       "<table border=\"1\" class=\"dataframe\">\n",
       "  <thead>\n",
       "    <tr style=\"text-align: right;\">\n",
       "      <th></th>\n",
       "      <th>nn</th>\n",
       "    </tr>\n",
       "  </thead>\n",
       "  <tbody>\n",
       "    <tr>\n",
       "      <th>0</th>\n",
       "      <td>5551.953613</td>\n",
       "    </tr>\n",
       "    <tr>\n",
       "      <th>1</th>\n",
       "      <td>5550.856445</td>\n",
       "    </tr>\n",
       "    <tr>\n",
       "      <th>2</th>\n",
       "      <td>5549.752441</td>\n",
       "    </tr>\n",
       "    <tr>\n",
       "      <th>3</th>\n",
       "      <td>5548.642578</td>\n",
       "    </tr>\n",
       "    <tr>\n",
       "      <th>4</th>\n",
       "      <td>5547.525879</td>\n",
       "    </tr>\n",
       "    <tr>\n",
       "      <th>...</th>\n",
       "      <td>...</td>\n",
       "    </tr>\n",
       "    <tr>\n",
       "      <th>49995</th>\n",
       "      <td>0.008982</td>\n",
       "    </tr>\n",
       "    <tr>\n",
       "      <th>49996</th>\n",
       "      <td>0.009320</td>\n",
       "    </tr>\n",
       "    <tr>\n",
       "      <th>49997</th>\n",
       "      <td>0.009363</td>\n",
       "    </tr>\n",
       "    <tr>\n",
       "      <th>49998</th>\n",
       "      <td>0.009029</td>\n",
       "    </tr>\n",
       "    <tr>\n",
       "      <th>49999</th>\n",
       "      <td>0.009015</td>\n",
       "    </tr>\n",
       "  </tbody>\n",
       "</table>\n",
       "<p>50000 rows × 1 columns</p>\n",
       "</div>"
      ],
      "text/plain": [
       "                nn\n",
       "0      5551.953613\n",
       "1      5550.856445\n",
       "2      5549.752441\n",
       "3      5548.642578\n",
       "4      5547.525879\n",
       "...            ...\n",
       "49995     0.008982\n",
       "49996     0.009320\n",
       "49997     0.009363\n",
       "49998     0.009029\n",
       "49999     0.009015\n",
       "\n",
       "[50000 rows x 1 columns]"
      ]
     },
     "execution_count": 12,
     "metadata": {},
     "output_type": "execute_result"
    }
   ],
   "source": [
    "LOSS"
   ]
  },
  {
   "cell_type": "code",
   "execution_count": null,
   "id": "577af372",
   "metadata": {},
   "outputs": [],
   "source": []
  },
  {
   "cell_type": "code",
   "execution_count": 13,
   "id": "0c8ac167",
   "metadata": {},
   "outputs": [],
   "source": [
    "# import pandas as pd\n",
    "# test1=np.loadtxt('test.dat', unpack = True)\n",
    "# f = pd.DataFrame(test1.T, columns = ['x','y','z'])\n",
    "# f"
   ]
  },
  {
   "cell_type": "code",
   "execution_count": 14,
   "id": "437659ac",
   "metadata": {},
   "outputs": [],
   "source": [
    "# x = torch.linspace(0,200,20).view(-1,1)\n",
    "# y = bingham(x).view(-1,1)"
   ]
  },
  {
   "cell_type": "code",
   "execution_count": 15,
   "id": "21f8c03a",
   "metadata": {},
   "outputs": [],
   "source": [
    "# plt.plot(f['x'],f['y'])\n",
    "\n",
    "# plt.plot(x, y,'--r', label=\"Exact solution\")\n",
    "\n"
   ]
  },
  {
   "cell_type": "code",
   "execution_count": null,
   "id": "3e72f993",
   "metadata": {},
   "outputs": [],
   "source": []
  },
  {
   "cell_type": "code",
   "execution_count": 16,
   "id": "8fd96382",
   "metadata": {},
   "outputs": [],
   "source": [
    "# train=np.loadtxt('train.dat', unpack = True)\n",
    "# train1 = pd.DataFrame(train.T)\n",
    "# train1"
   ]
  },
  {
   "cell_type": "code",
   "execution_count": 17,
   "id": "2d822e75",
   "metadata": {},
   "outputs": [],
   "source": [
    "# plt.plot(f['x'],f['y'],c='black')\n",
    "\n",
    "# # plt.plot(x, y,'--r', label=\"Exact solution\")\n",
    "\n",
    "# plt.scatter(xnn.detach().numpy(),y_test.detach().numpy(),marker='o', color=\"tab:blue\", linewidth=0.2, alpha=0.8, label=\"Neural network prediction\")\n",
    "# plt.plot(x, y,'--r', label=\"Exact solution\")\n",
    "# #plt.scatter(train1[0],train1[1])"
   ]
  },
  {
   "cell_type": "code",
   "execution_count": 18,
   "id": "b2cb6465",
   "metadata": {},
   "outputs": [],
   "source": [
    "# loss=np.loadtxt('loss.dat', unpack = True)\n",
    "# loss1 = pd.DataFrame(loss.T)\n",
    "# loss1\n",
    "\n",
    "# plt.plot(loss1[0],loss1[1],label='Train Loss')\n",
    "# plt.plot(loss1[0],loss1[2],label='Test Loss')\n",
    "# plt.plot(loss1[0],loss1[3],label='Test Metric')\n",
    "# plt.yscale('log')\n",
    "# plt.xlabel('Epochs')\n",
    "\n",
    "# plt.legend()"
   ]
  },
  {
   "cell_type": "code",
   "execution_count": null,
   "id": "dc149ca6",
   "metadata": {},
   "outputs": [],
   "source": []
  }
 ],
 "metadata": {
  "kernelspec": {
   "display_name": "Python 3 (ipykernel)",
   "language": "python",
   "name": "python3"
  },
  "language_info": {
   "codemirror_mode": {
    "name": "ipython",
    "version": 3
   },
   "file_extension": ".py",
   "mimetype": "text/x-python",
   "name": "python",
   "nbconvert_exporter": "python",
   "pygments_lexer": "ipython3",
   "version": "3.7.7"
  }
 },
 "nbformat": 4,
 "nbformat_minor": 5
}
